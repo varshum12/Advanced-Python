{
 "cells": [
  {
   "cell_type": "code",
   "execution_count": 3,
   "id": "b623a341",
   "metadata": {},
   "outputs": [
    {
     "name": "stdout",
     "output_type": "stream",
     "text": [
      "Collecting python-dotenv\n",
      "  Downloading python_dotenv-1.1.0-py3-none-any.whl.metadata (24 kB)\n",
      "Downloading python_dotenv-1.1.0-py3-none-any.whl (20 kB)\n",
      "Installing collected packages: python-dotenv\n",
      "Successfully installed python-dotenv-1.1.0\n",
      "Note: you may need to restart the kernel to use updated packages.\n"
     ]
    },
    {
     "name": "stderr",
     "output_type": "stream",
     "text": [
      "\n",
      "[notice] A new release of pip is available: 25.1 -> 25.1.1\n",
      "[notice] To update, run: python.exe -m pip install --upgrade pip\n"
     ]
    }
   ],
   "source": [
    "%pip install python-dotenv"
   ]
  },
  {
   "cell_type": "code",
   "execution_count": 4,
   "id": "24a1a00c",
   "metadata": {},
   "outputs": [
    {
     "name": "stdout",
     "output_type": "stream",
     "text": [
      "Requirement already satisfied: plotly in e:\\advanced_python\\repository\\venv\\lib\\site-packages (6.0.1)\n",
      "Requirement already satisfied: narwhals>=1.15.1 in e:\\advanced_python\\repository\\venv\\lib\\site-packages (from plotly) (1.33.0)\n",
      "Requirement already satisfied: packaging in e:\\advanced_python\\repository\\venv\\lib\\site-packages (from plotly) (24.2)\n",
      "Note: you may need to restart the kernel to use updated packages.\n"
     ]
    },
    {
     "name": "stderr",
     "output_type": "stream",
     "text": [
      "\n",
      "[notice] A new release of pip is available: 25.1 -> 25.1.1\n",
      "[notice] To update, run: python.exe -m pip install --upgrade pip\n"
     ]
    }
   ],
   "source": [
    "%pip install plotly\n"
   ]
  },
  {
   "cell_type": "code",
   "execution_count": 7,
   "id": "c1e074d9",
   "metadata": {},
   "outputs": [
    {
     "data": {
      "text/plain": [
       "True"
      ]
     },
     "execution_count": 7,
     "metadata": {},
     "output_type": "execute_result"
    }
   ],
   "source": [
    "import requests\n",
    "from dotenv import load_dotenv\n",
    "load_dotenv()"
   ]
  },
  {
   "cell_type": "code",
   "execution_count": 8,
   "id": "14d6d378",
   "metadata": {},
   "outputs": [],
   "source": [
    "import os\n",
    "api_key = os.getenv(\"API_KEY\")\n"
   ]
  },
  {
   "cell_type": "code",
   "execution_count": null,
   "id": "23c6995a",
   "metadata": {},
   "outputs": [],
   "source": []
  },
  {
   "cell_type": "markdown",
   "id": "03badf90",
   "metadata": {},
   "source": [
    "### Extract Symbols"
   ]
  },
  {
   "cell_type": "code",
   "execution_count": null,
   "id": "a6900c01",
   "metadata": {},
   "outputs": [],
   "source": []
  },
  {
   "cell_type": "code",
   "execution_count": 11,
   "id": "86b60c62",
   "metadata": {},
   "outputs": [],
   "source": [
    "import requests\n",
    "\n",
    "url = \"https://alpha-vantage.p.rapidapi.com/query\"\n",
    "\n",
    "querystring = {\"datatype\":\"json\",\"keywords\":\"state bank of india\",\"function\":\"SYMBOL_SEARCH\"}\n",
    "\n",
    "headers = {\n",
    "\t\"x-rapidapi-key\": api_key,\n",
    "\t\"x-rapidapi-host\": \"alpha-vantage.p.rapidapi.com\"\n",
    "}\n",
    "\n",
    "response = requests.get(url, headers=headers, params=querystring)\n",
    "\n",
    "data = response.json() "
   ]
  },
  {
   "cell_type": "code",
   "execution_count": 12,
   "id": "04f5d9b0",
   "metadata": {},
   "outputs": [
    {
     "data": {
      "text/plain": [
       "{'bestMatches': [{'1. symbol': 'SBIN.BSE',\n",
       "   '2. name': 'State Bank of India',\n",
       "   '3. type': 'Equity',\n",
       "   '4. region': 'India/Bombay',\n",
       "   '5. marketOpen': '09:15',\n",
       "   '6. marketClose': '15:30',\n",
       "   '7. timezone': 'UTC+5.5',\n",
       "   '8. currency': 'INR',\n",
       "   '9. matchScore': '1.0000'},\n",
       "  {'1. symbol': 'SBKFF',\n",
       "   '2. name': 'State Bank of India',\n",
       "   '3. type': 'Equity',\n",
       "   '4. region': 'United States',\n",
       "   '5. marketOpen': '09:30',\n",
       "   '6. marketClose': '16:00',\n",
       "   '7. timezone': 'UTC-04',\n",
       "   '8. currency': 'USD',\n",
       "   '9. matchScore': '1.0000'},\n",
       "  {'1. symbol': 'SID.FRK',\n",
       "   '2. name': 'State Bank of India',\n",
       "   '3. type': 'Equity',\n",
       "   '4. region': 'Frankfurt',\n",
       "   '5. marketOpen': '08:00',\n",
       "   '6. marketClose': '20:00',\n",
       "   '7. timezone': 'UTC+02',\n",
       "   '8. currency': 'EUR',\n",
       "   '9. matchScore': '1.0000'},\n",
       "  {'1. symbol': 'SBID.LON',\n",
       "   '2. name': 'State Bank of India GDR',\n",
       "   '3. type': 'Equity',\n",
       "   '4. region': 'United Kingdom',\n",
       "   '5. marketOpen': '08:00',\n",
       "   '6. marketClose': '16:30',\n",
       "   '7. timezone': 'UTC+01',\n",
       "   '8. currency': 'USD',\n",
       "   '9. matchScore': '0.9048'}]}"
      ]
     },
     "execution_count": 12,
     "metadata": {},
     "output_type": "execute_result"
    }
   ],
   "source": [
    "data"
   ]
  },
  {
   "cell_type": "code",
   "execution_count": null,
   "id": "86bc4838",
   "metadata": {},
   "outputs": [
    {
     "data": {
      "text/plain": [
       "[{'1. symbol': 'SBIN.BSE',\n",
       "  '2. name': 'State Bank of India',\n",
       "  '3. type': 'Equity',\n",
       "  '4. region': 'India/Bombay',\n",
       "  '5. marketOpen': '09:15',\n",
       "  '6. marketClose': '15:30',\n",
       "  '7. timezone': 'UTC+5.5',\n",
       "  '8. currency': 'INR',\n",
       "  '9. matchScore': '1.0000'},\n",
       " {'1. symbol': 'SBKFF',\n",
       "  '2. name': 'State Bank of India',\n",
       "  '3. type': 'Equity',\n",
       "  '4. region': 'United States',\n",
       "  '5. marketOpen': '09:30',\n",
       "  '6. marketClose': '16:00',\n",
       "  '7. timezone': 'UTC-04',\n",
       "  '8. currency': 'USD',\n",
       "  '9. matchScore': '1.0000'},\n",
       " {'1. symbol': 'SID.FRK',\n",
       "  '2. name': 'State Bank of India',\n",
       "  '3. type': 'Equity',\n",
       "  '4. region': 'Frankfurt',\n",
       "  '5. marketOpen': '08:00',\n",
       "  '6. marketClose': '20:00',\n",
       "  '7. timezone': 'UTC+02',\n",
       "  '8. currency': 'EUR',\n",
       "  '9. matchScore': '1.0000'},\n",
       " {'1. symbol': 'SBID.LON',\n",
       "  '2. name': 'State Bank of India GDR',\n",
       "  '3. type': 'Equity',\n",
       "  '4. region': 'United Kingdom',\n",
       "  '5. marketOpen': '08:00',\n",
       "  '6. marketClose': '16:30',\n",
       "  '7. timezone': 'UTC+01',\n",
       "  '8. currency': 'USD',\n",
       "  '9. matchScore': '0.9048'}]"
      ]
     },
     "execution_count": 13,
     "metadata": {},
     "output_type": "execute_result"
    }
   ],
   "source": [
    "data['bestMatches']\n"
   ]
  },
  {
   "cell_type": "code",
   "execution_count": 14,
   "id": "e92c9e0f",
   "metadata": {},
   "outputs": [
    {
     "name": "stdout",
     "output_type": "stream",
     "text": [
      "{'1. symbol': 'SBIN.BSE', '2. name': 'State Bank of India', '3. type': 'Equity', '4. region': 'India/Bombay', '5. marketOpen': '09:15', '6. marketClose': '15:30', '7. timezone': 'UTC+5.5', '8. currency': 'INR', '9. matchScore': '1.0000'}\n",
      "{'1. symbol': 'SBKFF', '2. name': 'State Bank of India', '3. type': 'Equity', '4. region': 'United States', '5. marketOpen': '09:30', '6. marketClose': '16:00', '7. timezone': 'UTC-04', '8. currency': 'USD', '9. matchScore': '1.0000'}\n",
      "{'1. symbol': 'SID.FRK', '2. name': 'State Bank of India', '3. type': 'Equity', '4. region': 'Frankfurt', '5. marketOpen': '08:00', '6. marketClose': '20:00', '7. timezone': 'UTC+02', '8. currency': 'EUR', '9. matchScore': '1.0000'}\n",
      "{'1. symbol': 'SBID.LON', '2. name': 'State Bank of India GDR', '3. type': 'Equity', '4. region': 'United Kingdom', '5. marketOpen': '08:00', '6. marketClose': '16:30', '7. timezone': 'UTC+01', '8. currency': 'USD', '9. matchScore': '0.9048'}\n"
     ]
    }
   ],
   "source": [
    "for i in data[\"bestMatches\"]:\n",
    "    print(i)"
   ]
  },
  {
   "cell_type": "code",
   "execution_count": null,
   "id": "2291e05e",
   "metadata": {},
   "outputs": [
    {
     "name": "stdout",
     "output_type": "stream",
     "text": [
      "SBIN.BSE\n",
      "SBKFF\n",
      "SID.FRK\n",
      "SBID.LON\n"
     ]
    }
   ],
   "source": [
    "\n",
    "for i in data[\"bestMatches\"]:\n",
    "    print(i[\"1. symbol\"])"
   ]
  },
  {
   "cell_type": "code",
   "execution_count": 16,
   "id": "ee4a59e9",
   "metadata": {},
   "outputs": [
    {
     "name": "stdout",
     "output_type": "stream",
     "text": [
      "{'SBIN.BSE': ['State Bank of India', 'India/Bombay', 'INR'], 'SBKFF': ['State Bank of India', 'United States', 'USD'], 'SID.FRK': ['State Bank of India', 'Frankfurt', 'EUR'], 'SBID.LON': ['State Bank of India GDR', 'United Kingdom', 'USD']}\n"
     ]
    }
   ],
   "source": [
    "dict1  = {}\n",
    "for i in data['bestMatches']:\n",
    "    symbols = i[\"1. symbol\"]\n",
    "    dict1[symbols] =  [  i['2. name'] ,    i['4. region']  ,       i['8. currency']              ]\n",
    "print(dict1)"
   ]
  },
  {
   "cell_type": "markdown",
   "id": "03c2a901",
   "metadata": {},
   "source": [
    "## EXtract Data"
   ]
  },
  {
   "cell_type": "code",
   "execution_count": 58,
   "id": "0ae54699",
   "metadata": {},
   "outputs": [],
   "source": [
    "import requests\n",
    "\n",
    "url = \"https://alpha-vantage.p.rapidapi.com/query\"\n",
    "\n",
    "querystring = {\"function\":\"TIME_SERIES_DAILY\",\"symbol\":'SBKFF',\"outputsize\":\"compact\",\"datatype\":\"json\"}\n",
    "\n",
    "headers = {\n",
    "\t\"x-rapidapi-key\": \"7dd9fac50dmshac6c38af66d8473p18f43ajsnd7d57333f652\",\n",
    "\t\"x-rapidapi-host\": \"alpha-vantage.p.rapidapi.com\"\n",
    "}\n",
    "\n",
    "response = requests.get(url, headers=headers, params=querystring)\n",
    "\n",
    "data = response.json()"
   ]
  },
  {
   "cell_type": "code",
   "execution_count": 59,
   "id": "f85b8aed",
   "metadata": {},
   "outputs": [
    {
     "data": {
      "text/plain": [
       "{'Meta Data': {'1. Information': 'Daily Prices (open, high, low, close) and Volumes',\n",
       "  '2. Symbol': 'SBKFF',\n",
       "  '3. Last Refreshed': '2025-05-16',\n",
       "  '4. Output Size': 'Compact',\n",
       "  '5. Time Zone': 'US/Eastern'},\n",
       " 'Time Series (Daily)': {'2025-05-16': {'1. open': '100.2000',\n",
       "   '2. high': '100.2000',\n",
       "   '3. low': '100.2000',\n",
       "   '4. close': '100.2000',\n",
       "   '5. volume': '367'},\n",
       "  '2025-05-15': {'1. open': '100.2000',\n",
       "   '2. high': '100.2000',\n",
       "   '3. low': '100.2000',\n",
       "   '4. close': '100.2000',\n",
       "   '5. volume': '25'},\n",
       "  '2025-05-14': {'1. open': '100.2000',\n",
       "   '2. high': '100.2000',\n",
       "   '3. low': '100.2000',\n",
       "   '4. close': '100.2000',\n",
       "   '5. volume': '145'},\n",
       "  '2025-05-13': {'1. open': '87.8000',\n",
       "   '2. high': '87.8000',\n",
       "   '3. low': '87.8000',\n",
       "   '4. close': '87.8000',\n",
       "   '5. volume': '33'},\n",
       "  '2025-05-12': {'1. open': '87.8000',\n",
       "   '2. high': '87.8000',\n",
       "   '3. low': '87.8000',\n",
       "   '4. close': '87.8000',\n",
       "   '5. volume': '4'},\n",
       "  '2025-05-09': {'1. open': '87.8000',\n",
       "   '2. high': '87.8000',\n",
       "   '3. low': '87.8000',\n",
       "   '4. close': '87.8000',\n",
       "   '5. volume': '4'},\n",
       "  '2025-05-08': {'1. open': '87.8000',\n",
       "   '2. high': '87.8000',\n",
       "   '3. low': '87.8000',\n",
       "   '4. close': '87.8000',\n",
       "   '5. volume': '5'},\n",
       "  '2025-05-07': {'1. open': '87.8000',\n",
       "   '2. high': '87.8000',\n",
       "   '3. low': '87.8000',\n",
       "   '4. close': '87.8000',\n",
       "   '5. volume': '0'},\n",
       "  '2025-05-06': {'1. open': '87.8000',\n",
       "   '2. high': '87.8000',\n",
       "   '3. low': '87.8000',\n",
       "   '4. close': '87.8000',\n",
       "   '5. volume': '2'},\n",
       "  '2025-05-05': {'1. open': '87.8000',\n",
       "   '2. high': '87.8000',\n",
       "   '3. low': '87.8000',\n",
       "   '4. close': '87.8000',\n",
       "   '5. volume': '7'},\n",
       "  '2025-05-02': {'1. open': '87.8000',\n",
       "   '2. high': '87.8000',\n",
       "   '3. low': '87.8000',\n",
       "   '4. close': '87.8000',\n",
       "   '5. volume': '167'},\n",
       "  '2025-05-01': {'1. open': '87.8000',\n",
       "   '2. high': '87.8000',\n",
       "   '3. low': '87.8000',\n",
       "   '4. close': '87.8000',\n",
       "   '5. volume': '0'},\n",
       "  '2025-04-30': {'1. open': '87.8000',\n",
       "   '2. high': '87.8000',\n",
       "   '3. low': '87.8000',\n",
       "   '4. close': '87.8000',\n",
       "   '5. volume': '0'},\n",
       "  '2025-04-29': {'1. open': '87.8000',\n",
       "   '2. high': '87.8000',\n",
       "   '3. low': '87.8000',\n",
       "   '4. close': '87.8000',\n",
       "   '5. volume': '0'},\n",
       "  '2025-04-28': {'1. open': '87.8000',\n",
       "   '2. high': '87.8000',\n",
       "   '3. low': '87.8000',\n",
       "   '4. close': '87.8000',\n",
       "   '5. volume': '1'},\n",
       "  '2025-04-25': {'1. open': '87.8000',\n",
       "   '2. high': '87.8000',\n",
       "   '3. low': '87.8000',\n",
       "   '4. close': '87.8000',\n",
       "   '5. volume': '0'},\n",
       "  '2025-04-24': {'1. open': '87.8000',\n",
       "   '2. high': '87.8000',\n",
       "   '3. low': '87.8000',\n",
       "   '4. close': '87.8000',\n",
       "   '5. volume': '7'},\n",
       "  '2025-04-23': {'1. open': '87.8000',\n",
       "   '2. high': '87.8000',\n",
       "   '3. low': '87.8000',\n",
       "   '4. close': '87.8000',\n",
       "   '5. volume': '0'},\n",
       "  '2025-04-22': {'1. open': '87.8000',\n",
       "   '2. high': '87.8000',\n",
       "   '3. low': '87.8000',\n",
       "   '4. close': '87.8000',\n",
       "   '5. volume': '1'},\n",
       "  '2025-04-21': {'1. open': '87.8000',\n",
       "   '2. high': '87.8000',\n",
       "   '3. low': '87.8000',\n",
       "   '4. close': '87.8000',\n",
       "   '5. volume': '4'},\n",
       "  '2025-04-17': {'1. open': '87.8000',\n",
       "   '2. high': '87.8000',\n",
       "   '3. low': '87.8000',\n",
       "   '4. close': '87.8000',\n",
       "   '5. volume': '17'},\n",
       "  '2025-04-16': {'1. open': '87.8000',\n",
       "   '2. high': '87.8000',\n",
       "   '3. low': '87.8000',\n",
       "   '4. close': '87.8000',\n",
       "   '5. volume': '91'},\n",
       "  '2025-04-15': {'1. open': '87.8000',\n",
       "   '2. high': '87.8000',\n",
       "   '3. low': '87.8000',\n",
       "   '4. close': '87.8000',\n",
       "   '5. volume': '1'},\n",
       "  '2025-04-14': {'1. open': '87.8000',\n",
       "   '2. high': '87.8000',\n",
       "   '3. low': '87.8000',\n",
       "   '4. close': '87.8000',\n",
       "   '5. volume': '2'},\n",
       "  '2025-04-11': {'1. open': '87.8000',\n",
       "   '2. high': '87.8000',\n",
       "   '3. low': '87.8000',\n",
       "   '4. close': '87.8000',\n",
       "   '5. volume': '167'},\n",
       "  '2025-04-10': {'1. open': '94.1000',\n",
       "   '2. high': '94.1000',\n",
       "   '3. low': '94.1000',\n",
       "   '4. close': '94.1000',\n",
       "   '5. volume': '148'},\n",
       "  '2025-04-09': {'1. open': '94.1000',\n",
       "   '2. high': '94.1000',\n",
       "   '3. low': '94.1000',\n",
       "   '4. close': '94.1000',\n",
       "   '5. volume': '4'},\n",
       "  '2025-04-08': {'1. open': '94.1000',\n",
       "   '2. high': '94.1000',\n",
       "   '3. low': '94.1000',\n",
       "   '4. close': '94.1000',\n",
       "   '5. volume': '29'},\n",
       "  '2025-04-07': {'1. open': '94.1000',\n",
       "   '2. high': '94.1000',\n",
       "   '3. low': '94.1000',\n",
       "   '4. close': '94.1000',\n",
       "   '5. volume': '51'},\n",
       "  '2025-04-04': {'1. open': '94.1000',\n",
       "   '2. high': '94.1000',\n",
       "   '3. low': '94.1000',\n",
       "   '4. close': '94.1000',\n",
       "   '5. volume': '25'},\n",
       "  '2025-04-03': {'1. open': '94.1000',\n",
       "   '2. high': '94.1000',\n",
       "   '3. low': '94.1000',\n",
       "   '4. close': '94.1000',\n",
       "   '5. volume': '131'},\n",
       "  '2025-04-02': {'1. open': '85.0000',\n",
       "   '2. high': '85.0000',\n",
       "   '3. low': '85.0000',\n",
       "   '4. close': '85.0000',\n",
       "   '5. volume': '2'},\n",
       "  '2025-04-01': {'1. open': '85.0000',\n",
       "   '2. high': '85.0000',\n",
       "   '3. low': '85.0000',\n",
       "   '4. close': '85.0000',\n",
       "   '5. volume': '43'},\n",
       "  '2025-03-31': {'1. open': '85.0000',\n",
       "   '2. high': '85.0000',\n",
       "   '3. low': '85.0000',\n",
       "   '4. close': '85.0000',\n",
       "   '5. volume': '4'},\n",
       "  '2025-03-28': {'1. open': '85.0000',\n",
       "   '2. high': '85.0000',\n",
       "   '3. low': '85.0000',\n",
       "   '4. close': '85.0000',\n",
       "   '5. volume': '2'},\n",
       "  '2025-03-27': {'1. open': '85.0000',\n",
       "   '2. high': '85.0000',\n",
       "   '3. low': '85.0000',\n",
       "   '4. close': '85.0000',\n",
       "   '5. volume': '9'},\n",
       "  '2025-03-26': {'1. open': '85.0000',\n",
       "   '2. high': '85.0000',\n",
       "   '3. low': '85.0000',\n",
       "   '4. close': '85.0000',\n",
       "   '5. volume': '57'},\n",
       "  '2025-03-25': {'1. open': '85.0000',\n",
       "   '2. high': '85.0000',\n",
       "   '3. low': '85.0000',\n",
       "   '4. close': '85.0000',\n",
       "   '5. volume': '0'},\n",
       "  '2025-03-24': {'1. open': '85.0000',\n",
       "   '2. high': '85.0000',\n",
       "   '3. low': '85.0000',\n",
       "   '4. close': '85.0000',\n",
       "   '5. volume': '6'},\n",
       "  '2025-03-21': {'1. open': '85.0000',\n",
       "   '2. high': '85.0000',\n",
       "   '3. low': '85.0000',\n",
       "   '4. close': '85.0000',\n",
       "   '5. volume': '13'},\n",
       "  '2025-03-20': {'1. open': '85.0000',\n",
       "   '2. high': '85.0000',\n",
       "   '3. low': '85.0000',\n",
       "   '4. close': '85.0000',\n",
       "   '5. volume': '4'},\n",
       "  '2025-03-19': {'1. open': '85.0000',\n",
       "   '2. high': '85.0000',\n",
       "   '3. low': '85.0000',\n",
       "   '4. close': '85.0000',\n",
       "   '5. volume': '100'},\n",
       "  '2025-03-18': {'1. open': '89.5000',\n",
       "   '2. high': '89.5000',\n",
       "   '3. low': '89.5000',\n",
       "   '4. close': '89.5000',\n",
       "   '5. volume': '6'},\n",
       "  '2025-03-17': {'1. open': '89.5000',\n",
       "   '2. high': '89.5000',\n",
       "   '3. low': '89.5000',\n",
       "   '4. close': '89.5000',\n",
       "   '5. volume': '30'},\n",
       "  '2025-03-14': {'1. open': '89.5000',\n",
       "   '2. high': '89.5000',\n",
       "   '3. low': '89.5000',\n",
       "   '4. close': '89.5000',\n",
       "   '5. volume': '253'},\n",
       "  '2025-03-13': {'1. open': '83.3000',\n",
       "   '2. high': '83.3000',\n",
       "   '3. low': '83.3000',\n",
       "   '4. close': '83.3000',\n",
       "   '5. volume': '10'},\n",
       "  '2025-03-12': {'1. open': '83.3000',\n",
       "   '2. high': '83.3000',\n",
       "   '3. low': '83.3000',\n",
       "   '4. close': '83.3000',\n",
       "   '5. volume': '0'},\n",
       "  '2025-03-11': {'1. open': '83.3000',\n",
       "   '2. high': '83.3000',\n",
       "   '3. low': '83.3000',\n",
       "   '4. close': '83.3000',\n",
       "   '5. volume': '240'},\n",
       "  '2025-03-10': {'1. open': '83.0000',\n",
       "   '2. high': '83.0000',\n",
       "   '3. low': '83.0000',\n",
       "   '4. close': '83.0000',\n",
       "   '5. volume': '201'},\n",
       "  '2025-03-07': {'1. open': '83.8000',\n",
       "   '2. high': '83.8000',\n",
       "   '3. low': '83.8000',\n",
       "   '4. close': '83.8000',\n",
       "   '5. volume': '363'},\n",
       "  '2025-03-06': {'1. open': '80.7500',\n",
       "   '2. high': '80.7500',\n",
       "   '3. low': '80.7500',\n",
       "   '4. close': '80.7500',\n",
       "   '5. volume': '0'},\n",
       "  '2025-03-05': {'1. open': '80.7500',\n",
       "   '2. high': '80.7500',\n",
       "   '3. low': '80.7500',\n",
       "   '4. close': '80.7500',\n",
       "   '5. volume': '40'},\n",
       "  '2025-03-04': {'1. open': '80.7500',\n",
       "   '2. high': '80.7500',\n",
       "   '3. low': '80.7500',\n",
       "   '4. close': '80.7500',\n",
       "   '5. volume': '73'},\n",
       "  '2025-03-03': {'1. open': '80.7500',\n",
       "   '2. high': '80.7500',\n",
       "   '3. low': '80.7500',\n",
       "   '4. close': '80.7500',\n",
       "   '5. volume': '18'},\n",
       "  '2025-02-28': {'1. open': '80.7500',\n",
       "   '2. high': '80.7500',\n",
       "   '3. low': '80.7500',\n",
       "   '4. close': '80.7500',\n",
       "   '5. volume': '111'},\n",
       "  '2025-02-27': {'1. open': '80.7500',\n",
       "   '2. high': '80.7500',\n",
       "   '3. low': '80.7500',\n",
       "   '4. close': '80.7500',\n",
       "   '5. volume': '0'},\n",
       "  '2025-02-26': {'1. open': '80.7500',\n",
       "   '2. high': '80.7500',\n",
       "   '3. low': '80.7500',\n",
       "   '4. close': '80.7500',\n",
       "   '5. volume': '107'},\n",
       "  '2025-02-25': {'1. open': '80.7500',\n",
       "   '2. high': '80.7500',\n",
       "   '3. low': '80.7500',\n",
       "   '4. close': '80.7500',\n",
       "   '5. volume': '0'},\n",
       "  '2025-02-24': {'1. open': '80.7500',\n",
       "   '2. high': '80.7500',\n",
       "   '3. low': '80.7500',\n",
       "   '4. close': '80.7500',\n",
       "   '5. volume': '0'},\n",
       "  '2025-02-21': {'1. open': '80.7500',\n",
       "   '2. high': '80.7500',\n",
       "   '3. low': '80.7500',\n",
       "   '4. close': '80.7500',\n",
       "   '5. volume': '2'},\n",
       "  '2025-02-20': {'1. open': '80.7500',\n",
       "   '2. high': '80.7500',\n",
       "   '3. low': '80.7500',\n",
       "   '4. close': '80.7500',\n",
       "   '5. volume': '0'},\n",
       "  '2025-02-19': {'1. open': '80.7500',\n",
       "   '2. high': '80.7500',\n",
       "   '3. low': '80.7500',\n",
       "   '4. close': '80.7500',\n",
       "   '5. volume': '0'},\n",
       "  '2025-02-18': {'1. open': '80.7500',\n",
       "   '2. high': '80.7500',\n",
       "   '3. low': '80.7500',\n",
       "   '4. close': '80.7500',\n",
       "   '5. volume': '0'},\n",
       "  '2025-02-14': {'1. open': '80.7500',\n",
       "   '2. high': '80.7500',\n",
       "   '3. low': '80.7500',\n",
       "   '4. close': '80.7500',\n",
       "   '5. volume': '0'},\n",
       "  '2025-02-13': {'1. open': '80.7500',\n",
       "   '2. high': '80.7500',\n",
       "   '3. low': '80.7500',\n",
       "   '4. close': '80.7500',\n",
       "   '5. volume': '2'},\n",
       "  '2025-02-12': {'1. open': '80.7500',\n",
       "   '2. high': '80.7500',\n",
       "   '3. low': '80.7500',\n",
       "   '4. close': '80.7500',\n",
       "   '5. volume': '22'},\n",
       "  '2025-02-11': {'1. open': '80.7500',\n",
       "   '2. high': '80.7500',\n",
       "   '3. low': '80.7500',\n",
       "   '4. close': '80.7500',\n",
       "   '5. volume': '34'},\n",
       "  '2025-02-10': {'1. open': '80.7500',\n",
       "   '2. high': '80.7500',\n",
       "   '3. low': '80.7500',\n",
       "   '4. close': '80.7500',\n",
       "   '5. volume': '19'},\n",
       "  '2025-02-07': {'1. open': '80.7500',\n",
       "   '2. high': '80.7500',\n",
       "   '3. low': '80.7500',\n",
       "   '4. close': '80.7500',\n",
       "   '5. volume': '447'},\n",
       "  '2025-02-06': {'1. open': '80.7500',\n",
       "   '2. high': '80.7500',\n",
       "   '3. low': '80.7500',\n",
       "   '4. close': '80.7500',\n",
       "   '5. volume': '41'},\n",
       "  '2025-02-05': {'1. open': '80.7500',\n",
       "   '2. high': '80.7500',\n",
       "   '3. low': '80.7500',\n",
       "   '4. close': '80.7500',\n",
       "   '5. volume': '71'},\n",
       "  '2025-02-04': {'1. open': '80.7500',\n",
       "   '2. high': '80.7500',\n",
       "   '3. low': '80.7500',\n",
       "   '4. close': '80.7500',\n",
       "   '5. volume': '130'},\n",
       "  '2025-02-03': {'1. open': '80.7500',\n",
       "   '2. high': '80.7500',\n",
       "   '3. low': '80.7500',\n",
       "   '4. close': '80.7500',\n",
       "   '5. volume': '10'},\n",
       "  '2025-01-31': {'1. open': '80.7500',\n",
       "   '2. high': '80.7500',\n",
       "   '3. low': '80.7500',\n",
       "   '4. close': '80.7500',\n",
       "   '5. volume': '24'},\n",
       "  '2025-01-30': {'1. open': '80.7500',\n",
       "   '2. high': '80.7500',\n",
       "   '3. low': '80.7500',\n",
       "   '4. close': '80.7500',\n",
       "   '5. volume': '3'},\n",
       "  '2025-01-29': {'1. open': '80.7500',\n",
       "   '2. high': '80.7500',\n",
       "   '3. low': '80.7500',\n",
       "   '4. close': '80.7500',\n",
       "   '5. volume': '186'},\n",
       "  '2025-01-28': {'1. open': '80.7500',\n",
       "   '2. high': '80.7500',\n",
       "   '3. low': '80.7500',\n",
       "   '4. close': '80.7500',\n",
       "   '5. volume': '271'},\n",
       "  '2025-01-27': {'1. open': '80.7500',\n",
       "   '2. high': '80.7500',\n",
       "   '3. low': '80.7500',\n",
       "   '4. close': '80.7500',\n",
       "   '5. volume': '54'},\n",
       "  '2025-01-24': {'1. open': '80.7500',\n",
       "   '2. high': '80.7500',\n",
       "   '3. low': '80.7500',\n",
       "   '4. close': '80.7500',\n",
       "   '5. volume': '61'},\n",
       "  '2025-01-23': {'1. open': '80.7500',\n",
       "   '2. high': '80.7500',\n",
       "   '3. low': '80.7500',\n",
       "   '4. close': '80.7500',\n",
       "   '5. volume': '3'},\n",
       "  '2025-01-22': {'1. open': '80.7500',\n",
       "   '2. high': '80.7500',\n",
       "   '3. low': '80.7500',\n",
       "   '4. close': '80.7500',\n",
       "   '5. volume': '99'},\n",
       "  '2025-01-21': {'1. open': '80.7500',\n",
       "   '2. high': '80.7500',\n",
       "   '3. low': '80.7500',\n",
       "   '4. close': '80.7500',\n",
       "   '5. volume': '11'},\n",
       "  '2025-01-17': {'1. open': '80.7500',\n",
       "   '2. high': '80.7500',\n",
       "   '3. low': '80.7500',\n",
       "   '4. close': '80.7500',\n",
       "   '5. volume': '647'},\n",
       "  '2025-01-16': {'1. open': '80.7500',\n",
       "   '2. high': '80.7500',\n",
       "   '3. low': '80.7500',\n",
       "   '4. close': '80.7500',\n",
       "   '5. volume': '3'},\n",
       "  '2025-01-15': {'1. open': '80.7500',\n",
       "   '2. high': '80.7500',\n",
       "   '3. low': '80.7500',\n",
       "   '4. close': '80.7500',\n",
       "   '5. volume': '168'},\n",
       "  '2025-01-14': {'1. open': '91.3500',\n",
       "   '2. high': '91.3500',\n",
       "   '3. low': '91.3500',\n",
       "   '4. close': '91.3500',\n",
       "   '5. volume': '8'},\n",
       "  '2025-01-13': {'1. open': '91.3500',\n",
       "   '2. high': '91.3500',\n",
       "   '3. low': '91.3500',\n",
       "   '4. close': '91.3500',\n",
       "   '5. volume': '184'},\n",
       "  '2025-01-10': {'1. open': '91.3500',\n",
       "   '2. high': '91.3500',\n",
       "   '3. low': '91.3500',\n",
       "   '4. close': '91.3500',\n",
       "   '5. volume': '75'},\n",
       "  '2025-01-08': {'1. open': '91.3500',\n",
       "   '2. high': '91.3500',\n",
       "   '3. low': '91.3500',\n",
       "   '4. close': '91.3500',\n",
       "   '5. volume': '42'},\n",
       "  '2025-01-07': {'1. open': '91.3500',\n",
       "   '2. high': '91.3500',\n",
       "   '3. low': '91.3500',\n",
       "   '4. close': '91.3500',\n",
       "   '5. volume': '8'},\n",
       "  '2025-01-06': {'1. open': '91.3500',\n",
       "   '2. high': '91.3500',\n",
       "   '3. low': '91.3500',\n",
       "   '4. close': '91.3500',\n",
       "   '5. volume': '15'},\n",
       "  '2025-01-03': {'1. open': '91.3500',\n",
       "   '2. high': '91.3500',\n",
       "   '3. low': '91.3500',\n",
       "   '4. close': '91.3500',\n",
       "   '5. volume': '98'},\n",
       "  '2025-01-02': {'1. open': '91.3500',\n",
       "   '2. high': '91.3500',\n",
       "   '3. low': '91.3500',\n",
       "   '4. close': '91.3500',\n",
       "   '5. volume': '0'},\n",
       "  '2024-12-31': {'1. open': '91.3500',\n",
       "   '2. high': '91.3500',\n",
       "   '3. low': '91.3500',\n",
       "   '4. close': '91.3500',\n",
       "   '5. volume': '12'},\n",
       "  '2024-12-30': {'1. open': '91.3500',\n",
       "   '2. high': '91.3500',\n",
       "   '3. low': '91.3500',\n",
       "   '4. close': '91.3500',\n",
       "   '5. volume': '206'},\n",
       "  '2024-12-27': {'1. open': '100.8600',\n",
       "   '2. high': '100.8600',\n",
       "   '3. low': '100.8600',\n",
       "   '4. close': '100.8600',\n",
       "   '5. volume': '53'},\n",
       "  '2024-12-26': {'1. open': '100.8600',\n",
       "   '2. high': '100.8600',\n",
       "   '3. low': '100.8600',\n",
       "   '4. close': '100.8600',\n",
       "   '5. volume': '7'},\n",
       "  '2024-12-24': {'1. open': '100.8600',\n",
       "   '2. high': '100.8600',\n",
       "   '3. low': '100.8600',\n",
       "   '4. close': '100.8600',\n",
       "   '5. volume': '0'},\n",
       "  '2024-12-23': {'1. open': '100.8600',\n",
       "   '2. high': '100.8600',\n",
       "   '3. low': '100.8600',\n",
       "   '4. close': '100.8600',\n",
       "   '5. volume': '2426'},\n",
       "  '2024-12-20': {'1. open': '100.8600',\n",
       "   '2. high': '100.8600',\n",
       "   '3. low': '100.8600',\n",
       "   '4. close': '100.8600',\n",
       "   '5. volume': '412'}}}"
      ]
     },
     "execution_count": 59,
     "metadata": {},
     "output_type": "execute_result"
    }
   ],
   "source": [
    "data"
   ]
  },
  {
   "cell_type": "code",
   "execution_count": 60,
   "id": "6398f2d5",
   "metadata": {},
   "outputs": [
    {
     "data": {
      "text/plain": [
       "dict_keys(['Meta Data', 'Time Series (Daily)'])"
      ]
     },
     "execution_count": 60,
     "metadata": {},
     "output_type": "execute_result"
    }
   ],
   "source": [
    "data.keys()"
   ]
  },
  {
   "cell_type": "code",
   "execution_count": 61,
   "id": "5d32d224",
   "metadata": {},
   "outputs": [],
   "source": [
    "df  = data[ 'Time Series (Daily)']"
   ]
  },
  {
   "cell_type": "code",
   "execution_count": 62,
   "id": "0879d2b3",
   "metadata": {},
   "outputs": [
    {
     "data": {
      "text/plain": [
       "dict"
      ]
     },
     "execution_count": 62,
     "metadata": {},
     "output_type": "execute_result"
    }
   ],
   "source": [
    "type(data[ 'Time Series (Daily)'])"
   ]
  },
  {
   "cell_type": "code",
   "execution_count": 63,
   "id": "5dd107e5",
   "metadata": {},
   "outputs": [],
   "source": [
    "import pandas as pd"
   ]
  },
  {
   "cell_type": "code",
   "execution_count": 64,
   "id": "a68ced7f",
   "metadata": {},
   "outputs": [
    {
     "name": "stdout",
     "output_type": "stream",
     "text": [
      "Requirement already satisfied: xlml in e:\\advanced_python\\repository\\venv\\lib\\site-packages (0.1.2)\n",
      "Note: you may need to restart the kernel to use updated packages.\n"
     ]
    },
    {
     "name": "stderr",
     "output_type": "stream",
     "text": [
      "\n",
      "[notice] A new release of pip is available: 25.1 -> 25.1.1\n",
      "[notice] To update, run: python.exe -m pip install --upgrade pip\n"
     ]
    }
   ],
   "source": [
    "%pip install xlml"
   ]
  },
  {
   "cell_type": "code",
   "execution_count": 69,
   "id": "be83f1f2",
   "metadata": {},
   "outputs": [],
   "source": [
    "df = pd.DataFrame(df).T"
   ]
  },
  {
   "cell_type": "code",
   "execution_count": 70,
   "id": "2ae07397",
   "metadata": {},
   "outputs": [
    {
     "data": {
      "text/html": [
       "<div>\n",
       "<style scoped>\n",
       "    .dataframe tbody tr th:only-of-type {\n",
       "        vertical-align: middle;\n",
       "    }\n",
       "\n",
       "    .dataframe tbody tr th {\n",
       "        vertical-align: top;\n",
       "    }\n",
       "\n",
       "    .dataframe thead th {\n",
       "        text-align: right;\n",
       "    }\n",
       "</style>\n",
       "<table border=\"1\" class=\"dataframe\">\n",
       "  <thead>\n",
       "    <tr style=\"text-align: right;\">\n",
       "      <th></th>\n",
       "      <th>1. open</th>\n",
       "      <th>2. high</th>\n",
       "      <th>3. low</th>\n",
       "      <th>4. close</th>\n",
       "      <th>5. volume</th>\n",
       "    </tr>\n",
       "  </thead>\n",
       "  <tbody>\n",
       "    <tr>\n",
       "      <th>2025-05-16</th>\n",
       "      <td>100.2000</td>\n",
       "      <td>100.2000</td>\n",
       "      <td>100.2000</td>\n",
       "      <td>100.2000</td>\n",
       "      <td>367</td>\n",
       "    </tr>\n",
       "    <tr>\n",
       "      <th>2025-05-15</th>\n",
       "      <td>100.2000</td>\n",
       "      <td>100.2000</td>\n",
       "      <td>100.2000</td>\n",
       "      <td>100.2000</td>\n",
       "      <td>25</td>\n",
       "    </tr>\n",
       "    <tr>\n",
       "      <th>2025-05-14</th>\n",
       "      <td>100.2000</td>\n",
       "      <td>100.2000</td>\n",
       "      <td>100.2000</td>\n",
       "      <td>100.2000</td>\n",
       "      <td>145</td>\n",
       "    </tr>\n",
       "    <tr>\n",
       "      <th>2025-05-13</th>\n",
       "      <td>87.8000</td>\n",
       "      <td>87.8000</td>\n",
       "      <td>87.8000</td>\n",
       "      <td>87.8000</td>\n",
       "      <td>33</td>\n",
       "    </tr>\n",
       "    <tr>\n",
       "      <th>2025-05-12</th>\n",
       "      <td>87.8000</td>\n",
       "      <td>87.8000</td>\n",
       "      <td>87.8000</td>\n",
       "      <td>87.8000</td>\n",
       "      <td>4</td>\n",
       "    </tr>\n",
       "    <tr>\n",
       "      <th>...</th>\n",
       "      <td>...</td>\n",
       "      <td>...</td>\n",
       "      <td>...</td>\n",
       "      <td>...</td>\n",
       "      <td>...</td>\n",
       "    </tr>\n",
       "    <tr>\n",
       "      <th>2024-12-27</th>\n",
       "      <td>100.8600</td>\n",
       "      <td>100.8600</td>\n",
       "      <td>100.8600</td>\n",
       "      <td>100.8600</td>\n",
       "      <td>53</td>\n",
       "    </tr>\n",
       "    <tr>\n",
       "      <th>2024-12-26</th>\n",
       "      <td>100.8600</td>\n",
       "      <td>100.8600</td>\n",
       "      <td>100.8600</td>\n",
       "      <td>100.8600</td>\n",
       "      <td>7</td>\n",
       "    </tr>\n",
       "    <tr>\n",
       "      <th>2024-12-24</th>\n",
       "      <td>100.8600</td>\n",
       "      <td>100.8600</td>\n",
       "      <td>100.8600</td>\n",
       "      <td>100.8600</td>\n",
       "      <td>0</td>\n",
       "    </tr>\n",
       "    <tr>\n",
       "      <th>2024-12-23</th>\n",
       "      <td>100.8600</td>\n",
       "      <td>100.8600</td>\n",
       "      <td>100.8600</td>\n",
       "      <td>100.8600</td>\n",
       "      <td>2426</td>\n",
       "    </tr>\n",
       "    <tr>\n",
       "      <th>2024-12-20</th>\n",
       "      <td>100.8600</td>\n",
       "      <td>100.8600</td>\n",
       "      <td>100.8600</td>\n",
       "      <td>100.8600</td>\n",
       "      <td>412</td>\n",
       "    </tr>\n",
       "  </tbody>\n",
       "</table>\n",
       "<p>100 rows × 5 columns</p>\n",
       "</div>"
      ],
      "text/plain": [
       "             1. open   2. high    3. low  4. close 5. volume\n",
       "2025-05-16  100.2000  100.2000  100.2000  100.2000       367\n",
       "2025-05-15  100.2000  100.2000  100.2000  100.2000        25\n",
       "2025-05-14  100.2000  100.2000  100.2000  100.2000       145\n",
       "2025-05-13   87.8000   87.8000   87.8000   87.8000        33\n",
       "2025-05-12   87.8000   87.8000   87.8000   87.8000         4\n",
       "...              ...       ...       ...       ...       ...\n",
       "2024-12-27  100.8600  100.8600  100.8600  100.8600        53\n",
       "2024-12-26  100.8600  100.8600  100.8600  100.8600         7\n",
       "2024-12-24  100.8600  100.8600  100.8600  100.8600         0\n",
       "2024-12-23  100.8600  100.8600  100.8600  100.8600      2426\n",
       "2024-12-20  100.8600  100.8600  100.8600  100.8600       412\n",
       "\n",
       "[100 rows x 5 columns]"
      ]
     },
     "execution_count": 70,
     "metadata": {},
     "output_type": "execute_result"
    }
   ],
   "source": [
    "df"
   ]
  },
  {
   "cell_type": "code",
   "execution_count": 71,
   "id": "5ed9fcfe",
   "metadata": {},
   "outputs": [
    {
     "data": {
      "text/plain": [
       "1. open      object\n",
       "2. high      object\n",
       "3. low       object\n",
       "4. close     object\n",
       "5. volume    object\n",
       "dtype: object"
      ]
     },
     "execution_count": 71,
     "metadata": {},
     "output_type": "execute_result"
    }
   ],
   "source": [
    "df.dtypes"
   ]
  },
  {
   "cell_type": "code",
   "execution_count": 72,
   "id": "826d66c5",
   "metadata": {},
   "outputs": [],
   "source": [
    "df = df.astype('float')"
   ]
  },
  {
   "cell_type": "code",
   "execution_count": 73,
   "id": "45022843",
   "metadata": {},
   "outputs": [
    {
     "data": {
      "text/plain": [
       "1. open      float64\n",
       "2. high      float64\n",
       "3. low       float64\n",
       "4. close     float64\n",
       "5. volume    float64\n",
       "dtype: object"
      ]
     },
     "execution_count": 73,
     "metadata": {},
     "output_type": "execute_result"
    }
   ],
   "source": [
    "df.dtypes"
   ]
  },
  {
   "cell_type": "code",
   "execution_count": 74,
   "id": "ee1f5945",
   "metadata": {},
   "outputs": [
    {
     "data": {
      "text/plain": [
       "Index(['2025-05-16', '2025-05-15', '2025-05-14', '2025-05-13', '2025-05-12',\n",
       "       '2025-05-09', '2025-05-08', '2025-05-07', '2025-05-06', '2025-05-05',\n",
       "       '2025-05-02', '2025-05-01', '2025-04-30', '2025-04-29', '2025-04-28',\n",
       "       '2025-04-25', '2025-04-24', '2025-04-23', '2025-04-22', '2025-04-21',\n",
       "       '2025-04-17', '2025-04-16', '2025-04-15', '2025-04-14', '2025-04-11',\n",
       "       '2025-04-10', '2025-04-09', '2025-04-08', '2025-04-07', '2025-04-04',\n",
       "       '2025-04-03', '2025-04-02', '2025-04-01', '2025-03-31', '2025-03-28',\n",
       "       '2025-03-27', '2025-03-26', '2025-03-25', '2025-03-24', '2025-03-21',\n",
       "       '2025-03-20', '2025-03-19', '2025-03-18', '2025-03-17', '2025-03-14',\n",
       "       '2025-03-13', '2025-03-12', '2025-03-11', '2025-03-10', '2025-03-07',\n",
       "       '2025-03-06', '2025-03-05', '2025-03-04', '2025-03-03', '2025-02-28',\n",
       "       '2025-02-27', '2025-02-26', '2025-02-25', '2025-02-24', '2025-02-21',\n",
       "       '2025-02-20', '2025-02-19', '2025-02-18', '2025-02-14', '2025-02-13',\n",
       "       '2025-02-12', '2025-02-11', '2025-02-10', '2025-02-07', '2025-02-06',\n",
       "       '2025-02-05', '2025-02-04', '2025-02-03', '2025-01-31', '2025-01-30',\n",
       "       '2025-01-29', '2025-01-28', '2025-01-27', '2025-01-24', '2025-01-23',\n",
       "       '2025-01-22', '2025-01-21', '2025-01-17', '2025-01-16', '2025-01-15',\n",
       "       '2025-01-14', '2025-01-13', '2025-01-10', '2025-01-08', '2025-01-07',\n",
       "       '2025-01-06', '2025-01-03', '2025-01-02', '2024-12-31', '2024-12-30',\n",
       "       '2024-12-27', '2024-12-26', '2024-12-24', '2024-12-23', '2024-12-20'],\n",
       "      dtype='object')"
      ]
     },
     "execution_count": 74,
     "metadata": {},
     "output_type": "execute_result"
    }
   ],
   "source": [
    "df.index"
   ]
  },
  {
   "cell_type": "code",
   "execution_count": 75,
   "id": "ff18f4a6",
   "metadata": {},
   "outputs": [],
   "source": [
    "# convert in date type"
   ]
  },
  {
   "cell_type": "code",
   "execution_count": 76,
   "id": "ee840d68",
   "metadata": {},
   "outputs": [],
   "source": [
    "df.index  = pd.to_datetime(df.index)"
   ]
  },
  {
   "cell_type": "code",
   "execution_count": 77,
   "id": "169ae34f",
   "metadata": {},
   "outputs": [
    {
     "data": {
      "text/plain": [
       "DatetimeIndex(['2025-05-16', '2025-05-15', '2025-05-14', '2025-05-13',\n",
       "               '2025-05-12', '2025-05-09', '2025-05-08', '2025-05-07',\n",
       "               '2025-05-06', '2025-05-05', '2025-05-02', '2025-05-01',\n",
       "               '2025-04-30', '2025-04-29', '2025-04-28', '2025-04-25',\n",
       "               '2025-04-24', '2025-04-23', '2025-04-22', '2025-04-21',\n",
       "               '2025-04-17', '2025-04-16', '2025-04-15', '2025-04-14',\n",
       "               '2025-04-11', '2025-04-10', '2025-04-09', '2025-04-08',\n",
       "               '2025-04-07', '2025-04-04', '2025-04-03', '2025-04-02',\n",
       "               '2025-04-01', '2025-03-31', '2025-03-28', '2025-03-27',\n",
       "               '2025-03-26', '2025-03-25', '2025-03-24', '2025-03-21',\n",
       "               '2025-03-20', '2025-03-19', '2025-03-18', '2025-03-17',\n",
       "               '2025-03-14', '2025-03-13', '2025-03-12', '2025-03-11',\n",
       "               '2025-03-10', '2025-03-07', '2025-03-06', '2025-03-05',\n",
       "               '2025-03-04', '2025-03-03', '2025-02-28', '2025-02-27',\n",
       "               '2025-02-26', '2025-02-25', '2025-02-24', '2025-02-21',\n",
       "               '2025-02-20', '2025-02-19', '2025-02-18', '2025-02-14',\n",
       "               '2025-02-13', '2025-02-12', '2025-02-11', '2025-02-10',\n",
       "               '2025-02-07', '2025-02-06', '2025-02-05', '2025-02-04',\n",
       "               '2025-02-03', '2025-01-31', '2025-01-30', '2025-01-29',\n",
       "               '2025-01-28', '2025-01-27', '2025-01-24', '2025-01-23',\n",
       "               '2025-01-22', '2025-01-21', '2025-01-17', '2025-01-16',\n",
       "               '2025-01-15', '2025-01-14', '2025-01-13', '2025-01-10',\n",
       "               '2025-01-08', '2025-01-07', '2025-01-06', '2025-01-03',\n",
       "               '2025-01-02', '2024-12-31', '2024-12-30', '2024-12-27',\n",
       "               '2024-12-26', '2024-12-24', '2024-12-23', '2024-12-20'],\n",
       "              dtype='datetime64[ns]', freq=None)"
      ]
     },
     "execution_count": 77,
     "metadata": {},
     "output_type": "execute_result"
    }
   ],
   "source": [
    "df.index"
   ]
  },
  {
   "cell_type": "code",
   "execution_count": 78,
   "id": "0bba3504",
   "metadata": {},
   "outputs": [
    {
     "data": {
      "text/html": [
       "<div>\n",
       "<style scoped>\n",
       "    .dataframe tbody tr th:only-of-type {\n",
       "        vertical-align: middle;\n",
       "    }\n",
       "\n",
       "    .dataframe tbody tr th {\n",
       "        vertical-align: top;\n",
       "    }\n",
       "\n",
       "    .dataframe thead th {\n",
       "        text-align: right;\n",
       "    }\n",
       "</style>\n",
       "<table border=\"1\" class=\"dataframe\">\n",
       "  <thead>\n",
       "    <tr style=\"text-align: right;\">\n",
       "      <th></th>\n",
       "      <th>1. open</th>\n",
       "      <th>2. high</th>\n",
       "      <th>3. low</th>\n",
       "      <th>4. close</th>\n",
       "      <th>5. volume</th>\n",
       "    </tr>\n",
       "  </thead>\n",
       "  <tbody>\n",
       "    <tr>\n",
       "      <th>2025-05-16</th>\n",
       "      <td>100.2</td>\n",
       "      <td>100.2</td>\n",
       "      <td>100.2</td>\n",
       "      <td>100.2</td>\n",
       "      <td>367.0</td>\n",
       "    </tr>\n",
       "    <tr>\n",
       "      <th>2025-05-15</th>\n",
       "      <td>100.2</td>\n",
       "      <td>100.2</td>\n",
       "      <td>100.2</td>\n",
       "      <td>100.2</td>\n",
       "      <td>25.0</td>\n",
       "    </tr>\n",
       "    <tr>\n",
       "      <th>2025-05-14</th>\n",
       "      <td>100.2</td>\n",
       "      <td>100.2</td>\n",
       "      <td>100.2</td>\n",
       "      <td>100.2</td>\n",
       "      <td>145.0</td>\n",
       "    </tr>\n",
       "    <tr>\n",
       "      <th>2025-05-13</th>\n",
       "      <td>87.8</td>\n",
       "      <td>87.8</td>\n",
       "      <td>87.8</td>\n",
       "      <td>87.8</td>\n",
       "      <td>33.0</td>\n",
       "    </tr>\n",
       "    <tr>\n",
       "      <th>2025-05-12</th>\n",
       "      <td>87.8</td>\n",
       "      <td>87.8</td>\n",
       "      <td>87.8</td>\n",
       "      <td>87.8</td>\n",
       "      <td>4.0</td>\n",
       "    </tr>\n",
       "  </tbody>\n",
       "</table>\n",
       "</div>"
      ],
      "text/plain": [
       "            1. open  2. high  3. low  4. close  5. volume\n",
       "2025-05-16    100.2    100.2   100.2     100.2      367.0\n",
       "2025-05-15    100.2    100.2   100.2     100.2       25.0\n",
       "2025-05-14    100.2    100.2   100.2     100.2      145.0\n",
       "2025-05-13     87.8     87.8    87.8      87.8       33.0\n",
       "2025-05-12     87.8     87.8    87.8      87.8        4.0"
      ]
     },
     "execution_count": 78,
     "metadata": {},
     "output_type": "execute_result"
    }
   ],
   "source": [
    "df.head()"
   ]
  },
  {
   "cell_type": "code",
   "execution_count": 79,
   "id": "87632a45",
   "metadata": {},
   "outputs": [],
   "source": [
    "df.index.name  =  \"Date\""
   ]
  },
  {
   "cell_type": "code",
   "execution_count": 80,
   "id": "9af2b064",
   "metadata": {},
   "outputs": [
    {
     "data": {
      "text/html": [
       "<div>\n",
       "<style scoped>\n",
       "    .dataframe tbody tr th:only-of-type {\n",
       "        vertical-align: middle;\n",
       "    }\n",
       "\n",
       "    .dataframe tbody tr th {\n",
       "        vertical-align: top;\n",
       "    }\n",
       "\n",
       "    .dataframe thead th {\n",
       "        text-align: right;\n",
       "    }\n",
       "</style>\n",
       "<table border=\"1\" class=\"dataframe\">\n",
       "  <thead>\n",
       "    <tr style=\"text-align: right;\">\n",
       "      <th></th>\n",
       "      <th>1. open</th>\n",
       "      <th>2. high</th>\n",
       "      <th>3. low</th>\n",
       "      <th>4. close</th>\n",
       "      <th>5. volume</th>\n",
       "    </tr>\n",
       "    <tr>\n",
       "      <th>Date</th>\n",
       "      <th></th>\n",
       "      <th></th>\n",
       "      <th></th>\n",
       "      <th></th>\n",
       "      <th></th>\n",
       "    </tr>\n",
       "  </thead>\n",
       "  <tbody>\n",
       "    <tr>\n",
       "      <th>2025-05-16</th>\n",
       "      <td>100.20</td>\n",
       "      <td>100.20</td>\n",
       "      <td>100.20</td>\n",
       "      <td>100.20</td>\n",
       "      <td>367.0</td>\n",
       "    </tr>\n",
       "    <tr>\n",
       "      <th>2025-05-15</th>\n",
       "      <td>100.20</td>\n",
       "      <td>100.20</td>\n",
       "      <td>100.20</td>\n",
       "      <td>100.20</td>\n",
       "      <td>25.0</td>\n",
       "    </tr>\n",
       "    <tr>\n",
       "      <th>2025-05-14</th>\n",
       "      <td>100.20</td>\n",
       "      <td>100.20</td>\n",
       "      <td>100.20</td>\n",
       "      <td>100.20</td>\n",
       "      <td>145.0</td>\n",
       "    </tr>\n",
       "    <tr>\n",
       "      <th>2025-05-13</th>\n",
       "      <td>87.80</td>\n",
       "      <td>87.80</td>\n",
       "      <td>87.80</td>\n",
       "      <td>87.80</td>\n",
       "      <td>33.0</td>\n",
       "    </tr>\n",
       "    <tr>\n",
       "      <th>2025-05-12</th>\n",
       "      <td>87.80</td>\n",
       "      <td>87.80</td>\n",
       "      <td>87.80</td>\n",
       "      <td>87.80</td>\n",
       "      <td>4.0</td>\n",
       "    </tr>\n",
       "    <tr>\n",
       "      <th>...</th>\n",
       "      <td>...</td>\n",
       "      <td>...</td>\n",
       "      <td>...</td>\n",
       "      <td>...</td>\n",
       "      <td>...</td>\n",
       "    </tr>\n",
       "    <tr>\n",
       "      <th>2024-12-27</th>\n",
       "      <td>100.86</td>\n",
       "      <td>100.86</td>\n",
       "      <td>100.86</td>\n",
       "      <td>100.86</td>\n",
       "      <td>53.0</td>\n",
       "    </tr>\n",
       "    <tr>\n",
       "      <th>2024-12-26</th>\n",
       "      <td>100.86</td>\n",
       "      <td>100.86</td>\n",
       "      <td>100.86</td>\n",
       "      <td>100.86</td>\n",
       "      <td>7.0</td>\n",
       "    </tr>\n",
       "    <tr>\n",
       "      <th>2024-12-24</th>\n",
       "      <td>100.86</td>\n",
       "      <td>100.86</td>\n",
       "      <td>100.86</td>\n",
       "      <td>100.86</td>\n",
       "      <td>0.0</td>\n",
       "    </tr>\n",
       "    <tr>\n",
       "      <th>2024-12-23</th>\n",
       "      <td>100.86</td>\n",
       "      <td>100.86</td>\n",
       "      <td>100.86</td>\n",
       "      <td>100.86</td>\n",
       "      <td>2426.0</td>\n",
       "    </tr>\n",
       "    <tr>\n",
       "      <th>2024-12-20</th>\n",
       "      <td>100.86</td>\n",
       "      <td>100.86</td>\n",
       "      <td>100.86</td>\n",
       "      <td>100.86</td>\n",
       "      <td>412.0</td>\n",
       "    </tr>\n",
       "  </tbody>\n",
       "</table>\n",
       "<p>100 rows × 5 columns</p>\n",
       "</div>"
      ],
      "text/plain": [
       "            1. open  2. high  3. low  4. close  5. volume\n",
       "Date                                                     \n",
       "2025-05-16   100.20   100.20  100.20    100.20      367.0\n",
       "2025-05-15   100.20   100.20  100.20    100.20       25.0\n",
       "2025-05-14   100.20   100.20  100.20    100.20      145.0\n",
       "2025-05-13    87.80    87.80   87.80     87.80       33.0\n",
       "2025-05-12    87.80    87.80   87.80     87.80        4.0\n",
       "...             ...      ...     ...       ...        ...\n",
       "2024-12-27   100.86   100.86  100.86    100.86       53.0\n",
       "2024-12-26   100.86   100.86  100.86    100.86        7.0\n",
       "2024-12-24   100.86   100.86  100.86    100.86        0.0\n",
       "2024-12-23   100.86   100.86  100.86    100.86     2426.0\n",
       "2024-12-20   100.86   100.86  100.86    100.86      412.0\n",
       "\n",
       "[100 rows x 5 columns]"
      ]
     },
     "execution_count": 80,
     "metadata": {},
     "output_type": "execute_result"
    }
   ],
   "source": [
    "df"
   ]
  },
  {
   "attachments": {
    "image.png": {
     "image/png": "[encoded data removed]"
    }
   },
   "cell_type": "markdown",
   "id": "96910819",
   "metadata": {},
   "source": [
    "![image.png](attachment:image.png)"
   ]
  },
  {
   "cell_type": "code",
   "execution_count": null,
   "id": "e5895e88",
   "metadata": {},
   "outputs": [],
   "source": []
  },
  {
   "attachments": {
    "image.png": {
     "image/png": "[encoded data removed]"
    }
   },
   "cell_type": "markdown",
   "id": "606542a5",
   "metadata": {},
   "source": [
    "![image.png](attachment:image.png)"
   ]
  },
  {
   "cell_type": "code",
   "execution_count": 81,
   "id": "ea1cd3a1",
   "metadata": {},
   "outputs": [],
   "source": [
    "import plotly.graph_objects as go"
   ]
  },
  {
   "cell_type": "code",
   "execution_count": 82,
   "id": "eeaa47c0",
   "metadata": {},
   "outputs": [
    {
     "data": {
      "text/plain": [
       "DatetimeIndex(['2025-05-16', '2025-05-15', '2025-05-14', '2025-05-13',\n",
       "               '2025-05-12', '2025-05-09', '2025-05-08', '2025-05-07',\n",
       "               '2025-05-06', '2025-05-05', '2025-05-02', '2025-05-01',\n",
       "               '2025-04-30', '2025-04-29', '2025-04-28', '2025-04-25',\n",
       "               '2025-04-24', '2025-04-23', '2025-04-22', '2025-04-21',\n",
       "               '2025-04-17', '2025-04-16', '2025-04-15', '2025-04-14',\n",
       "               '2025-04-11', '2025-04-10', '2025-04-09', '2025-04-08',\n",
       "               '2025-04-07', '2025-04-04', '2025-04-03', '2025-04-02',\n",
       "               '2025-04-01', '2025-03-31', '2025-03-28', '2025-03-27',\n",
       "               '2025-03-26', '2025-03-25', '2025-03-24', '2025-03-21',\n",
       "               '2025-03-20', '2025-03-19', '2025-03-18', '2025-03-17',\n",
       "               '2025-03-14', '2025-03-13', '2025-03-12', '2025-03-11',\n",
       "               '2025-03-10', '2025-03-07', '2025-03-06', '2025-03-05',\n",
       "               '2025-03-04', '2025-03-03', '2025-02-28', '2025-02-27',\n",
       "               '2025-02-26', '2025-02-25', '2025-02-24', '2025-02-21',\n",
       "               '2025-02-20', '2025-02-19', '2025-02-18', '2025-02-14',\n",
       "               '2025-02-13', '2025-02-12', '2025-02-11', '2025-02-10',\n",
       "               '2025-02-07', '2025-02-06', '2025-02-05', '2025-02-04',\n",
       "               '2025-02-03', '2025-01-31', '2025-01-30', '2025-01-29',\n",
       "               '2025-01-28', '2025-01-27', '2025-01-24', '2025-01-23',\n",
       "               '2025-01-22', '2025-01-21', '2025-01-17', '2025-01-16',\n",
       "               '2025-01-15', '2025-01-14', '2025-01-13', '2025-01-10',\n",
       "               '2025-01-08', '2025-01-07', '2025-01-06', '2025-01-03',\n",
       "               '2025-01-02', '2024-12-31', '2024-12-30', '2024-12-27',\n",
       "               '2024-12-26', '2024-12-24', '2024-12-23', '2024-12-20'],\n",
       "              dtype='datetime64[ns]', name='Date', freq=None)"
      ]
     },
     "execution_count": 82,
     "metadata": {},
     "output_type": "execute_result"
    }
   ],
   "source": [
    "df.index"
   ]
  },
  {
   "cell_type": "code",
   "execution_count": 83,
   "id": "85979a69",
   "metadata": {},
   "outputs": [
    {
     "data": {
      "text/html": [
       "<div>\n",
       "<style scoped>\n",
       "    .dataframe tbody tr th:only-of-type {\n",
       "        vertical-align: middle;\n",
       "    }\n",
       "\n",
       "    .dataframe tbody tr th {\n",
       "        vertical-align: top;\n",
       "    }\n",
       "\n",
       "    .dataframe thead th {\n",
       "        text-align: right;\n",
       "    }\n",
       "</style>\n",
       "<table border=\"1\" class=\"dataframe\">\n",
       "  <thead>\n",
       "    <tr style=\"text-align: right;\">\n",
       "      <th></th>\n",
       "      <th>1. open</th>\n",
       "      <th>2. high</th>\n",
       "      <th>3. low</th>\n",
       "      <th>4. close</th>\n",
       "      <th>5. volume</th>\n",
       "    </tr>\n",
       "    <tr>\n",
       "      <th>Date</th>\n",
       "      <th></th>\n",
       "      <th></th>\n",
       "      <th></th>\n",
       "      <th></th>\n",
       "      <th></th>\n",
       "    </tr>\n",
       "  </thead>\n",
       "  <tbody>\n",
       "    <tr>\n",
       "      <th>2025-05-16</th>\n",
       "      <td>100.2</td>\n",
       "      <td>100.2</td>\n",
       "      <td>100.2</td>\n",
       "      <td>100.2</td>\n",
       "      <td>367.0</td>\n",
       "    </tr>\n",
       "    <tr>\n",
       "      <th>2025-05-15</th>\n",
       "      <td>100.2</td>\n",
       "      <td>100.2</td>\n",
       "      <td>100.2</td>\n",
       "      <td>100.2</td>\n",
       "      <td>25.0</td>\n",
       "    </tr>\n",
       "    <tr>\n",
       "      <th>2025-05-14</th>\n",
       "      <td>100.2</td>\n",
       "      <td>100.2</td>\n",
       "      <td>100.2</td>\n",
       "      <td>100.2</td>\n",
       "      <td>145.0</td>\n",
       "    </tr>\n",
       "    <tr>\n",
       "      <th>2025-05-13</th>\n",
       "      <td>87.8</td>\n",
       "      <td>87.8</td>\n",
       "      <td>87.8</td>\n",
       "      <td>87.8</td>\n",
       "      <td>33.0</td>\n",
       "    </tr>\n",
       "    <tr>\n",
       "      <th>2025-05-12</th>\n",
       "      <td>87.8</td>\n",
       "      <td>87.8</td>\n",
       "      <td>87.8</td>\n",
       "      <td>87.8</td>\n",
       "      <td>4.0</td>\n",
       "    </tr>\n",
       "  </tbody>\n",
       "</table>\n",
       "</div>"
      ],
      "text/plain": [
       "            1. open  2. high  3. low  4. close  5. volume\n",
       "Date                                                     \n",
       "2025-05-16    100.2    100.2   100.2     100.2      367.0\n",
       "2025-05-15    100.2    100.2   100.2     100.2       25.0\n",
       "2025-05-14    100.2    100.2   100.2     100.2      145.0\n",
       "2025-05-13     87.8     87.8    87.8      87.8       33.0\n",
       "2025-05-12     87.8     87.8    87.8      87.8        4.0"
      ]
     },
     "execution_count": 83,
     "metadata": {},
     "output_type": "execute_result"
    }
   ],
   "source": [
    "df.head()"
   ]
  },
  {
   "cell_type": "markdown",
   "id": "2e47d643",
   "metadata": {},
   "source": [
    "### Plot Candelstick chart"
   ]
  },
  {
   "cell_type": "markdown",
   "id": "740c6d6c",
   "metadata": {},
   "source": []
  },
  {
   "cell_type": "code",
   "execution_count": 84,
   "id": "ae3d4945",
   "metadata": {},
   "outputs": [
    {
     "data": {
      "application/vnd.plotly.v1+json": {
       "config": {
        "plotlyServerURL": "https://plot.ly"
       },
       "data": [
        {
         "close": {
          "bdata": "zczMzMwMWUDNzMzMzAxZQM3MzMzMDFlAMzMzMzPzVUAzMzMzM/NVQDMzMzMz81VAMzMzMzPzVUAzMzMzM/NVQDMzMzMz81VAMzMzMzPzVUAzMzMzM/NVQDMzMzMz81VAMzMzMzPzVUAzMzMzM/NVQDMzMzMz81VAMzMzMzPzVUAzMzMzM/NVQDMzMzMz81VAMzMzMzPzVUAzMzMzM/NVQDMzMzMz81VAMzMzMzPzVUAzMzMzM/NVQDMzMzMz81VAMzMzMzPzVUBmZmZmZoZXQGZmZmZmhldAZmZmZmaGV0BmZmZmZoZXQGZmZmZmhldAZmZmZmaGV0AAAAAAAEBVQAAAAAAAQFVAAAAAAABAVUAAAAAAAEBVQAAAAAAAQFVAAAAAAABAVUAAAAAAAEBVQAAAAAAAQFVAAAAAAABAVUAAAAAAAEBVQAAAAAAAQFVAAAAAAABgVkAAAAAAAGBWQAAAAAAAYFZAMzMzMzPTVEAzMzMzM9NUQDMzMzMz01RAAAAAAADAVEAzMzMzM/NUQAAAAAAAMFRAAAAAAAAwVEAAAAAAADBUQAAAAAAAMFRAAAAAAAAwVEAAAAAAADBUQAAAAAAAMFRAAAAAAAAwVEAAAAAAADBUQAAAAAAAMFRAAAAAAAAwVEAAAAAAADBUQAAAAAAAMFRAAAAAAAAwVEAAAAAAADBUQAAAAAAAMFRAAAAAAAAwVEAAAAAAADBUQAAAAAAAMFRAAAAAAAAwVEAAAAAAADBUQAAAAAAAMFRAAAAAAAAwVEAAAAAAADBUQAAAAAAAMFRAAAAAAAAwVEAAAAAAADBUQAAAAAAAMFRAAAAAAAAwVEAAAAAAADBUQAAAAAAAMFRAAAAAAAAwVEAAAAAAADBUQAAAAAAAMFRAAAAAAAAwVEBmZmZmZtZWQGZmZmZm1lZAZmZmZmbWVkBmZmZmZtZWQGZmZmZm1lZAZmZmZmbWVkBmZmZmZtZWQGZmZmZm1lZAZmZmZmbWVkBmZmZmZtZWQNejcD0KN1lA16NwPQo3WUDXo3A9CjdZQNejcD0KN1lA16NwPQo3WUA=",
          "dtype": "f8"
         },
         "high": {
          "bdata": "zczMzMwMWUDNzMzMzAxZQM3MzMzMDFlAMzMzMzPzVUAzMzMzM/NVQDMzMzMz81VAMzMzMzPzVUAzMzMzM/NVQDMzMzMz81VAMzMzMzPzVUAzMzMzM/NVQDMzMzMz81VAMzMzMzPzVUAzMzMzM/NVQDMzMzMz81VAMzMzMzPzVUAzMzMzM/NVQDMzMzMz81VAMzMzMzPzVUAzMzMzM/NVQDMzMzMz81VAMzMzMzPzVUAzMzMzM/NVQDMzMzMz81VAMzMzMzPzVUBmZmZmZoZXQGZmZmZmhldAZmZmZmaGV0BmZmZmZoZXQGZmZmZmhldAZmZmZmaGV0AAAAAAAEBVQAAAAAAAQFVAAAAAAABAVUAAAAAAAEBVQAAAAAAAQFVAAAAAAABAVUAAAAAAAEBVQAAAAAAAQFVAAAAAAABAVUAAAAAAAEBVQAAAAAAAQFVAAAAAAABgVkAAAAAAAGBWQAAAAAAAYFZAMzMzMzPTVEAzMzMzM9NUQDMzMzMz01RAAAAAAADAVEAzMzMzM/NUQAAAAAAAMFRAAAAAAAAwVEAAAAAAADBUQAAAAAAAMFRAAAAAAAAwVEAAAAAAADBUQAAAAAAAMFRAAAAAAAAwVEAAAAAAADBUQAAAAAAAMFRAAAAAAAAwVEAAAAAAADBUQAAAAAAAMFRAAAAAAAAwVEAAAAAAADBUQAAAAAAAMFRAAAAAAAAwVEAAAAAAADBUQAAAAAAAMFRAAAAAAAAwVEAAAAAAADBUQAAAAAAAMFRAAAAAAAAwVEAAAAAAADBUQAAAAAAAMFRAAAAAAAAwVEAAAAAAADBUQAAAAAAAMFRAAAAAAAAwVEAAAAAAADBUQAAAAAAAMFRAAAAAAAAwVEAAAAAAADBUQAAAAAAAMFRAAAAAAAAwVEBmZmZmZtZWQGZmZmZm1lZAZmZmZmbWVkBmZmZmZtZWQGZmZmZm1lZAZmZmZmbWVkBmZmZmZtZWQGZmZmZm1lZAZmZmZmbWVkBmZmZmZtZWQNejcD0KN1lA16NwPQo3WUDXo3A9CjdZQNejcD0KN1lA16NwPQo3WUA=",
          "dtype": "f8"
         },
         "low": {
          "bdata": "zczMzMwMWUDNzMzMzAxZQM3MzMzMDFlAMzMzMzPzVUAzMzMzM/NVQDMzMzMz81VAMzMzMzPzVUAzMzMzM/NVQDMzMzMz81VAMzMzMzPzVUAzMzMzM/NVQDMzMzMz81VAMzMzMzPzVUAzMzMzM/NVQDMzMzMz81VAMzMzMzPzVUAzMzMzM/NVQDMzMzMz81VAMzMzMzPzVUAzMzMzM/NVQDMzMzMz81VAMzMzMzPzVUAzMzMzM/NVQDMzMzMz81VAMzMzMzPzVUBmZmZmZoZXQGZmZmZmhldAZmZmZmaGV0BmZmZmZoZXQGZmZmZmhldAZmZmZmaGV0AAAAAAAEBVQAAAAAAAQFVAAAAAAABAVUAAAAAAAEBVQAAAAAAAQFVAAAAAAABAVUAAAAAAAEBVQAAAAAAAQFVAAAAAAABAVUAAAAAAAEBVQAAAAAAAQFVAAAAAAABgVkAAAAAAAGBWQAAAAAAAYFZAMzMzMzPTVEAzMzMzM9NUQDMzMzMz01RAAAAAAADAVEAzMzMzM/NUQAAAAAAAMFRAAAAAAAAwVEAAAAAAADBUQAAAAAAAMFRAAAAAAAAwVEAAAAAAADBUQAAAAAAAMFRAAAAAAAAwVEAAAAAAADBUQAAAAAAAMFRAAAAAAAAwVEAAAAAAADBUQAAAAAAAMFRAAAAAAAAwVEAAAAAAADBUQAAAAAAAMFRAAAAAAAAwVEAAAAAAADBUQAAAAAAAMFRAAAAAAAAwVEAAAAAAADBUQAAAAAAAMFRAAAAAAAAwVEAAAAAAADBUQAAAAAAAMFRAAAAAAAAwVEAAAAAAADBUQAAAAAAAMFRAAAAAAAAwVEAAAAAAADBUQAAAAAAAMFRAAAAAAAAwVEAAAAAAADBUQAAAAAAAMFRAAAAAAAAwVEBmZmZmZtZWQGZmZmZm1lZAZmZmZmbWVkBmZmZmZtZWQGZmZmZm1lZAZmZmZmbWVkBmZmZmZtZWQGZmZmZm1lZAZmZmZmbWVkBmZmZmZtZWQNejcD0KN1lA16NwPQo3WUDXo3A9CjdZQNejcD0KN1lA16NwPQo3WUA=",
          "dtype": "f8"
         },
         "open": {
          "bdata": "zczMzMwMWUDNzMzMzAxZQM3MzMzMDFlAMzMzMzPzVUAzMzMzM/NVQDMzMzMz81VAMzMzMzPzVUAzMzMzM/NVQDMzMzMz81VAMzMzMzPzVUAzMzMzM/NVQDMzMzMz81VAMzMzMzPzVUAzMzMzM/NVQDMzMzMz81VAMzMzMzPzVUAzMzMzM/NVQDMzMzMz81VAMzMzMzPzVUAzMzMzM/NVQDMzMzMz81VAMzMzMzPzVUAzMzMzM/NVQDMzMzMz81VAMzMzMzPzVUBmZmZmZoZXQGZmZmZmhldAZmZmZmaGV0BmZmZmZoZXQGZmZmZmhldAZmZmZmaGV0AAAAAAAEBVQAAAAAAAQFVAAAAAAABAVUAAAAAAAEBVQAAAAAAAQFVAAAAAAABAVUAAAAAAAEBVQAAAAAAAQFVAAAAAAABAVUAAAAAAAEBVQAAAAAAAQFVAAAAAAABgVkAAAAAAAGBWQAAAAAAAYFZAMzMzMzPTVEAzMzMzM9NUQDMzMzMz01RAAAAAAADAVEAzMzMzM/NUQAAAAAAAMFRAAAAAAAAwVEAAAAAAADBUQAAAAAAAMFRAAAAAAAAwVEAAAAAAADBUQAAAAAAAMFRAAAAAAAAwVEAAAAAAADBUQAAAAAAAMFRAAAAAAAAwVEAAAAAAADBUQAAAAAAAMFRAAAAAAAAwVEAAAAAAADBUQAAAAAAAMFRAAAAAAAAwVEAAAAAAADBUQAAAAAAAMFRAAAAAAAAwVEAAAAAAADBUQAAAAAAAMFRAAAAAAAAwVEAAAAAAADBUQAAAAAAAMFRAAAAAAAAwVEAAAAAAADBUQAAAAAAAMFRAAAAAAAAwVEAAAAAAADBUQAAAAAAAMFRAAAAAAAAwVEAAAAAAADBUQAAAAAAAMFRAAAAAAAAwVEBmZmZmZtZWQGZmZmZm1lZAZmZmZmbWVkBmZmZmZtZWQGZmZmZm1lZAZmZmZmbWVkBmZmZmZtZWQGZmZmZm1lZAZmZmZmbWVkBmZmZmZtZWQNejcD0KN1lA16NwPQo3WUDXo3A9CjdZQNejcD0KN1lA16NwPQo3WUA=",
          "dtype": "f8"
         },
         "type": "candlestick",
         "x": [
          "2025-05-16T00:00:00.000000000",
          "2025-05-15T00:00:00.000000000",
          "2025-05-14T00:00:00.000000000",
          "2025-05-13T00:00:00.000000000",
          "2025-05-12T00:00:00.000000000",
          "2025-05-09T00:00:00.000000000",
          "2025-05-08T00:00:00.000000000",
          "2025-05-07T00:00:00.000000000",
          "2025-05-06T00:00:00.000000000",
          "2025-05-05T00:00:00.000000000",
          "2025-05-02T00:00:00.000000000",
          "2025-05-01T00:00:00.000000000",
          "2025-04-30T00:00:00.000000000",
          "2025-04-29T00:00:00.000000000",
          "2025-04-28T00:00:00.000000000",
          "2025-04-25T00:00:00.000000000",
          "2025-04-24T00:00:00.000000000",
          "2025-04-23T00:00:00.000000000",
          "2025-04-22T00:00:00.000000000",
          "2025-04-21T00:00:00.000000000",
          "2025-04-17T00:00:00.000000000",
          "2025-04-16T00:00:00.000000000",
          "2025-04-15T00:00:00.000000000",
          "2025-04-14T00:00:00.000000000",
          "2025-04-11T00:00:00.000000000",
          "2025-04-10T00:00:00.000000000",
          "2025-04-09T00:00:00.000000000",
          "2025-04-08T00:00:00.000000000",
          "2025-04-07T00:00:00.000000000",
          "2025-04-04T00:00:00.000000000",
          "2025-04-03T00:00:00.000000000",
          "2025-04-02T00:00:00.000000000",
          "2025-04-01T00:00:00.000000000",
          "2025-03-31T00:00:00.000000000",
          "2025-03-28T00:00:00.000000000",
          "2025-03-27T00:00:00.000000000",
          "2025-03-26T00:00:00.000000000",
          "2025-03-25T00:00:00.000000000",
          "2025-03-24T00:00:00.000000000",
          "2025-03-21T00:00:00.000000000",
          "2025-03-20T00:00:00.000000000",
          "2025-03-19T00:00:00.000000000",
          "2025-03-18T00:00:00.000000000",
          "2025-03-17T00:00:00.000000000",
          "2025-03-14T00:00:00.000000000",
          "2025-03-13T00:00:00.000000000",
          "2025-03-12T00:00:00.000000000",
          "2025-03-11T00:00:00.000000000",
          "2025-03-10T00:00:00.000000000",
          "2025-03-07T00:00:00.000000000",
          "2025-03-06T00:00:00.000000000",
          "2025-03-05T00:00:00.000000000",
          "2025-03-04T00:00:00.000000000",
          "2025-03-03T00:00:00.000000000",
          "2025-02-28T00:00:00.000000000",
          "2025-02-27T00:00:00.000000000",
          "2025-02-26T00:00:00.000000000",
          "2025-02-25T00:00:00.000000000",
          "2025-02-24T00:00:00.000000000",
          "2025-02-21T00:00:00.000000000",
          "2025-02-20T00:00:00.000000000",
          "2025-02-19T00:00:00.000000000",
          "2025-02-18T00:00:00.000000000",
          "2025-02-14T00:00:00.000000000",
          "2025-02-13T00:00:00.000000000",
          "2025-02-12T00:00:00.000000000",
          "2025-02-11T00:00:00.000000000",
          "2025-02-10T00:00:00.000000000",
          "2025-02-07T00:00:00.000000000",
          "2025-02-06T00:00:00.000000000",
          "2025-02-05T00:00:00.000000000",
          "2025-02-04T00:00:00.000000000",
          "2025-02-03T00:00:00.000000000",
          "2025-01-31T00:00:00.000000000",
          "2025-01-30T00:00:00.000000000",
          "2025-01-29T00:00:00.000000000",
          "2025-01-28T00:00:00.000000000",
          "2025-01-27T00:00:00.000000000",
          "2025-01-24T00:00:00.000000000",
          "2025-01-23T00:00:00.000000000",
          "2025-01-22T00:00:00.000000000",
          "2025-01-21T00:00:00.000000000",
          "2025-01-17T00:00:00.000000000",
          "2025-01-16T00:00:00.000000000",
          "2025-01-15T00:00:00.000000000",
          "2025-01-14T00:00:00.000000000",
          "2025-01-13T00:00:00.000000000",
          "2025-01-10T00:00:00.000000000",
          "2025-01-08T00:00:00.000000000",
          "2025-01-07T00:00:00.000000000",
          "2025-01-06T00:00:00.000000000",
          "2025-01-03T00:00:00.000000000",
          "2025-01-02T00:00:00.000000000",
          "2024-12-31T00:00:00.000000000",
          "2024-12-30T00:00:00.000000000",
          "2024-12-27T00:00:00.000000000",
          "2024-12-26T00:00:00.000000000",
          "2024-12-24T00:00:00.000000000",
          "2024-12-23T00:00:00.000000000",
          "2024-12-20T00:00:00.000000000"
         ]
        }
       ],
       "layout": {
        "template": {
         "data": {
          "bar": [
           {
            "error_x": {
             "color": "#2a3f5f"
            },
            "error_y": {
             "color": "#2a3f5f"
            },
            "marker": {
             "line": {
              "color": "#E5ECF6",
              "width": 0.5
             },
             "pattern": {
              "fillmode": "overlay",
              "size": 10,
              "solidity": 0.2
             }
            },
            "type": "bar"
           }
          ],
          "barpolar": [
           {
            "marker": {
             "line": {
              "color": "#E5ECF6",
              "width": 0.5
             },
             "pattern": {
              "fillmode": "overlay",
              "size": 10,
              "solidity": 0.2
             }
            },
            "type": "barpolar"
           }
          ],
          "carpet": [
           {
            "aaxis": {
             "endlinecolor": "#2a3f5f",
             "gridcolor": "white",
             "linecolor": "white",
             "minorgridcolor": "white",
             "startlinecolor": "#2a3f5f"
            },
            "baxis": {
             "endlinecolor": "#2a3f5f",
             "gridcolor": "white",
             "linecolor": "white",
             "minorgridcolor": "white",
             "startlinecolor": "#2a3f5f"
            },
            "type": "carpet"
           }
          ],
          "choropleth": [
           {
            "colorbar": {
             "outlinewidth": 0,
             "ticks": ""
            },
            "type": "choropleth"
           }
          ],
          "contour": [
           {
            "colorbar": {
             "outlinewidth": 0,
             "ticks": ""
            },
            "colorscale": [
             [
              0,
              "#0d0887"
             ],
             [
              0.1111111111111111,
              "#46039f"
             ],
             [
              0.2222222222222222,
              "#7201a8"
             ],
             [
              0.3333333333333333,
              "#9c179e"
             ],
             [
              0.4444444444444444,
              "#bd3786"
             ],
             [
              0.5555555555555556,
              "#d8576b"
             ],
             [
              0.6666666666666666,
              "#ed7953"
             ],
             [
              0.7777777777777778,
              "#fb9f3a"
             ],
             [
              0.8888888888888888,
              "#fdca26"
             ],
             [
              1,
              "#f0f921"
             ]
            ],
            "type": "contour"
           }
          ],
          "contourcarpet": [
           {
            "colorbar": {
             "outlinewidth": 0,
             "ticks": ""
            },
            "type": "contourcarpet"
           }
          ],
          "heatmap": [
           {
            "colorbar": {
             "outlinewidth": 0,
             "ticks": ""
            },
            "colorscale": [
             [
              0,
              "#0d0887"
             ],
             [
              0.1111111111111111,
              "#46039f"
             ],
             [
              0.2222222222222222,
              "#7201a8"
             ],
             [
              0.3333333333333333,
              "#9c179e"
             ],
             [
              0.4444444444444444,
              "#bd3786"
             ],
             [
              0.5555555555555556,
              "#d8576b"
             ],
             [
              0.6666666666666666,
              "#ed7953"
             ],
             [
              0.7777777777777778,
              "#fb9f3a"
             ],
             [
              0.8888888888888888,
              "#fdca26"
             ],
             [
              1,
              "#f0f921"
             ]
            ],
            "type": "heatmap"
           }
          ],
          "histogram": [
           {
            "marker": {
             "pattern": {
              "fillmode": "overlay",
              "size": 10,
              "solidity": 0.2
             }
            },
            "type": "histogram"
           }
          ],
          "histogram2d": [
           {
            "colorbar": {
             "outlinewidth": 0,
             "ticks": ""
            },
            "colorscale": [
             [
              0,
              "#0d0887"
             ],
             [
              0.1111111111111111,
              "#46039f"
             ],
             [
              0.2222222222222222,
              "#7201a8"
             ],
             [
              0.3333333333333333,
              "#9c179e"
             ],
             [
              0.4444444444444444,
              "#bd3786"
             ],
             [
              0.5555555555555556,
              "#d8576b"
             ],
             [
              0.6666666666666666,
              "#ed7953"
             ],
             [
              0.7777777777777778,
              "#fb9f3a"
             ],
             [
              0.8888888888888888,
              "#fdca26"
             ],
             [
              1,
              "#f0f921"
             ]
            ],
            "type": "histogram2d"
           }
          ],
          "histogram2dcontour": [
           {
            "colorbar": {
             "outlinewidth": 0,
             "ticks": ""
            },
            "colorscale": [
             [
              0,
              "#0d0887"
             ],
             [
              0.1111111111111111,
              "#46039f"
             ],
             [
              0.2222222222222222,
              "#7201a8"
             ],
             [
              0.3333333333333333,
              "#9c179e"
             ],
             [
              0.4444444444444444,
              "#bd3786"
             ],
             [
              0.5555555555555556,
              "#d8576b"
             ],
             [
              0.6666666666666666,
              "#ed7953"
             ],
             [
              0.7777777777777778,
              "#fb9f3a"
             ],
             [
              0.8888888888888888,
              "#fdca26"
             ],
             [
              1,
              "#f0f921"
             ]
            ],
            "type": "histogram2dcontour"
           }
          ],
          "mesh3d": [
           {
            "colorbar": {
             "outlinewidth": 0,
             "ticks": ""
            },
            "type": "mesh3d"
           }
          ],
          "parcoords": [
           {
            "line": {
             "colorbar": {
              "outlinewidth": 0,
              "ticks": ""
             }
            },
            "type": "parcoords"
           }
          ],
          "pie": [
           {
            "automargin": true,
            "type": "pie"
           }
          ],
          "scatter": [
           {
            "fillpattern": {
             "fillmode": "overlay",
             "size": 10,
             "solidity": 0.2
            },
            "type": "scatter"
           }
          ],
          "scatter3d": [
           {
            "line": {
             "colorbar": {
              "outlinewidth": 0,
              "ticks": ""
             }
            },
            "marker": {
             "colorbar": {
              "outlinewidth": 0,
              "ticks": ""
             }
            },
            "type": "scatter3d"
           }
          ],
          "scattercarpet": [
           {
            "marker": {
             "colorbar": {
              "outlinewidth": 0,
              "ticks": ""
             }
            },
            "type": "scattercarpet"
           }
          ],
          "scattergeo": [
           {
            "marker": {
             "colorbar": {
              "outlinewidth": 0,
              "ticks": ""
             }
            },
            "type": "scattergeo"
           }
          ],
          "scattergl": [
           {
            "marker": {
             "colorbar": {
              "outlinewidth": 0,
              "ticks": ""
             }
            },
            "type": "scattergl"
           }
          ],
          "scattermap": [
           {
            "marker": {
             "colorbar": {
              "outlinewidth": 0,
              "ticks": ""
             }
            },
            "type": "scattermap"
           }
          ],
          "scattermapbox": [
           {
            "marker": {
             "colorbar": {
              "outlinewidth": 0,
              "ticks": ""
             }
            },
            "type": "scattermapbox"
           }
          ],
          "scatterpolar": [
           {
            "marker": {
             "colorbar": {
              "outlinewidth": 0,
              "ticks": ""
             }
            },
            "type": "scatterpolar"
           }
          ],
          "scatterpolargl": [
           {
            "marker": {
             "colorbar": {
              "outlinewidth": 0,
              "ticks": ""
             }
            },
            "type": "scatterpolargl"
           }
          ],
          "scatterternary": [
           {
            "marker": {
             "colorbar": {
              "outlinewidth": 0,
              "ticks": ""
             }
            },
            "type": "scatterternary"
           }
          ],
          "surface": [
           {
            "colorbar": {
             "outlinewidth": 0,
             "ticks": ""
            },
            "colorscale": [
             [
              0,
              "#0d0887"
             ],
             [
              0.1111111111111111,
              "#46039f"
             ],
             [
              0.2222222222222222,
              "#7201a8"
             ],
             [
              0.3333333333333333,
              "#9c179e"
             ],
             [
              0.4444444444444444,
              "#bd3786"
             ],
             [
              0.5555555555555556,
              "#d8576b"
             ],
             [
              0.6666666666666666,
              "#ed7953"
             ],
             [
              0.7777777777777778,
              "#fb9f3a"
             ],
             [
              0.8888888888888888,
              "#fdca26"
             ],
             [
              1,
              "#f0f921"
             ]
            ],
            "type": "surface"
           }
          ],
          "table": [
           {
            "cells": {
             "fill": {
              "color": "#EBF0F8"
             },
             "line": {
              "color": "white"
             }
            },
            "header": {
             "fill": {
              "color": "#C8D4E3"
             },
             "line": {
              "color": "white"
             }
            },
            "type": "table"
           }
          ]
         },
         "layout": {
          "annotationdefaults": {
           "arrowcolor": "#2a3f5f",
           "arrowhead": 0,
           "arrowwidth": 1
          },
          "autotypenumbers": "strict",
          "coloraxis": {
           "colorbar": {
            "outlinewidth": 0,
            "ticks": ""
           }
          },
          "colorscale": {
           "diverging": [
            [
             0,
             "#8e0152"
            ],
            [
             0.1,
             "#c51b7d"
            ],
            [
             0.2,
             "#de77ae"
            ],
            [
             0.3,
             "#f1b6da"
            ],
            [
             0.4,
             "#fde0ef"
            ],
            [
             0.5,
             "#f7f7f7"
            ],
            [
             0.6,
             "#e6f5d0"
            ],
            [
             0.7,
             "#b8e186"
            ],
            [
             0.8,
             "#7fbc41"
            ],
            [
             0.9,
             "#4d9221"
            ],
            [
             1,
             "#276419"
            ]
           ],
           "sequential": [
            [
             0,
             "#0d0887"
            ],
            [
             0.1111111111111111,
             "#46039f"
            ],
            [
             0.2222222222222222,
             "#7201a8"
            ],
            [
             0.3333333333333333,
             "#9c179e"
            ],
            [
             0.4444444444444444,
             "#bd3786"
            ],
            [
             0.5555555555555556,
             "#d8576b"
            ],
            [
             0.6666666666666666,
             "#ed7953"
            ],
            [
             0.7777777777777778,
             "#fb9f3a"
            ],
            [
             0.8888888888888888,
             "#fdca26"
            ],
            [
             1,
             "#f0f921"
            ]
           ],
           "sequentialminus": [
            [
             0,
             "#0d0887"
            ],
            [
             0.1111111111111111,
             "#46039f"
            ],
            [
             0.2222222222222222,
             "#7201a8"
            ],
            [
             0.3333333333333333,
             "#9c179e"
            ],
            [
             0.4444444444444444,
             "#bd3786"
            ],
            [
             0.5555555555555556,
             "#d8576b"
            ],
            [
             0.6666666666666666,
             "#ed7953"
            ],
            [
             0.7777777777777778,
             "#fb9f3a"
            ],
            [
             0.8888888888888888,
             "#fdca26"
            ],
            [
             1,
             "#f0f921"
            ]
           ]
          },
          "colorway": [
           "#636efa",
           "#EF553B",
           "#00cc96",
           "#ab63fa",
           "#FFA15A",
           "#19d3f3",
           "#FF6692",
           "#B6E880",
           "#FF97FF",
           "#FECB52"
          ],
          "font": {
           "color": "#2a3f5f"
          },
          "geo": {
           "bgcolor": "white",
           "lakecolor": "white",
           "landcolor": "#E5ECF6",
           "showlakes": true,
           "showland": true,
           "subunitcolor": "white"
          },
          "hoverlabel": {
           "align": "left"
          },
          "hovermode": "closest",
          "mapbox": {
           "style": "light"
          },
          "paper_bgcolor": "white",
          "plot_bgcolor": "#E5ECF6",
          "polar": {
           "angularaxis": {
            "gridcolor": "white",
            "linecolor": "white",
            "ticks": ""
           },
           "bgcolor": "#E5ECF6",
           "radialaxis": {
            "gridcolor": "white",
            "linecolor": "white",
            "ticks": ""
           }
          },
          "scene": {
           "xaxis": {
            "backgroundcolor": "#E5ECF6",
            "gridcolor": "white",
            "gridwidth": 2,
            "linecolor": "white",
            "showbackground": true,
            "ticks": "",
            "zerolinecolor": "white"
           },
           "yaxis": {
            "backgroundcolor": "#E5ECF6",
            "gridcolor": "white",
            "gridwidth": 2,
            "linecolor": "white",
            "showbackground": true,
            "ticks": "",
            "zerolinecolor": "white"
           },
           "zaxis": {
            "backgroundcolor": "#E5ECF6",
            "gridcolor": "white",
            "gridwidth": 2,
            "linecolor": "white",
            "showbackground": true,
            "ticks": "",
            "zerolinecolor": "white"
           }
          },
          "shapedefaults": {
           "line": {
            "color": "#2a3f5f"
           }
          },
          "ternary": {
           "aaxis": {
            "gridcolor": "white",
            "linecolor": "white",
            "ticks": ""
           },
           "baxis": {
            "gridcolor": "white",
            "linecolor": "white",
            "ticks": ""
           },
           "bgcolor": "#E5ECF6",
           "caxis": {
            "gridcolor": "white",
            "linecolor": "white",
            "ticks": ""
           }
          },
          "title": {
           "x": 0.05
          },
          "xaxis": {
           "automargin": true,
           "gridcolor": "white",
           "linecolor": "white",
           "ticks": "",
           "title": {
            "standoff": 15
           },
           "zerolinecolor": "white",
           "zerolinewidth": 2
          },
          "yaxis": {
           "automargin": true,
           "gridcolor": "white",
           "linecolor": "white",
           "ticks": "",
           "title": {
            "standoff": 15
           },
           "zerolinecolor": "white",
           "zerolinewidth": 2
          }
         }
        }
       }
      }
     },
     "metadata": {},
     "output_type": "display_data"
    }
   ],
   "source": [
    "fig = go.Figure(data=[go.Candlestick(x=df.index,\n",
    "                open=df[\"1. open\"],\n",
    "                high=df['2. high'],\n",
    "                low=df['2. high'],\n",
    "                close=df['2. high'])])\n",
    "\n",
    "fig.show()"
   ]
  },
  {
   "cell_type": "code",
   "execution_count": null,
   "id": "322c6958",
   "metadata": {},
   "outputs": [],
   "source": []
  },
  {
   "cell_type": "markdown",
   "id": "9c766a9d",
   "metadata": {},
   "source": []
  }
 ],
 "metadata": {
  "kernelspec": {
   "display_name": "venv",
   "language": "python",
   "name": "python3"
  },
  "language_info": {
   "codemirror_mode": {
    "name": "ipython",
    "version": 3
   },
   "file_extension": ".py",
   "mimetype": "text/x-python",
   "name": "python",
   "nbconvert_exporter": "python",
   "pygments_lexer": "ipython3",
   "version": "3.13.3"
  }
 },
 "nbformat": 4,
 "nbformat_minor": 5
}
