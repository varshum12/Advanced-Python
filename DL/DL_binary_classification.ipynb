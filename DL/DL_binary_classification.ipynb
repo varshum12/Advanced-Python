{
 "cells": [
  {
   "cell_type": "code",
   "execution_count": 1,
   "id": "1165fc93",
   "metadata": {},
   "outputs": [],
   "source": [
    "import pandas as pd"
   ]
  },
  {
   "cell_type": "code",
   "execution_count": 3,
   "id": "37195676",
   "metadata": {},
   "outputs": [],
   "source": [
    "path =r\"C:\\Users\\C S\\OneDrive\\Desktop\\DS Material\\DeepLearning_dnyaneshSir-01\\DeepLearning_dnyaneshSir\\Session 4\\e_commerce.csv\""
   ]
  },
  {
   "cell_type": "code",
   "execution_count": 4,
   "id": "f736e17e",
   "metadata": {},
   "outputs": [],
   "source": [
    "df = pd.read_csv(path)"
   ]
  },
  {
   "cell_type": "code",
   "execution_count": 5,
   "id": "f322369a",
   "metadata": {},
   "outputs": [
    {
     "data": {
      "text/html": [
       "<div>\n",
       "<style scoped>\n",
       "    .dataframe tbody tr th:only-of-type {\n",
       "        vertical-align: middle;\n",
       "    }\n",
       "\n",
       "    .dataframe tbody tr th {\n",
       "        vertical-align: top;\n",
       "    }\n",
       "\n",
       "    .dataframe thead th {\n",
       "        text-align: right;\n",
       "    }\n",
       "</style>\n",
       "<table border=\"1\" class=\"dataframe\">\n",
       "  <thead>\n",
       "    <tr style=\"text-align: right;\">\n",
       "      <th></th>\n",
       "      <th>account length</th>\n",
       "      <th>location code</th>\n",
       "      <th>user id</th>\n",
       "      <th>credit card info save</th>\n",
       "      <th>push status</th>\n",
       "      <th>add to wishlist</th>\n",
       "      <th>desktop sessions</th>\n",
       "      <th>app sessions</th>\n",
       "      <th>desktop transactions</th>\n",
       "      <th>total product detail views</th>\n",
       "      <th>session duration</th>\n",
       "      <th>promotion clicks</th>\n",
       "      <th>avg order value</th>\n",
       "      <th>sale product views</th>\n",
       "      <th>discount rate per visited products</th>\n",
       "      <th>product detail view per app session</th>\n",
       "      <th>app transactions</th>\n",
       "      <th>add to cart per session</th>\n",
       "      <th>customer service calls</th>\n",
       "      <th>churn</th>\n",
       "    </tr>\n",
       "  </thead>\n",
       "  <tbody>\n",
       "    <tr>\n",
       "      <th>0</th>\n",
       "      <td>128</td>\n",
       "      <td>415</td>\n",
       "      <td>3824657</td>\n",
       "      <td>no</td>\n",
       "      <td>yes</td>\n",
       "      <td>25</td>\n",
       "      <td>265</td>\n",
       "      <td>45</td>\n",
       "      <td>17</td>\n",
       "      <td>110.0</td>\n",
       "      <td>197</td>\n",
       "      <td>87</td>\n",
       "      <td>244.7</td>\n",
       "      <td>91</td>\n",
       "      <td>11.01</td>\n",
       "      <td>10.0</td>\n",
       "      <td>3</td>\n",
       "      <td>2.70</td>\n",
       "      <td>1.0</td>\n",
       "      <td>0</td>\n",
       "    </tr>\n",
       "    <tr>\n",
       "      <th>1</th>\n",
       "      <td>107</td>\n",
       "      <td>415</td>\n",
       "      <td>3717191</td>\n",
       "      <td>no</td>\n",
       "      <td>yes</td>\n",
       "      <td>26</td>\n",
       "      <td>162</td>\n",
       "      <td>27</td>\n",
       "      <td>17</td>\n",
       "      <td>123.0</td>\n",
       "      <td>196</td>\n",
       "      <td>103</td>\n",
       "      <td>254.4</td>\n",
       "      <td>103</td>\n",
       "      <td>11.45</td>\n",
       "      <td>13.7</td>\n",
       "      <td>3</td>\n",
       "      <td>3.70</td>\n",
       "      <td>1.0</td>\n",
       "      <td>0</td>\n",
       "    </tr>\n",
       "    <tr>\n",
       "      <th>2</th>\n",
       "      <td>137</td>\n",
       "      <td>415</td>\n",
       "      <td>3581921</td>\n",
       "      <td>no</td>\n",
       "      <td>no</td>\n",
       "      <td>0</td>\n",
       "      <td>243</td>\n",
       "      <td>41</td>\n",
       "      <td>10</td>\n",
       "      <td>114.0</td>\n",
       "      <td>121</td>\n",
       "      <td>110</td>\n",
       "      <td>162.6</td>\n",
       "      <td>104</td>\n",
       "      <td>7.32</td>\n",
       "      <td>12.2</td>\n",
       "      <td>5</td>\n",
       "      <td>3.29</td>\n",
       "      <td>0.0</td>\n",
       "      <td>0</td>\n",
       "    </tr>\n",
       "    <tr>\n",
       "      <th>3</th>\n",
       "      <td>84</td>\n",
       "      <td>408</td>\n",
       "      <td>3759999</td>\n",
       "      <td>yes</td>\n",
       "      <td>no</td>\n",
       "      <td>0</td>\n",
       "      <td>299</td>\n",
       "      <td>51</td>\n",
       "      <td>5</td>\n",
       "      <td>71.0</td>\n",
       "      <td>62</td>\n",
       "      <td>88</td>\n",
       "      <td>196.9</td>\n",
       "      <td>89</td>\n",
       "      <td>8.86</td>\n",
       "      <td>6.6</td>\n",
       "      <td>7</td>\n",
       "      <td>1.78</td>\n",
       "      <td>2.0</td>\n",
       "      <td>0</td>\n",
       "    </tr>\n",
       "    <tr>\n",
       "      <th>4</th>\n",
       "      <td>75</td>\n",
       "      <td>415</td>\n",
       "      <td>3306626</td>\n",
       "      <td>yes</td>\n",
       "      <td>no</td>\n",
       "      <td>0</td>\n",
       "      <td>167</td>\n",
       "      <td>28</td>\n",
       "      <td>13</td>\n",
       "      <td>113.0</td>\n",
       "      <td>148</td>\n",
       "      <td>122</td>\n",
       "      <td>186.9</td>\n",
       "      <td>121</td>\n",
       "      <td>8.41</td>\n",
       "      <td>10.1</td>\n",
       "      <td>3</td>\n",
       "      <td>2.73</td>\n",
       "      <td>3.0</td>\n",
       "      <td>0</td>\n",
       "    </tr>\n",
       "  </tbody>\n",
       "</table>\n",
       "</div>"
      ],
      "text/plain": [
       "   account length  location code  user id credit card info save push status  \\\n",
       "0             128            415  3824657                    no         yes   \n",
       "1             107            415  3717191                    no         yes   \n",
       "2             137            415  3581921                    no          no   \n",
       "3              84            408  3759999                   yes          no   \n",
       "4              75            415  3306626                   yes          no   \n",
       "\n",
       "   add to wishlist  desktop sessions  app sessions  desktop transactions  \\\n",
       "0               25               265            45                    17   \n",
       "1               26               162            27                    17   \n",
       "2                0               243            41                    10   \n",
       "3                0               299            51                     5   \n",
       "4                0               167            28                    13   \n",
       "\n",
       "   total product detail views  session duration  promotion clicks  \\\n",
       "0                       110.0               197                87   \n",
       "1                       123.0               196               103   \n",
       "2                       114.0               121               110   \n",
       "3                        71.0                62                88   \n",
       "4                       113.0               148               122   \n",
       "\n",
       "   avg order value  sale product views  discount rate per visited products  \\\n",
       "0            244.7                  91                               11.01   \n",
       "1            254.4                 103                               11.45   \n",
       "2            162.6                 104                                7.32   \n",
       "3            196.9                  89                                8.86   \n",
       "4            186.9                 121                                8.41   \n",
       "\n",
       "   product detail view per app session  app transactions  \\\n",
       "0                                 10.0                 3   \n",
       "1                                 13.7                 3   \n",
       "2                                 12.2                 5   \n",
       "3                                  6.6                 7   \n",
       "4                                 10.1                 3   \n",
       "\n",
       "   add to cart per session  customer service calls  churn  \n",
       "0                     2.70                     1.0      0  \n",
       "1                     3.70                     1.0      0  \n",
       "2                     3.29                     0.0      0  \n",
       "3                     1.78                     2.0      0  \n",
       "4                     2.73                     3.0      0  "
      ]
     },
     "execution_count": 5,
     "metadata": {},
     "output_type": "execute_result"
    }
   ],
   "source": [
    "df.head()"
   ]
  },
  {
   "cell_type": "code",
   "execution_count": 6,
   "id": "0031e7d7",
   "metadata": {},
   "outputs": [],
   "source": [
    "# EDA "
   ]
  },
  {
   "cell_type": "code",
   "execution_count": 7,
   "id": "d7ed71cc",
   "metadata": {},
   "outputs": [
    {
     "name": "stdout",
     "output_type": "stream",
     "text": [
      "<class 'pandas.core.frame.DataFrame'>\n",
      "RangeIndex: 3333 entries, 0 to 3332\n",
      "Data columns (total 20 columns):\n",
      " #   Column                               Non-Null Count  Dtype  \n",
      "---  ------                               --------------  -----  \n",
      " 0   account length                       3333 non-null   int64  \n",
      " 1   location code                        3333 non-null   int64  \n",
      " 2   user id                              3333 non-null   int64  \n",
      " 3   credit card info save                3333 non-null   object \n",
      " 4   push status                          3333 non-null   object \n",
      " 5   add to wishlist                      3333 non-null   int64  \n",
      " 6   desktop sessions                     3333 non-null   int64  \n",
      " 7   app sessions                         3333 non-null   int64  \n",
      " 8   desktop transactions                 3333 non-null   int64  \n",
      " 9   total product detail views           3281 non-null   float64\n",
      " 10  session duration                     3333 non-null   int64  \n",
      " 11  promotion clicks                     3333 non-null   int64  \n",
      " 12  avg order value                      3333 non-null   float64\n",
      " 13  sale product views                   3333 non-null   int64  \n",
      " 14  discount rate per visited products   3333 non-null   float64\n",
      " 15  product detail view per app session  3272 non-null   float64\n",
      " 16  app transactions                     3333 non-null   int64  \n",
      " 17  add to cart per session              3333 non-null   float64\n",
      " 18  customer service calls               3274 non-null   float64\n",
      " 19  churn                                3333 non-null   int64  \n",
      "dtypes: float64(6), int64(12), object(2)\n",
      "memory usage: 520.9+ KB\n"
     ]
    }
   ],
   "source": [
    "df.info()"
   ]
  },
  {
   "cell_type": "code",
   "execution_count": 10,
   "id": "8eef106c",
   "metadata": {},
   "outputs": [
    {
     "data": {
      "text/plain": [
       "total product detail views             52\n",
       "product detail view per app session    61\n",
       "customer service calls                 59\n",
       "dtype: int64"
      ]
     },
     "execution_count": 10,
     "metadata": {},
     "output_type": "execute_result"
    }
   ],
   "source": [
    "N =  df.isnull().sum()\n",
    "N[N>0]"
   ]
  },
  {
   "cell_type": "code",
   "execution_count": 13,
   "id": "304e1614",
   "metadata": {},
   "outputs": [
    {
     "name": "stdout",
     "output_type": "stream",
     "text": [
      "Collecting pipeline\n",
      "  Downloading pipeline-0.1.0-py3-none-any.whl.metadata (483 bytes)\n",
      "Downloading pipeline-0.1.0-py3-none-any.whl (2.6 kB)\n",
      "Installing collected packages: pipeline\n",
      "Successfully installed pipeline-0.1.0\n"
     ]
    }
   ],
   "source": [
    "!pip install pipeline"
   ]
  },
  {
   "cell_type": "code",
   "execution_count": 14,
   "id": "74d41ac3",
   "metadata": {},
   "outputs": [
    {
     "name": "stdout",
     "output_type": "stream",
     "text": [
      "Collecting sklearn\n",
      "  Downloading sklearn-0.0.post12.tar.gz (2.6 kB)\n",
      "  Installing build dependencies: started\n",
      "  Installing build dependencies: finished with status 'done'\n",
      "  Getting requirements to build wheel: started\n",
      "  Getting requirements to build wheel: finished with status 'error'\n"
     ]
    },
    {
     "name": "stderr",
     "output_type": "stream",
     "text": [
      "  error: subprocess-exited-with-error\n",
      "  \n",
      "  × Getting requirements to build wheel did not run successfully.\n",
      "  │ exit code: 1\n",
      "  ╰─> [15 lines of output]\n",
      "      The 'sklearn' PyPI package is deprecated, use 'scikit-learn'\n",
      "      rather than 'sklearn' for pip commands.\n",
      "      \n",
      "      Here is how to fix this error in the main use cases:\n",
      "      - use 'pip install scikit-learn' rather than 'pip install sklearn'\n",
      "      - replace 'sklearn' by 'scikit-learn' in your pip requirements files\n",
      "        (requirements.txt, setup.py, setup.cfg, Pipfile, etc ...)\n",
      "      - if the 'sklearn' package is used by one of your dependencies,\n",
      "        it would be great if you take some time to track which package uses\n",
      "        'sklearn' instead of 'scikit-learn' and report it to their issue tracker\n",
      "      - as a last resort, set the environment variable\n",
      "        SKLEARN_ALLOW_DEPRECATED_SKLEARN_PACKAGE_INSTALL=True to avoid this error\n",
      "      \n",
      "      More information is available at\n",
      "      https://github.com/scikit-learn/sklearn-pypi-package\n",
      "      [end of output]\n",
      "  \n",
      "  note: This error originates from a subprocess, and is likely not a problem with pip.\n",
      "error: subprocess-exited-with-error\n",
      "\n",
      "× Getting requirements to build wheel did not run successfully.\n",
      "│ exit code: 1\n",
      "╰─> See above for output.\n",
      "\n",
      "note: This error originates from a subprocess, and is likely not a problem with pip.\n"
     ]
    }
   ],
   "source": [
    "!pip install sklearn"
   ]
  },
  {
   "cell_type": "code",
   "execution_count": 12,
   "id": "92e45380",
   "metadata": {},
   "outputs": [
    {
     "ename": "ModuleNotFoundError",
     "evalue": "No module named 'sklearn'",
     "output_type": "error",
     "traceback": [
      "\u001b[31m---------------------------------------------------------------------------\u001b[39m",
      "\u001b[31mModuleNotFoundError\u001b[39m                       Traceback (most recent call last)",
      "\u001b[36mCell\u001b[39m\u001b[36m \u001b[39m\u001b[32mIn[12]\u001b[39m\u001b[32m, line 1\u001b[39m\n\u001b[32m----> \u001b[39m\u001b[32m1\u001b[39m \u001b[38;5;28;01mfrom\u001b[39;00m\u001b[38;5;250m \u001b[39m\u001b[34;01msklearn\u001b[39;00m\u001b[34;01m.\u001b[39;00m\u001b[34;01mpipeline\u001b[39;00m\u001b[38;5;250m \u001b[39m\u001b[38;5;28;01mimport\u001b[39;00m Pipeline\n\u001b[32m      2\u001b[39m \u001b[38;5;28;01mfrom\u001b[39;00m\u001b[38;5;250m \u001b[39m\u001b[34;01msklearn\u001b[39;00m\u001b[34;01m.\u001b[39;00m\u001b[34;01mpreprocessing\u001b[39;00m\u001b[38;5;250m \u001b[39m\u001b[38;5;28;01mimport\u001b[39;00m StandardScaler \n\u001b[32m      3\u001b[39m \u001b[38;5;28;01mfrom\u001b[39;00m\u001b[38;5;250m \u001b[39m\u001b[34;01msklearn\u001b[39;00m\u001b[34;01m.\u001b[39;00m\u001b[34;01mimpute\u001b[39;00m\u001b[38;5;250m \u001b[39m\u001b[38;5;28;01mimport\u001b[39;00m SimpleImputer\n",
      "\u001b[31mModuleNotFoundError\u001b[39m: No module named 'sklearn'"
     ]
    }
   ],
   "source": [
    "from sklearn.pipeline import Pipeline\n",
    "from sklearn.preprocessing import StandardScaler \n",
    "from sklearn.impute import SimpleImputer\n",
    "from sklearn.compose import ColumnTransformer"
   ]
  },
  {
   "cell_type": "code",
   "execution_count": null,
   "id": "287ce1e7",
   "metadata": {},
   "outputs": [],
   "source": []
  },
  {
   "cell_type": "code",
   "execution_count": null,
   "id": "be2e8241",
   "metadata": {},
   "outputs": [],
   "source": []
  },
  {
   "cell_type": "code",
   "execution_count": null,
   "id": "b191d89a",
   "metadata": {},
   "outputs": [],
   "source": []
  },
  {
   "cell_type": "code",
   "execution_count": null,
   "id": "eac8b0e8",
   "metadata": {},
   "outputs": [],
   "source": []
  },
  {
   "cell_type": "code",
   "execution_count": null,
   "id": "5881f9f8",
   "metadata": {},
   "outputs": [],
   "source": []
  }
 ],
 "metadata": {
  "kernelspec": {
   "display_name": "venv",
   "language": "python",
   "name": "python3"
  },
  "language_info": {
   "codemirror_mode": {
    "name": "ipython",
    "version": 3
   },
   "file_extension": ".py",
   "mimetype": "text/x-python",
   "name": "python",
   "nbconvert_exporter": "python",
   "pygments_lexer": "ipython3",
   "version": "3.13.3"
  }
 },
 "nbformat": 4,
 "nbformat_minor": 5
}
