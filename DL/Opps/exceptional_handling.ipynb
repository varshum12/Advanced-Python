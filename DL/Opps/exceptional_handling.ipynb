{
 "cells": [
  {
   "cell_type": "markdown",
   "id": "05e8d8dc",
   "metadata": {},
   "source": [
    "### Exceptional Handling"
   ]
  },
  {
   "cell_type": "code",
   "execution_count": 1,
   "id": "1b3e3367",
   "metadata": {},
   "outputs": [
    {
     "data": {
      "text/plain": [
       "0.6764705882352942"
      ]
     },
     "execution_count": 1,
     "metadata": {},
     "output_type": "execute_result"
    }
   ],
   "source": [
    "23/34"
   ]
  },
  {
   "cell_type": "code",
   "execution_count": 2,
   "id": "1efef44d",
   "metadata": {},
   "outputs": [
    {
     "ename": "ZeroDivisionError",
     "evalue": "division by zero",
     "output_type": "error",
     "traceback": [
      "\u001b[31m---------------------------------------------------------------------------\u001b[39m",
      "\u001b[31mZeroDivisionError\u001b[39m                         Traceback (most recent call last)",
      "\u001b[36mCell\u001b[39m\u001b[36m \u001b[39m\u001b[32mIn[2]\u001b[39m\u001b[32m, line 1\u001b[39m\n\u001b[32m----> \u001b[39m\u001b[32m1\u001b[39m \u001b[32;43m23\u001b[39;49m\u001b[43m/\u001b[49m\u001b[32;43m0\u001b[39;49m\n",
      "\u001b[31mZeroDivisionError\u001b[39m: division by zero"
     ]
    }
   ],
   "source": [
    "23/0"
   ]
  },
  {
   "cell_type": "code",
   "execution_count": 3,
   "metadata": {},
   "outputs": [
    {
     "name": "stderr",
     "output_type": "stream",
     "text": [
      "<>:1: SyntaxWarning: 'int' object is not callable; perhaps you missed a comma?\n",
      "<>:1: SyntaxWarning: 'int' object is not callable; perhaps you missed a comma?\n",
      "C:\\Users\\C S\\AppData\\Local\\Temp\\ipykernel_14436\\3824389642.py:1: SyntaxWarning: 'int' object is not callable; perhaps you missed a comma?\n",
      "  23()\n"
     ]
    },
    {
     "ename": "TypeError",
     "evalue": "'int' object is not callable",
     "output_type": "error",
     "traceback": [
      "\u001b[31m---------------------------------------------------------------------------\u001b[39m",
      "\u001b[31mTypeError\u001b[39m                                 Traceback (most recent call last)",
      "\u001b[36mCell\u001b[39m\u001b[36m \u001b[39m\u001b[32mIn[3]\u001b[39m\u001b[32m, line 1\u001b[39m\n\u001b[32m----> \u001b[39m\u001b[32m1\u001b[39m \u001b[32;43m23\u001b[39;49m\u001b[43m(\u001b[49m\u001b[43m)\u001b[49m\n",
      "\u001b[31mTypeError\u001b[39m: 'int' object is not callable"
     ]
    }
   ],
   "source": [
    "/23"
   ]
  },
  {
   "cell_type": "code",
   "execution_count": 4,
   "id": "b0390ca1",
   "metadata": {},
   "outputs": [
    {
     "ename": "TypeError",
     "evalue": "unsupported operand type(s) for /: 'str' and 'int'",
     "output_type": "error",
     "traceback": [
      "\u001b[31m---------------------------------------------------------------------------\u001b[39m",
      "\u001b[31mTypeError\u001b[39m                                 Traceback (most recent call last)",
      "\u001b[36mCell\u001b[39m\u001b[36m \u001b[39m\u001b[32mIn[4]\u001b[39m\u001b[32m, line 1\u001b[39m\n\u001b[32m----> \u001b[39m\u001b[32m1\u001b[39m \u001b[33;43m'\u001b[39;49m\u001b[33;43mstr\u001b[39;49m\u001b[33;43m'\u001b[39;49m\u001b[43m/\u001b[49m\u001b[32;43m34\u001b[39;49m\n",
      "\u001b[31mTypeError\u001b[39m: unsupported operand type(s) for /: 'str' and 'int'"
     ]
    }
   ],
   "source": [
    "'str'/34"
   ]
  },
  {
   "cell_type": "code",
   "execution_count": 5,
   "id": "622d4dda",
   "metadata": {},
   "outputs": [
    {
     "data": {
      "text/plain": [
       "123"
      ]
     },
     "execution_count": 5,
     "metadata": {},
     "output_type": "execute_result"
    }
   ],
   "source": [
    "s1  = '123'\n",
    "int(s1)"
   ]
  },
  {
   "cell_type": "code",
   "execution_count": 6,
   "id": "fe340f22",
   "metadata": {},
   "outputs": [
    {
     "ename": "ValueError",
     "evalue": "invalid literal for int() with base 10: 'abc'",
     "output_type": "error",
     "traceback": [
      "\u001b[31m---------------------------------------------------------------------------\u001b[39m",
      "\u001b[31mValueError\u001b[39m                                Traceback (most recent call last)",
      "\u001b[36mCell\u001b[39m\u001b[36m \u001b[39m\u001b[32mIn[6]\u001b[39m\u001b[32m, line 2\u001b[39m\n\u001b[32m      1\u001b[39m s2 = \u001b[33m'\u001b[39m\u001b[33mabc\u001b[39m\u001b[33m'\u001b[39m\n\u001b[32m----> \u001b[39m\u001b[32m2\u001b[39m \u001b[38;5;28;43mint\u001b[39;49m\u001b[43m(\u001b[49m\u001b[43ms2\u001b[49m\u001b[43m)\u001b[49m\n",
      "\u001b[31mValueError\u001b[39m: invalid literal for int() with base 10: 'abc'"
     ]
    }
   ],
   "source": [
    "s2 = 'abc'\n",
    "int(s2)"
   ]
  },
  {
   "cell_type": "markdown",
   "id": "4fdef9da",
   "metadata": {},
   "source": [
    "### Define Function for Division of two numbers"
   ]
  },
  {
   "cell_type": "code",
   "execution_count": null,
   "id": "3957e657",
   "metadata": {},
   "outputs": [],
   "source": [
    "def Division():\n",
    "    num = float(input())\n",
    "    den = float(input())\n",
    "    div  = num/ den\n",
    "    print(f'division is between {num} and {den} --> {num}/{den}')\n",
    "    return div\n"
   ]
  },
  {
   "cell_type": "code",
   "execution_count": 14,
   "id": "33714e75",
   "metadata": {},
   "outputs": [
    {
     "name": "stdout",
     "output_type": "stream",
     "text": [
      "division is between 30.0 and 5.0 --> 30.0/5.0\n"
     ]
    },
    {
     "data": {
      "text/plain": [
       "6.0"
      ]
     },
     "execution_count": 14,
     "metadata": {},
     "output_type": "execute_result"
    }
   ],
   "source": [
    "Division()"
   ]
  },
  {
   "cell_type": "code",
   "execution_count": 16,
   "id": "7e1f9cbb",
   "metadata": {},
   "outputs": [
    {
     "ename": "ZeroDivisionError",
     "evalue": "float division by zero",
     "output_type": "error",
     "traceback": [
      "\u001b[31m---------------------------------------------------------------------------\u001b[39m",
      "\u001b[31mZeroDivisionError\u001b[39m                         Traceback (most recent call last)",
      "\u001b[36mCell\u001b[39m\u001b[36m \u001b[39m\u001b[32mIn[16]\u001b[39m\u001b[32m, line 1\u001b[39m\n\u001b[32m----> \u001b[39m\u001b[32m1\u001b[39m \u001b[43mDivision\u001b[49m\u001b[43m(\u001b[49m\u001b[43m)\u001b[49m\n\u001b[32m      2\u001b[39m \u001b[38;5;28mprint\u001b[39m(\u001b[33m'\u001b[39m\u001b[33mHello\u001b[39m\u001b[33m'\u001b[39m)\n",
      "\u001b[36mCell\u001b[39m\u001b[36m \u001b[39m\u001b[32mIn[13]\u001b[39m\u001b[32m, line 4\u001b[39m, in \u001b[36mDivision\u001b[39m\u001b[34m()\u001b[39m\n\u001b[32m      2\u001b[39m num = \u001b[38;5;28mfloat\u001b[39m(\u001b[38;5;28minput\u001b[39m())\n\u001b[32m      3\u001b[39m den = \u001b[38;5;28mfloat\u001b[39m(\u001b[38;5;28minput\u001b[39m())\n\u001b[32m----> \u001b[39m\u001b[32m4\u001b[39m div  = \u001b[43mnum\u001b[49m\u001b[43m/\u001b[49m\u001b[43m \u001b[49m\u001b[43mden\u001b[49m\n\u001b[32m      5\u001b[39m \u001b[38;5;28mprint\u001b[39m(\u001b[33mf\u001b[39m\u001b[33m'\u001b[39m\u001b[33mdivision is between \u001b[39m\u001b[38;5;132;01m{\u001b[39;00mnum\u001b[38;5;132;01m}\u001b[39;00m\u001b[33m and \u001b[39m\u001b[38;5;132;01m{\u001b[39;00mden\u001b[38;5;132;01m}\u001b[39;00m\u001b[33m --> \u001b[39m\u001b[38;5;132;01m{\u001b[39;00mnum\u001b[38;5;132;01m}\u001b[39;00m\u001b[33m/\u001b[39m\u001b[38;5;132;01m{\u001b[39;00mden\u001b[38;5;132;01m}\u001b[39;00m\u001b[33m'\u001b[39m)\n\u001b[32m      6\u001b[39m \u001b[38;5;28;01mreturn\u001b[39;00m div\n",
      "\u001b[31mZeroDivisionError\u001b[39m: float division by zero"
     ]
    }
   ],
   "source": [
    "Division()\n",
    "print('Hello')"
   ]
  },
  {
   "cell_type": "code",
   "execution_count": 17,
   "id": "0abe40b6",
   "metadata": {},
   "outputs": [
    {
     "ename": "ValueError",
     "evalue": "could not convert string to float: ''",
     "output_type": "error",
     "traceback": [
      "\u001b[31m---------------------------------------------------------------------------\u001b[39m",
      "\u001b[31mValueError\u001b[39m                                Traceback (most recent call last)",
      "\u001b[36mCell\u001b[39m\u001b[36m \u001b[39m\u001b[32mIn[17]\u001b[39m\u001b[32m, line 1\u001b[39m\n\u001b[32m----> \u001b[39m\u001b[32m1\u001b[39m \u001b[43mDivision\u001b[49m\u001b[43m(\u001b[49m\u001b[43m)\u001b[49m\n",
      "\u001b[36mCell\u001b[39m\u001b[36m \u001b[39m\u001b[32mIn[13]\u001b[39m\u001b[32m, line 2\u001b[39m, in \u001b[36mDivision\u001b[39m\u001b[34m()\u001b[39m\n\u001b[32m      1\u001b[39m \u001b[38;5;28;01mdef\u001b[39;00m\u001b[38;5;250m \u001b[39m\u001b[34mDivision\u001b[39m():\n\u001b[32m----> \u001b[39m\u001b[32m2\u001b[39m     num = \u001b[38;5;28;43mfloat\u001b[39;49m\u001b[43m(\u001b[49m\u001b[38;5;28;43minput\u001b[39;49m\u001b[43m(\u001b[49m\u001b[43m)\u001b[49m\u001b[43m)\u001b[49m\n\u001b[32m      3\u001b[39m     den = \u001b[38;5;28mfloat\u001b[39m(\u001b[38;5;28minput\u001b[39m())\n\u001b[32m      4\u001b[39m     div  = num/ den\n",
      "\u001b[31mValueError\u001b[39m: could not convert string to float: ''"
     ]
    }
   ],
   "source": [
    "Division()"
   ]
  },
  {
   "cell_type": "code",
   "execution_count": 18,
   "id": "dd4f1190",
   "metadata": {},
   "outputs": [
    {
     "ename": "ValueError",
     "evalue": "could not convert string to float: \"'12'\"",
     "output_type": "error",
     "traceback": [
      "\u001b[31m---------------------------------------------------------------------------\u001b[39m",
      "\u001b[31mValueError\u001b[39m                                Traceback (most recent call last)",
      "\u001b[36mCell\u001b[39m\u001b[36m \u001b[39m\u001b[32mIn[18]\u001b[39m\u001b[32m, line 1\u001b[39m\n\u001b[32m----> \u001b[39m\u001b[32m1\u001b[39m \u001b[43mDivision\u001b[49m\u001b[43m(\u001b[49m\u001b[43m)\u001b[49m\n",
      "\u001b[36mCell\u001b[39m\u001b[36m \u001b[39m\u001b[32mIn[13]\u001b[39m\u001b[32m, line 3\u001b[39m, in \u001b[36mDivision\u001b[39m\u001b[34m()\u001b[39m\n\u001b[32m      1\u001b[39m \u001b[38;5;28;01mdef\u001b[39;00m\u001b[38;5;250m \u001b[39m\u001b[34mDivision\u001b[39m():\n\u001b[32m      2\u001b[39m     num = \u001b[38;5;28mfloat\u001b[39m(\u001b[38;5;28minput\u001b[39m())\n\u001b[32m----> \u001b[39m\u001b[32m3\u001b[39m     den = \u001b[38;5;28;43mfloat\u001b[39;49m\u001b[43m(\u001b[49m\u001b[38;5;28;43minput\u001b[39;49m\u001b[43m(\u001b[49m\u001b[43m)\u001b[49m\u001b[43m)\u001b[49m\n\u001b[32m      4\u001b[39m     div  = num/ den\n\u001b[32m      5\u001b[39m     \u001b[38;5;28mprint\u001b[39m(\u001b[33mf\u001b[39m\u001b[33m'\u001b[39m\u001b[33mdivision is between \u001b[39m\u001b[38;5;132;01m{\u001b[39;00mnum\u001b[38;5;132;01m}\u001b[39;00m\u001b[33m and \u001b[39m\u001b[38;5;132;01m{\u001b[39;00mden\u001b[38;5;132;01m}\u001b[39;00m\u001b[33m --> \u001b[39m\u001b[38;5;132;01m{\u001b[39;00mnum\u001b[38;5;132;01m}\u001b[39;00m\u001b[33m/\u001b[39m\u001b[38;5;132;01m{\u001b[39;00mden\u001b[38;5;132;01m}\u001b[39;00m\u001b[33m'\u001b[39m)\n",
      "\u001b[31mValueError\u001b[39m: could not convert string to float: \"'12'\""
     ]
    }
   ],
   "source": [
    "Division()"
   ]
  },
  {
   "cell_type": "markdown",
   "id": "23da98eb",
   "metadata": {},
   "source": [
    "### Use Try and Except"
   ]
  },
  {
   "cell_type": "code",
   "execution_count": 22,
   "id": "740e5b41",
   "metadata": {},
   "outputs": [],
   "source": [
    "def Division2():\n",
    "    try:\n",
    "        num = float(input())\n",
    "        den = float(input())\n",
    "        div  = num/ den\n",
    "        print(f'division is between {num} and {den} --> {num}/{den}')\n",
    "        return div\n",
    "    except Exception as e:\n",
    "        print('Exception occured' ,e)\n"
   ]
  },
  {
   "cell_type": "code",
   "execution_count": 25,
   "id": "74750288",
   "metadata": {},
   "outputs": [
    {
     "name": "stdout",
     "output_type": "stream",
     "text": [
      "division is between 12.0 and 4.0 --> 12.0/4.0\n"
     ]
    },
    {
     "data": {
      "text/plain": [
       "3.0"
      ]
     },
     "execution_count": 25,
     "metadata": {},
     "output_type": "execute_result"
    }
   ],
   "source": [
    "Division2()"
   ]
  },
  {
   "cell_type": "code",
   "execution_count": 29,
   "id": "70d3aeb5",
   "metadata": {},
   "outputs": [
    {
     "name": "stdout",
     "output_type": "stream",
     "text": [
      "Exception occured could not convert string to float: \"'12'\"\n",
      "Hello\n",
      "35\n",
      "Data\n"
     ]
    }
   ],
   "source": [
    "Division2()\n",
    "print('Hello')\n",
    "print(12+23)\n",
    "print('Data')"
   ]
  },
  {
   "cell_type": "markdown",
   "id": "a79c045f",
   "metadata": {},
   "source": [
    "### Detailed Exceptional Handling"
   ]
  },
  {
   "cell_type": "code",
   "execution_count": null,
   "id": "c7e80d33",
   "metadata": {},
   "outputs": [],
   "source": [
    "def Division3():\n",
    "    try:\n",
    "        num = float(input())\n",
    "        den = float(input())\n",
    "        div = num/den\n",
    "        print(f'This is division between {num}  and {den} --> {num}/ {den}')\n",
    "        return div\n",
    "    except ValueError:\n",
    "        print('values should not be blank or string')\n",
    "        print('Values should be int or float')\n",
    "    except ZeroDivisionError :\n",
    "        print('Denominator Should not be 0')\n",
    "    except Exception as e:\n",
    "        print(f'Exception occured : {e}')"
   ]
  },
  {
   "cell_type": "code",
   "execution_count": 22,
   "id": "1f0cc603",
   "metadata": {},
   "outputs": [
    {
     "name": "stdout",
     "output_type": "stream",
     "text": [
      "This is division between 120.0  and 3.0 --> 120.0/ 3.0\n",
      "40.0\n"
     ]
    },
    {
     "data": {
      "text/plain": [
       "40.0"
      ]
     },
     "execution_count": 22,
     "metadata": {},
     "output_type": "execute_result"
    }
   ],
   "source": [
    "a  = Division3()\n",
    "print(a)\n",
    "round(a ,3)"
   ]
  },
  {
   "cell_type": "code",
   "execution_count": 26,
   "id": "02971254",
   "metadata": {},
   "outputs": [
    {
     "name": "stdout",
     "output_type": "stream",
     "text": [
      "This is division between 120.0  and 4.0 --> 120.0/ 4.0\n"
     ]
    },
    {
     "data": {
      "text/plain": [
       "30.0"
      ]
     },
     "execution_count": 26,
     "metadata": {},
     "output_type": "execute_result"
    }
   ],
   "source": [
    "Division3()\n",
    "\n"
   ]
  },
  {
   "cell_type": "code",
   "execution_count": 20,
   "id": "89104934",
   "metadata": {},
   "outputs": [
    {
     "name": "stdout",
     "output_type": "stream",
     "text": [
      "values should not be blank or string\n",
      "Values should be int or float\n",
      "hello\n",
      "90\n"
     ]
    }
   ],
   "source": [
    "c = Division3()\n",
    "print('hello')\n",
    "print(34+56)"
   ]
  },
  {
   "cell_type": "markdown",
   "id": "adec4adc",
   "metadata": {},
   "source": [
    "#### raise own ValueError"
   ]
  },
  {
   "cell_type": "code",
   "execution_count": 31,
   "id": "a7582f12",
   "metadata": {},
   "outputs": [
    {
     "name": "stdout",
     "output_type": "stream",
     "text": [
      "-11\n"
     ]
    }
   ],
   "source": [
    "age  =  int(input('Please enter valid Age here'))\n",
    "print(age)"
   ]
  },
  {
   "cell_type": "code",
   "execution_count": 8,
   "id": "056503d0",
   "metadata": {},
   "outputs": [],
   "source": [
    "def valid_age():\n",
    "    try :\n",
    "        age = int(input('Please enter valid age here'))\n",
    "        if age < 0 or age > 110:\n",
    "            raise ValueError('Age should be between 0 to 110')\n",
    "        else :\n",
    "            print('Age of User is -->' , age )\n",
    "            return age\n",
    "        \n",
    "    except Exception as e:\n",
    "        print('Exception occured' , e)\n"
   ]
  },
  {
   "cell_type": "code",
   "execution_count": null,
   "id": "90ae7136",
   "metadata": {},
   "outputs": [
    {
     "name": "stdout",
     "output_type": "stream",
     "text": [
      "Exception occured Age should be between 0 to 110\n"
     ]
    }
   ],
   "source": [
    "# enter age 120\n",
    "a  = valid_age()\n",
    "a"
   ]
  },
  {
   "cell_type": "code",
   "execution_count": null,
   "id": "7ba58f7c",
   "metadata": {},
   "outputs": [
    {
     "name": "stdout",
     "output_type": "stream",
     "text": [
      "Age of User is --> 35\n"
     ]
    },
    {
     "data": {
      "text/plain": [
       "35"
      ]
     },
     "execution_count": 10,
     "metadata": {},
     "output_type": "execute_result"
    }
   ],
   "source": [
    "# Enter age 35\n",
    "valid_age()\n"
   ]
  },
  {
   "cell_type": "code",
   "execution_count": 11,
   "id": "67f39919",
   "metadata": {},
   "outputs": [
    {
     "name": "stdout",
     "output_type": "stream",
     "text": [
      "Exception occured Age should be between 0 to 110\n"
     ]
    }
   ],
   "source": [
    "# Enter age -20\n",
    "valid_age()"
   ]
  },
  {
   "cell_type": "markdown",
   "id": "4830b86c",
   "metadata": {},
   "source": [
    "## All blocks\n",
    "- try - true\n",
    "-  except -  when condition is not true\n",
    "-  else - when try is true\n",
    "- finally -  will always excutes"
   ]
  },
  {
   "cell_type": "code",
   "execution_count": 14,
   "id": "2c337f85",
   "metadata": {},
   "outputs": [],
   "source": [
    "import math"
   ]
  },
  {
   "cell_type": "code",
   "execution_count": 15,
   "id": "16370216",
   "metadata": {},
   "outputs": [
    {
     "data": {
      "text/plain": [
       "5.830951894845301"
      ]
     },
     "execution_count": 15,
     "metadata": {},
     "output_type": "execute_result"
    }
   ],
   "source": [
    "num  = 34\n",
    "math.sqrt(num)"
   ]
  },
  {
   "cell_type": "code",
   "execution_count": 16,
   "id": "6861fb03",
   "metadata": {},
   "outputs": [
    {
     "ename": "ValueError",
     "evalue": "math domain error",
     "output_type": "error",
     "traceback": [
      "\u001b[31m---------------------------------------------------------------------------\u001b[39m",
      "\u001b[31mValueError\u001b[39m                                Traceback (most recent call last)",
      "\u001b[36mCell\u001b[39m\u001b[36m \u001b[39m\u001b[32mIn[16]\u001b[39m\u001b[32m, line 2\u001b[39m\n\u001b[32m      1\u001b[39m num1 = -\u001b[32m34\u001b[39m\n\u001b[32m----> \u001b[39m\u001b[32m2\u001b[39m \u001b[43mmath\u001b[49m\u001b[43m.\u001b[49m\u001b[43msqrt\u001b[49m\u001b[43m(\u001b[49m\u001b[43mnum1\u001b[49m\u001b[43m)\u001b[49m\n",
      "\u001b[31mValueError\u001b[39m: math domain error"
     ]
    }
   ],
   "source": [
    "num1 = -34\n",
    "math.sqrt(num1)"
   ]
  },
  {
   "cell_type": "code",
   "execution_count": 17,
   "id": "da146399",
   "metadata": {},
   "outputs": [
    {
     "ename": "TypeError",
     "evalue": "must be real number, not str",
     "output_type": "error",
     "traceback": [
      "\u001b[31m---------------------------------------------------------------------------\u001b[39m",
      "\u001b[31mTypeError\u001b[39m                                 Traceback (most recent call last)",
      "\u001b[36mCell\u001b[39m\u001b[36m \u001b[39m\u001b[32mIn[17]\u001b[39m\u001b[32m, line 2\u001b[39m\n\u001b[32m      1\u001b[39m num3 = \u001b[33m'\u001b[39m\u001b[33m144\u001b[39m\u001b[33m'\u001b[39m\n\u001b[32m----> \u001b[39m\u001b[32m2\u001b[39m \u001b[43mmath\u001b[49m\u001b[43m.\u001b[49m\u001b[43msqrt\u001b[49m\u001b[43m(\u001b[49m\u001b[43mnum3\u001b[49m\u001b[43m)\u001b[49m\n",
      "\u001b[31mTypeError\u001b[39m: must be real number, not str"
     ]
    }
   ],
   "source": [
    "num3 = '144'\n",
    "math.sqrt(num3)"
   ]
  },
  {
   "cell_type": "markdown",
   "id": "7759e377",
   "metadata": {},
   "source": [
    "### Find square root of number"
   ]
  },
  {
   "cell_type": "code",
   "execution_count": 18,
   "id": "2ad12a3c",
   "metadata": {},
   "outputs": [],
   "source": [
    "def sqaure_root():\n",
    "    try:\n",
    "        num = float(input('please enter positive number'))\n",
    "        s = math.sqrt(num)\n",
    "\n",
    "    except Exception as e:\n",
    "        print(f'Exception occured , {e}')\n",
    "\n",
    "    else:\n",
    "        print(f'square root of {num} is {s}')\n",
    "        return s\n",
    "    finally:\n",
    "        print('Finally block will always excutes')"
   ]
  },
  {
   "cell_type": "code",
   "execution_count": null,
   "id": "13ac4e14",
   "metadata": {},
   "outputs": [
    {
     "name": "stdout",
     "output_type": "stream",
     "text": [
      "square root of 144.0 is 12.0\n",
      "Finally block will always excutes\n"
     ]
    },
    {
     "data": {
      "text/plain": [
       "12.0"
      ]
     },
     "execution_count": 20,
     "metadata": {},
     "output_type": "execute_result"
    }
   ],
   "source": [
    "# enter number 144\n",
    "num1 = sqaure_root()\n",
    "num1"
   ]
  },
  {
   "cell_type": "code",
   "execution_count": null,
   "id": "688a3635",
   "metadata": {},
   "outputs": [
    {
     "name": "stdout",
     "output_type": "stream",
     "text": [
      "Exception occured , math domain error\n",
      "Finally block will always excutes\n"
     ]
    }
   ],
   "source": [
    "# enter number -144\n",
    "num2 = sqaure_root()\n",
    "num2"
   ]
  },
  {
   "cell_type": "code",
   "execution_count": 24,
   "id": "6d17a835",
   "metadata": {},
   "outputs": [
    {
     "name": "stdout",
     "output_type": "stream",
     "text": [
      "square root of 3.0 is 1.7320508075688772\n",
      "Finally block will always excutes\n"
     ]
    },
    {
     "data": {
      "text/plain": [
       "1.7321"
      ]
     },
     "execution_count": 24,
     "metadata": {},
     "output_type": "execute_result"
    }
   ],
   "source": [
    "# enter number 3\n",
    "num3 = sqaure_root()\n",
    "round(num3 , 4)"
   ]
  },
  {
   "cell_type": "code",
   "execution_count": 25,
   "id": "be5d68bb",
   "metadata": {},
   "outputs": [
    {
     "name": "stdout",
     "output_type": "stream",
     "text": [
      "Exception occured , could not convert string to float: ''\n",
      "Finally block will always excutes\n"
     ]
    }
   ],
   "source": [
    "# enter blank\n",
    "num3 = sqaure_root()"
   ]
  },
  {
   "cell_type": "code",
   "execution_count": 29,
   "id": "feeacd9e",
   "metadata": {},
   "outputs": [],
   "source": [
    "def square_root():\n",
    "     try:\n",
    "         num = float(input('Pelease enter positive number'))\n",
    "         s = math.sqrt(num)\n",
    "     except Exception as e:\n",
    "         print(f'Exception Occured , {e}')\n",
    "     else:\n",
    "         print(f'Square root of {num} is {s}')\n",
    "         return s\n",
    "     finally:\n",
    "         print('Finally block will always execute')"
   ]
  },
  {
   "cell_type": "code",
   "execution_count": 30,
   "id": "6ff93a13",
   "metadata": {},
   "outputs": [
    {
     "name": "stdout",
     "output_type": "stream",
     "text": [
      "Exception Occured , math domain error\n",
      "Finally block will always execute\n",
      "None\n"
     ]
    }
   ],
   "source": [
    "num1 = square_root()\n",
    "print(num1)"
   ]
  },
  {
   "cell_type": "markdown",
   "id": "6d8a36e2",
   "metadata": {},
   "source": []
  }
 ],
 "metadata": {
  "kernelspec": {
   "display_name": "venv",
   "language": "python",
   "name": "python3"
  },
  "language_info": {
   "codemirror_mode": {
    "name": "ipython",
    "version": 3
   },
   "file_extension": ".py",
   "mimetype": "text/x-python",
   "name": "python",
   "nbconvert_exporter": "python",
   "pygments_lexer": "ipython3",
   "version": "3.13.3"
  }
 },
 "nbformat": 4,
 "nbformat_minor": 5
}
