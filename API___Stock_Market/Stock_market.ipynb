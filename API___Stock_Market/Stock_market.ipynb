{
 "cells": [
  {
   "cell_type": "code",
   "execution_count": null,
   "id": "cbd9c718",
   "metadata": {},
   "outputs": [],
   "source": [
    "%pip install python-dotenv"
   ]
  },
  {
   "cell_type": "code",
   "execution_count": null,
   "id": "c1192ee0",
   "metadata": {},
   "outputs": [],
   "source": [
    "%pip install plotly nbformat"
   ]
  },
  {
   "cell_type": "code",
   "execution_count": 67,
   "id": "cef250b4",
   "metadata": {},
   "outputs": [],
   "source": [
    "from warnings import filterwarnings\n",
    "filterwarnings('ignore')"
   ]
  },
  {
   "cell_type": "code",
   "execution_count": 68,
   "id": "72157ef3",
   "metadata": {},
   "outputs": [
    {
     "data": {
      "text/plain": [
       "True"
      ]
     },
     "execution_count": 68,
     "metadata": {},
     "output_type": "execute_result"
    }
   ],
   "source": [
    "from dotenv import load_dotenv\n",
    "load_dotenv()"
   ]
  },
  {
   "cell_type": "code",
   "execution_count": 69,
   "id": "533592dd",
   "metadata": {},
   "outputs": [],
   "source": [
    "import os \n",
    "api_key = os.getenv(\"API_KEY\")"
   ]
  },
  {
   "cell_type": "code",
   "execution_count": null,
   "id": "552d8ff5",
   "metadata": {},
   "outputs": [],
   "source": [
    "import requests\n",
    "\n",
    "url = \"https://alpha-vantage.p.rapidapi.com/query\"\n",
    "\n",
    "querystring = {\"datatype\":\"json\",\"keywords\":\"State bank of india\",\n",
    "               \"function\":\"SYMBOL_SEARCH\"}\n",
    "\n",
    "headers = {\n",
    "\t\"x-rapidapi-key\": api_key,\n",
    "\t\"x-rapidapi-host\": \"alpha-vantage.p.rapidapi.com\"\n",
    "}\n",
    "\n",
    "response = requests.get(url, headers=headers, params=querystring)\n",
    "\n",
    "\n",
    "data  = response.json() "
   ]
  },
  {
   "cell_type": "code",
   "execution_count": 71,
   "id": "d99e13be",
   "metadata": {},
   "outputs": [
    {
     "data": {
      "text/plain": [
       "{'bestMatches': [{'1. symbol': 'SBIN.BSE',\n",
       "   '2. name': 'State Bank of India',\n",
       "   '3. type': 'Equity',\n",
       "   '4. region': 'India/Bombay',\n",
       "   '5. marketOpen': '09:15',\n",
       "   '6. marketClose': '15:30',\n",
       "   '7. timezone': 'UTC+5.5',\n",
       "   '8. currency': 'INR',\n",
       "   '9. matchScore': '1.0000'},\n",
       "  {'1. symbol': 'SBKFF',\n",
       "   '2. name': 'State Bank of India',\n",
       "   '3. type': 'Equity',\n",
       "   '4. region': 'United States',\n",
       "   '5. marketOpen': '09:30',\n",
       "   '6. marketClose': '16:00',\n",
       "   '7. timezone': 'UTC-04',\n",
       "   '8. currency': 'USD',\n",
       "   '9. matchScore': '1.0000'},\n",
       "  {'1. symbol': 'SID.FRK',\n",
       "   '2. name': 'State Bank of India',\n",
       "   '3. type': 'Equity',\n",
       "   '4. region': 'Frankfurt',\n",
       "   '5. marketOpen': '08:00',\n",
       "   '6. marketClose': '20:00',\n",
       "   '7. timezone': 'UTC+02',\n",
       "   '8. currency': 'EUR',\n",
       "   '9. matchScore': '1.0000'},\n",
       "  {'1. symbol': 'SBID.LON',\n",
       "   '2. name': 'State Bank of India GDR',\n",
       "   '3. type': 'Equity',\n",
       "   '4. region': 'United Kingdom',\n",
       "   '5. marketOpen': '08:00',\n",
       "   '6. marketClose': '16:30',\n",
       "   '7. timezone': 'UTC+01',\n",
       "   '8. currency': 'USD',\n",
       "   '9. matchScore': '0.9048'}]}"
      ]
     },
     "execution_count": 71,
     "metadata": {},
     "output_type": "execute_result"
    }
   ],
   "source": [
    "data"
   ]
  },
  {
   "cell_type": "code",
   "execution_count": 72,
   "id": "d2c73071",
   "metadata": {},
   "outputs": [
    {
     "data": {
      "text/plain": [
       "dict_keys(['bestMatches'])"
      ]
     },
     "execution_count": 72,
     "metadata": {},
     "output_type": "execute_result"
    }
   ],
   "source": [
    "data.keys()"
   ]
  },
  {
   "cell_type": "code",
   "execution_count": 73,
   "id": "a63a03f8",
   "metadata": {},
   "outputs": [
    {
     "data": {
      "text/plain": [
       "[{'1. symbol': 'SBIN.BSE',\n",
       "  '2. name': 'State Bank of India',\n",
       "  '3. type': 'Equity',\n",
       "  '4. region': 'India/Bombay',\n",
       "  '5. marketOpen': '09:15',\n",
       "  '6. marketClose': '15:30',\n",
       "  '7. timezone': 'UTC+5.5',\n",
       "  '8. currency': 'INR',\n",
       "  '9. matchScore': '1.0000'},\n",
       " {'1. symbol': 'SBKFF',\n",
       "  '2. name': 'State Bank of India',\n",
       "  '3. type': 'Equity',\n",
       "  '4. region': 'United States',\n",
       "  '5. marketOpen': '09:30',\n",
       "  '6. marketClose': '16:00',\n",
       "  '7. timezone': 'UTC-04',\n",
       "  '8. currency': 'USD',\n",
       "  '9. matchScore': '1.0000'},\n",
       " {'1. symbol': 'SID.FRK',\n",
       "  '2. name': 'State Bank of India',\n",
       "  '3. type': 'Equity',\n",
       "  '4. region': 'Frankfurt',\n",
       "  '5. marketOpen': '08:00',\n",
       "  '6. marketClose': '20:00',\n",
       "  '7. timezone': 'UTC+02',\n",
       "  '8. currency': 'EUR',\n",
       "  '9. matchScore': '1.0000'},\n",
       " {'1. symbol': 'SBID.LON',\n",
       "  '2. name': 'State Bank of India GDR',\n",
       "  '3. type': 'Equity',\n",
       "  '4. region': 'United Kingdom',\n",
       "  '5. marketOpen': '08:00',\n",
       "  '6. marketClose': '16:30',\n",
       "  '7. timezone': 'UTC+01',\n",
       "  '8. currency': 'USD',\n",
       "  '9. matchScore': '0.9048'}]"
      ]
     },
     "execution_count": 73,
     "metadata": {},
     "output_type": "execute_result"
    }
   ],
   "source": [
    "data['bestMatches']"
   ]
  },
  {
   "cell_type": "code",
   "execution_count": 74,
   "id": "0ad3852d",
   "metadata": {},
   "outputs": [
    {
     "name": "stdout",
     "output_type": "stream",
     "text": [
      "{'1. symbol': 'SBIN.BSE', '2. name': 'State Bank of India', '3. type': 'Equity', '4. region': 'India/Bombay', '5. marketOpen': '09:15', '6. marketClose': '15:30', '7. timezone': 'UTC+5.5', '8. currency': 'INR', '9. matchScore': '1.0000'}\n",
      "{'1. symbol': 'SBKFF', '2. name': 'State Bank of India', '3. type': 'Equity', '4. region': 'United States', '5. marketOpen': '09:30', '6. marketClose': '16:00', '7. timezone': 'UTC-04', '8. currency': 'USD', '9. matchScore': '1.0000'}\n",
      "{'1. symbol': 'SID.FRK', '2. name': 'State Bank of India', '3. type': 'Equity', '4. region': 'Frankfurt', '5. marketOpen': '08:00', '6. marketClose': '20:00', '7. timezone': 'UTC+02', '8. currency': 'EUR', '9. matchScore': '1.0000'}\n",
      "{'1. symbol': 'SBID.LON', '2. name': 'State Bank of India GDR', '3. type': 'Equity', '4. region': 'United Kingdom', '5. marketOpen': '08:00', '6. marketClose': '16:30', '7. timezone': 'UTC+01', '8. currency': 'USD', '9. matchScore': '0.9048'}\n"
     ]
    }
   ],
   "source": [
    "for i in data['bestMatches']:\n",
    "    print(i)"
   ]
  },
  {
   "cell_type": "code",
   "execution_count": 75,
   "id": "1f3b0560",
   "metadata": {},
   "outputs": [
    {
     "name": "stdout",
     "output_type": "stream",
     "text": [
      "SBIN.BSE ----> State Bank of India -----> India/Bombay\n",
      "SBKFF ----> State Bank of India -----> United States\n",
      "SID.FRK ----> State Bank of India -----> Frankfurt\n",
      "SBID.LON ----> State Bank of India GDR -----> United Kingdom\n"
     ]
    }
   ],
   "source": [
    "for i in data['bestMatches']:\n",
    "    print(i['1. symbol'] , \"---->\" ,  i['2. name']  ,\"----->\",  i['4. region']) "
   ]
  },
  {
   "cell_type": "markdown",
   "id": "90bf620c",
   "metadata": {},
   "source": [
    "## Daily time series  data "
   ]
  },
  {
   "cell_type": "markdown",
   "id": "fd30087c",
   "metadata": {},
   "source": []
  },
  {
   "cell_type": "code",
   "execution_count": 80,
   "id": "92d3609f",
   "metadata": {},
   "outputs": [],
   "source": [
    "import requests\n",
    "\n",
    "url = \"https://alpha-vantage.p.rapidapi.com/query\"\n",
    "\n",
    "querystring = {\"function\":\"TIME_SERIES_DAILY\",\"symbol\":\"SBIN.BSE\",\"outputsize\":\"compact\",\"datatype\":\"json\"}\n",
    "\n",
    "headers = {\n",
    "\t\"x-rapidapi-key\": api_key , \n",
    "\t\"x-rapidapi-host\": \"alpha-vantage.p.rapidapi.com\"\n",
    "}\n",
    "\n",
    "response = requests.get(url, headers=headers, params=querystring)\n",
    "df = response.json()"
   ]
  },
  {
   "cell_type": "code",
   "execution_count": 81,
   "id": "a73e9bd3",
   "metadata": {},
   "outputs": [
    {
     "data": {
      "text/plain": [
       "{'Meta Data': {'1. Information': 'Daily Prices (open, high, low, close) and Volumes',\n",
       "  '2. Symbol': 'SBIN.BSE',\n",
       "  '3. Last Refreshed': '2025-05-13',\n",
       "  '4. Output Size': 'Compact',\n",
       "  '5. Time Zone': 'US/Eastern'},\n",
       " 'Time Series (Daily)': {'2025-05-13': {'1. open': '800.4500',\n",
       "   '2. high': '807.7000',\n",
       "   '3. low': '797.2500',\n",
       "   '4. close': '801.9000',\n",
       "   '5. volume': '717454'},\n",
       "  '2025-05-12': {'1. open': '799.8500',\n",
       "   '2. high': '803.9000',\n",
       "   '3. low': '793.1000',\n",
       "   '4. close': '801.6000',\n",
       "   '5. volume': '829415'},\n",
       "  '2025-05-09': {'1. open': '755.2500',\n",
       "   '2. high': '781.4000',\n",
       "   '3. low': '755.2500',\n",
       "   '4. close': '779.4000',\n",
       "   '5. volume': '375997'},\n",
       "  '2025-05-08': {'1. open': '778.0000',\n",
       "   '2. high': '786.5000',\n",
       "   '3. low': '765.0000',\n",
       "   '4. close': '768.7500',\n",
       "   '5. volume': '463248'},\n",
       "  '2025-05-07': {'1. open': '762.2500',\n",
       "   '2. high': '782.5500',\n",
       "   '3. low': '762.2500',\n",
       "   '4. close': '776.1500',\n",
       "   '5. volume': '581175'},\n",
       "  '2025-05-06': {'1. open': '792.2000',\n",
       "   '2. high': '799.0000',\n",
       "   '3. low': '771.1500',\n",
       "   '4. close': '774.1500',\n",
       "   '5. volume': '761282'},\n",
       "  '2025-05-05': {'1. open': '784.9500',\n",
       "   '2. high': '799.1000',\n",
       "   '3. low': '783.6500',\n",
       "   '4. close': '790.0000',\n",
       "   '5. volume': '771587'},\n",
       "  '2025-05-02': {'1. open': '792.0500',\n",
       "   '2. high': '802.9500',\n",
       "   '3. low': '789.2500',\n",
       "   '4. close': '800.0500',\n",
       "   '5. volume': '335006'},\n",
       "  '2025-04-30': {'1. open': '812.8500',\n",
       "   '2. high': '812.8500',\n",
       "   '3. low': '784.4500',\n",
       "   '4. close': '788.1500',\n",
       "   '5. volume': '412886'},\n",
       "  '2025-04-29': {'1. open': '820.0000',\n",
       "   '2. high': '829.0000',\n",
       "   '3. low': '808.7500',\n",
       "   '4. close': '811.7500',\n",
       "   '5. volume': '699284'},\n",
       "  '2025-04-28': {'1. open': '796.3000',\n",
       "   '2. high': '822.5000',\n",
       "   '3. low': '796.3000',\n",
       "   '4. close': '817.6000',\n",
       "   '5. volume': '1068737'},\n",
       "  '2025-04-25': {'1. open': '813.6000',\n",
       "   '2. high': '819.1000',\n",
       "   '3. low': '787.1000',\n",
       "   '4. close': '798.7500',\n",
       "   '5. volume': '383883'},\n",
       "  '2025-04-24': {'1. open': '813.3000',\n",
       "   '2. high': '819.1500',\n",
       "   '3. low': '811.0000',\n",
       "   '4. close': '813.2000',\n",
       "   '5. volume': '506029'},\n",
       "  '2025-04-23': {'1. open': '825.8500',\n",
       "   '2. high': '830.0000',\n",
       "   '3. low': '809.9500',\n",
       "   '4. close': '813.3000',\n",
       "   '5. volume': '1020589'},\n",
       "  '2025-04-22': {'1. open': '821.2000',\n",
       "   '2. high': '835.4000',\n",
       "   '3. low': '813.8000',\n",
       "   '4. close': '822.4500',\n",
       "   '5. volume': '663396'},\n",
       "  '2025-04-21': {'1. open': '803.0000',\n",
       "   '2. high': '824.2500',\n",
       "   '3. low': '801.6000',\n",
       "   '4. close': '816.6000',\n",
       "   '5. volume': '697505'},\n",
       "  '2025-04-17': {'1. open': '771.1000',\n",
       "   '2. high': '801.0000',\n",
       "   '3. low': '767.2500',\n",
       "   '4. close': '797.1000',\n",
       "   '5. volume': '738676'},\n",
       "  '2025-04-16': {'1. open': '764.0000',\n",
       "   '2. high': '774.5500',\n",
       "   '3. low': '760.4000',\n",
       "   '4. close': '771.7500',\n",
       "   '5. volume': '477621'},\n",
       "  '2025-04-15': {'1. open': '768.0500',\n",
       "   '2. high': '770.6000',\n",
       "   '3. low': '757.6500',\n",
       "   '4. close': '763.3000',\n",
       "   '5. volume': '763643'},\n",
       "  '2025-04-11': {'1. open': '759.9500',\n",
       "   '2. high': '759.9500',\n",
       "   '3. low': '746.1500',\n",
       "   '4. close': '754.0500',\n",
       "   '5. volume': '593599'},\n",
       "  '2025-04-09': {'1. open': '768.8000',\n",
       "   '2. high': '769.0000',\n",
       "   '3. low': '740.7500',\n",
       "   '4. close': '742.0500',\n",
       "   '5. volume': '467660'},\n",
       "  '2025-04-08': {'1. open': '757.0000',\n",
       "   '2. high': '774.1000',\n",
       "   '3. low': '757.0000',\n",
       "   '4. close': '768.4000',\n",
       "   '5. volume': '490787'},\n",
       "  '2025-04-07': {'1. open': '732.3000',\n",
       "   '2. high': '752.9500',\n",
       "   '3. low': '730.9500',\n",
       "   '4. close': '746.7500',\n",
       "   '5. volume': '775236'},\n",
       "  '2025-04-04': {'1. open': '779.2000',\n",
       "   '2. high': '782.2500',\n",
       "   '3. low': '765.0000',\n",
       "   '4. close': '767.8000',\n",
       "   '5. volume': '392420'},\n",
       "  '2025-04-03': {'1. open': '770.0000',\n",
       "   '2. high': '784.8500',\n",
       "   '3. low': '770.0000',\n",
       "   '4. close': '779.2000',\n",
       "   '5. volume': '284146'},\n",
       "  '2025-04-02': {'1. open': '772.0000',\n",
       "   '2. high': '776.8000',\n",
       "   '3. low': '764.3000',\n",
       "   '4. close': '775.8500',\n",
       "   '5. volume': '134131'},\n",
       "  '2025-04-01': {'1. open': '767.9500',\n",
       "   '2. high': '782.5000',\n",
       "   '3. low': '763.0500',\n",
       "   '4. close': '771.5000',\n",
       "   '5. volume': '458492'},\n",
       "  '2025-03-28': {'1. open': '770.7000',\n",
       "   '2. high': '778.4500',\n",
       "   '3. low': '768.0000',\n",
       "   '4. close': '771.6000',\n",
       "   '5. volume': '514260'},\n",
       "  '2025-03-27': {'1. open': '762.7000',\n",
       "   '2. high': '775.0000',\n",
       "   '3. low': '760.7500',\n",
       "   '4. close': '772.4000',\n",
       "   '5. volume': '243074'},\n",
       "  '2025-03-26': {'1. open': '770.3000',\n",
       "   '2. high': '775.9500',\n",
       "   '3. low': '761.8000',\n",
       "   '4. close': '763.3500',\n",
       "   '5. volume': '346155'},\n",
       "  '2025-03-25': {'1. open': '784.4000',\n",
       "   '2. high': '786.0000',\n",
       "   '3. low': '769.6500',\n",
       "   '4. close': '773.0500',\n",
       "   '5. volume': '841085'},\n",
       "  '2025-03-24': {'1. open': '758.5000',\n",
       "   '2. high': '783.1500',\n",
       "   '3. low': '755.0500',\n",
       "   '4. close': '781.4000',\n",
       "   '5. volume': '459986'},\n",
       "  '2025-03-21': {'1. open': '749.1500',\n",
       "   '2. high': '755.4000',\n",
       "   '3. low': '747.2000',\n",
       "   '4. close': '753.0000',\n",
       "   '5. volume': '285630'},\n",
       "  '2025-03-20': {'1. open': '749.9500',\n",
       "   '2. high': '752.8000',\n",
       "   '3. low': '744.2000',\n",
       "   '4. close': '749.2000',\n",
       "   '5. volume': '150865'},\n",
       "  '2025-03-19': {'1. open': '739.9000',\n",
       "   '2. high': '749.0000',\n",
       "   '3. low': '739.2500',\n",
       "   '4. close': '745.0500',\n",
       "   '5. volume': '408821'},\n",
       "  '2025-03-18': {'1. open': '727.0000',\n",
       "   '2. high': '738.5000',\n",
       "   '3. low': '723.0000',\n",
       "   '4. close': '737.0500',\n",
       "   '5. volume': '178857'},\n",
       "  '2025-03-17': {'1. open': '729.0000',\n",
       "   '2. high': '730.9500',\n",
       "   '3. low': '722.1000',\n",
       "   '4. close': '722.7000',\n",
       "   '5. volume': '197841'},\n",
       "  '2025-03-13': {'1. open': '726.9000',\n",
       "   '2. high': '731.4500',\n",
       "   '3. low': '724.3500',\n",
       "   '4. close': '727.7500',\n",
       "   '5. volume': '229142'},\n",
       "  '2025-03-12': {'1. open': '729.9500',\n",
       "   '2. high': '736.5000',\n",
       "   '3. low': '719.2000',\n",
       "   '4. close': '722.9000',\n",
       "   '5. volume': '198814'},\n",
       "  '2025-03-11': {'1. open': '724.9000',\n",
       "   '2. high': '733.9000',\n",
       "   '3. low': '722.5000',\n",
       "   '4. close': '729.9500',\n",
       "   '5. volume': '285624'},\n",
       "  '2025-03-10': {'1. open': '732.9500',\n",
       "   '2. high': '738.4500',\n",
       "   '3. low': '727.0500',\n",
       "   '4. close': '728.3500',\n",
       "   '5. volume': '339175'},\n",
       "  '2025-03-07': {'1. open': '732.9500',\n",
       "   '2. high': '734.9000',\n",
       "   '3. low': '727.9500',\n",
       "   '4. close': '732.7500',\n",
       "   '5. volume': '288192'},\n",
       "  '2025-03-06': {'1. open': '737.9500',\n",
       "   '2. high': '737.9500',\n",
       "   '3. low': '727.1000',\n",
       "   '4. close': '731.9500',\n",
       "   '5. volume': '321519'},\n",
       "  '2025-03-05': {'1. open': '718.8500',\n",
       "   '2. high': '731.0000',\n",
       "   '3. low': '717.8000',\n",
       "   '4. close': '730.2500',\n",
       "   '5. volume': '628448'},\n",
       "  '2025-03-04': {'1. open': '693.4000',\n",
       "   '2. high': '718.1500',\n",
       "   '3. low': '692.1500',\n",
       "   '4. close': '716.1500',\n",
       "   '5. volume': '587355'},\n",
       "  '2025-03-03': {'1. open': '692.2500',\n",
       "   '2. high': '696.8500',\n",
       "   '3. low': '679.6500',\n",
       "   '4. close': '695.1500',\n",
       "   '5. volume': '398676'},\n",
       "  '2025-02-28': {'1. open': '701.8000',\n",
       "   '2. high': '701.8000',\n",
       "   '3. low': '682.8500',\n",
       "   '4. close': '688.2500',\n",
       "   '5. volume': '953162'},\n",
       "  '2025-02-27': {'1. open': '716.9000',\n",
       "   '2. high': '716.9000',\n",
       "   '3. low': '701.0000',\n",
       "   '4. close': '703.9500',\n",
       "   '5. volume': '624622'},\n",
       "  '2025-02-25': {'1. open': '719.0000',\n",
       "   '2. high': '719.0000',\n",
       "   '3. low': '709.9500',\n",
       "   '4. close': '711.0000',\n",
       "   '5. volume': '875612'},\n",
       "  '2025-02-24': {'1. open': '712.6500',\n",
       "   '2. high': '719.8000',\n",
       "   '3. low': '710.9000',\n",
       "   '4. close': '716.4000',\n",
       "   '5. volume': '525944'},\n",
       "  '2025-02-21': {'1. open': '729.2000',\n",
       "   '2. high': '732.0000',\n",
       "   '3. low': '720.0000',\n",
       "   '4. close': '721.5500',\n",
       "   '5. volume': '460425'},\n",
       "  '2025-02-20': {'1. open': '727.8000',\n",
       "   '2. high': '731.8000',\n",
       "   '3. low': '723.0500',\n",
       "   '4. close': '729.6500',\n",
       "   '5. volume': '279931'},\n",
       "  '2025-02-19': {'1. open': '722.8000',\n",
       "   '2. high': '734.7500',\n",
       "   '3. low': '722.1000',\n",
       "   '4. close': '726.8000',\n",
       "   '5. volume': '174597'},\n",
       "  '2025-02-18': {'1. open': '727.9500',\n",
       "   '2. high': '727.9500',\n",
       "   '3. low': '717.4500',\n",
       "   '4. close': '725.7500',\n",
       "   '5. volume': '396321'},\n",
       "  '2025-02-17': {'1. open': '721.8500',\n",
       "   '2. high': '728.9500',\n",
       "   '3. low': '711.4000',\n",
       "   '4. close': '728.0500',\n",
       "   '5. volume': '751026'},\n",
       "  '2025-02-14': {'1. open': '729.4500',\n",
       "   '2. high': '732.7000',\n",
       "   '3. low': '716.1500',\n",
       "   '4. close': '722.0000',\n",
       "   '5. volume': '895669'},\n",
       "  '2025-02-13': {'1. open': '735.0000',\n",
       "   '2. high': '737.3000',\n",
       "   '3. low': '726.0500',\n",
       "   '4. close': '727.3000',\n",
       "   '5. volume': '605466'},\n",
       "  '2025-02-12': {'1. open': '732.9500',\n",
       "   '2. high': '738.3000',\n",
       "   '3. low': '717.2500',\n",
       "   '4. close': '733.2500',\n",
       "   '5. volume': '550605'},\n",
       "  '2025-02-11': {'1. open': '738.1500',\n",
       "   '2. high': '740.0000',\n",
       "   '3. low': '726.9000',\n",
       "   '4. close': '731.0000',\n",
       "   '5. volume': '826170'},\n",
       "  '2025-02-10': {'1. open': '740.5500',\n",
       "   '2. high': '744.0500',\n",
       "   '3. low': '733.6000',\n",
       "   '4. close': '736.8500',\n",
       "   '5. volume': '788061'},\n",
       "  '2025-02-07': {'1. open': '761.8000',\n",
       "   '2. high': '761.8000',\n",
       "   '3. low': '732.0500',\n",
       "   '4. close': '737.0500',\n",
       "   '5. volume': '1805880'},\n",
       "  '2025-02-06': {'1. open': '769.6500',\n",
       "   '2. high': '770.9500',\n",
       "   '3. low': '750.0000',\n",
       "   '4. close': '752.3500',\n",
       "   '5. volume': '1384322'},\n",
       "  '2025-02-05': {'1. open': '780.8000',\n",
       "   '2. high': '781.6000',\n",
       "   '3. low': '764.6500',\n",
       "   '4. close': '766.1000',\n",
       "   '5. volume': '654303'},\n",
       "  '2025-02-04': {'1. open': '766.3000',\n",
       "   '2. high': '780.8500',\n",
       "   '3. low': '766.0000',\n",
       "   '4. close': '779.2000',\n",
       "   '5. volume': '749753'},\n",
       "  '2025-02-03': {'1. open': '763.6500',\n",
       "   '2. high': '763.6500',\n",
       "   '3. low': '753.4500',\n",
       "   '4. close': '761.0000',\n",
       "   '5. volume': '427934'},\n",
       "  '2025-01-31': {'1. open': '765.0000',\n",
       "   '2. high': '777.7500',\n",
       "   '3. low': '759.3500',\n",
       "   '4. close': '773.1000',\n",
       "   '5. volume': '241965'},\n",
       "  '2025-01-30': {'1. open': '759.4000',\n",
       "   '2. high': '764.8500',\n",
       "   '3. low': '754.7000',\n",
       "   '4. close': '762.2000',\n",
       "   '5. volume': '618809'},\n",
       "  '2025-01-29': {'1. open': '752.5000',\n",
       "   '2. high': '760.2500',\n",
       "   '3. low': '749.8000',\n",
       "   '4. close': '758.7000',\n",
       "   '5. volume': '379821'},\n",
       "  '2025-01-28': {'1. open': '756.2000',\n",
       "   '2. high': '759.6000',\n",
       "   '3. low': '745.6500',\n",
       "   '4. close': '751.6500',\n",
       "   '5. volume': '794022'},\n",
       "  '2025-01-27': {'1. open': '740.0000',\n",
       "   '2. high': '755.3000',\n",
       "   '3. low': '736.0000',\n",
       "   '4. close': '749.2000',\n",
       "   '5. volume': '775011'},\n",
       "  '2025-01-24': {'1. open': '747.2000',\n",
       "   '2. high': '753.7500',\n",
       "   '3. low': '738.8500',\n",
       "   '4. close': '744.3500',\n",
       "   '5. volume': '458033'},\n",
       "  '2025-01-23': {'1. open': '751.9500',\n",
       "   '2. high': '755.8000',\n",
       "   '3. low': '743.3000',\n",
       "   '4. close': '745.9500',\n",
       "   '5. volume': '235130'},\n",
       "  '2025-01-22': {'1. open': '762.8500',\n",
       "   '2. high': '762.8500',\n",
       "   '3. low': '738.3000',\n",
       "   '4. close': '753.2500',\n",
       "   '5. volume': '237866'},\n",
       "  '2025-01-21': {'1. open': '784.9500',\n",
       "   '2. high': '785.3000',\n",
       "   '3. low': '756.2500',\n",
       "   '4. close': '759.0000',\n",
       "   '5. volume': '953600'},\n",
       "  '2025-01-20': {'1. open': '765.0500',\n",
       "   '2. high': '784.9500',\n",
       "   '3. low': '765.0500',\n",
       "   '4. close': '779.0500',\n",
       "   '5. volume': '559123'},\n",
       "  '2025-01-17': {'1. open': '766.9000',\n",
       "   '2. high': '767.8500',\n",
       "   '3. low': '759.4500',\n",
       "   '4. close': '764.1000',\n",
       "   '5. volume': '497950'},\n",
       "  '2025-01-16': {'1. open': '761.6500',\n",
       "   '2. high': '776.5500',\n",
       "   '3. low': '760.0500',\n",
       "   '4. close': '766.4000',\n",
       "   '5. volume': '511761'},\n",
       "  '2025-01-15': {'1. open': '753.7000',\n",
       "   '2. high': '758.8500',\n",
       "   '3. low': '750.3500',\n",
       "   '4. close': '754.0000',\n",
       "   '5. volume': '171791'},\n",
       "  '2025-01-14': {'1. open': '730.6000',\n",
       "   '2. high': '756.9000',\n",
       "   '3. low': '730.6000',\n",
       "   '4. close': '748.1000',\n",
       "   '5. volume': '687121'},\n",
       "  '2025-01-13': {'1. open': '742.9500',\n",
       "   '2. high': '743.8500',\n",
       "   '3. low': '722.5000',\n",
       "   '4. close': '729.6000',\n",
       "   '5. volume': '300275'},\n",
       "  '2025-01-10': {'1. open': '760.3500',\n",
       "   '2. high': '760.8000',\n",
       "   '3. low': '742.0000',\n",
       "   '4. close': '743.1500',\n",
       "   '5. volume': '454472'},\n",
       "  '2025-01-09': {'1. open': '771.9500',\n",
       "   '2. high': '771.9500',\n",
       "   '3. low': '726.9000',\n",
       "   '4. close': '760.3500',\n",
       "   '5. volume': '803943'},\n",
       "  '2025-01-08': {'1. open': '781.0000',\n",
       "   '2. high': '782.5000',\n",
       "   '3. low': '760.1000',\n",
       "   '4. close': '771.2000',\n",
       "   '5. volume': '1224097'},\n",
       "  '2025-01-07': {'1. open': '778.0500',\n",
       "   '2. high': '783.7500',\n",
       "   '3. low': '775.1000',\n",
       "   '4. close': '779.0000',\n",
       "   '5. volume': '563547'},\n",
       "  '2025-01-06': {'1. open': '798.0000',\n",
       "   '2. high': '798.0000',\n",
       "   '3. low': '773.3000',\n",
       "   '4. close': '776.7500',\n",
       "   '5. volume': '624836'},\n",
       "  '2025-01-03': {'1. open': '801.9000',\n",
       "   '2. high': '809.7000',\n",
       "   '3. low': '792.2500',\n",
       "   '4. close': '793.5000',\n",
       "   '5. volume': '387698'},\n",
       "  '2025-01-02': {'1. open': '795.0000',\n",
       "   '2. high': '802.4000',\n",
       "   '3. low': '786.3000',\n",
       "   '4. close': '801.0500',\n",
       "   '5. volume': '711599'},\n",
       "  '2025-01-01': {'1. open': '796.8500',\n",
       "   '2. high': '798.5000',\n",
       "   '3. low': '789.6000',\n",
       "   '4. close': '793.3500',\n",
       "   '5. volume': '356031'},\n",
       "  '2024-12-31': {'1. open': '788.7500',\n",
       "   '2. high': '798.9500',\n",
       "   '3. low': '787.0000',\n",
       "   '4. close': '795.0500',\n",
       "   '5. volume': '283620'},\n",
       "  '2024-12-30': {'1. open': '802.7000',\n",
       "   '2. high': '808.0000',\n",
       "   '3. low': '785.2000',\n",
       "   '4. close': '788.3000',\n",
       "   '5. volume': '686161'},\n",
       "  '2024-12-27': {'1. open': '817.2500',\n",
       "   '2. high': '818.7500',\n",
       "   '3. low': '797.2500',\n",
       "   '4. close': '799.5500',\n",
       "   '5. volume': '1061163'},\n",
       "  '2024-12-26': {'1. open': '813.0000',\n",
       "   '2. high': '822.9500',\n",
       "   '3. low': '808.0000',\n",
       "   '4. close': '811.6500',\n",
       "   '5. volume': '194920'},\n",
       "  '2024-12-24': {'1. open': '825.0000',\n",
       "   '2. high': '825.5500',\n",
       "   '3. low': '809.2000',\n",
       "   '4. close': '811.8500',\n",
       "   '5. volume': '431577'},\n",
       "  '2024-12-23': {'1. open': '818.3500',\n",
       "   '2. high': '823.9000',\n",
       "   '3. low': '812.4000',\n",
       "   '4. close': '820.9500',\n",
       "   '5. volume': '281649'},\n",
       "  '2024-12-20': {'1. open': '833.8000',\n",
       "   '2. high': '836.4000',\n",
       "   '3. low': '810.0000',\n",
       "   '4. close': '812.5000',\n",
       "   '5. volume': '467910'},\n",
       "  '2024-12-19': {'1. open': '822.0500',\n",
       "   '2. high': '837.9000',\n",
       "   '3. low': '820.1000',\n",
       "   '4. close': '832.8000',\n",
       "   '5. volume': '309033'},\n",
       "  '2024-12-18': {'1. open': '850.2000',\n",
       "   '2. high': '850.8000',\n",
       "   '3. low': '836.7000',\n",
       "   '4. close': '839.0500',\n",
       "   '5. volume': '172425'},\n",
       "  '2024-12-17': {'1. open': '859.7500',\n",
       "   '2. high': '862.9500',\n",
       "   '3. low': '847.1500',\n",
       "   '4. close': '850.2000',\n",
       "   '5. volume': '143409'},\n",
       "  '2024-12-16': {'1. open': '859.0000',\n",
       "   '2. high': '866.2000',\n",
       "   '3. low': '857.8000',\n",
       "   '4. close': '860.7000',\n",
       "   '5. volume': '252691'},\n",
       "  '2024-12-13': {'1. open': '853.7000',\n",
       "   '2. high': '863.0000',\n",
       "   '3. low': '835.0000',\n",
       "   '4. close': '861.7000',\n",
       "   '5. volume': '455324'}}}"
      ]
     },
     "execution_count": 81,
     "metadata": {},
     "output_type": "execute_result"
    }
   ],
   "source": [
    "df"
   ]
  },
  {
   "attachments": {
    "image.png": {
     "image/png": "[encoded data removed]"
    }
   },
   "cell_type": "markdown",
   "id": "ab57cc7b",
   "metadata": {},
   "source": [
    "![image.png](attachment:image.png)"
   ]
  },
  {
   "cell_type": "code",
   "execution_count": 82,
   "id": "1ed076b5",
   "metadata": {},
   "outputs": [
    {
     "data": {
      "text/plain": [
       "dict_keys(['Meta Data', 'Time Series (Daily)'])"
      ]
     },
     "execution_count": 82,
     "metadata": {},
     "output_type": "execute_result"
    }
   ],
   "source": [
    "df.keys()"
   ]
  },
  {
   "cell_type": "code",
   "execution_count": 83,
   "id": "562289fc",
   "metadata": {},
   "outputs": [],
   "source": [
    "df = df['Time Series (Daily)']"
   ]
  },
  {
   "cell_type": "code",
   "execution_count": 84,
   "id": "01dcfec4",
   "metadata": {},
   "outputs": [
    {
     "data": {
      "text/plain": [
       "{'2025-05-13': {'1. open': '800.4500',\n",
       "  '2. high': '807.7000',\n",
       "  '3. low': '797.2500',\n",
       "  '4. close': '801.9000',\n",
       "  '5. volume': '717454'},\n",
       " '2025-05-12': {'1. open': '799.8500',\n",
       "  '2. high': '803.9000',\n",
       "  '3. low': '793.1000',\n",
       "  '4. close': '801.6000',\n",
       "  '5. volume': '829415'},\n",
       " '2025-05-09': {'1. open': '755.2500',\n",
       "  '2. high': '781.4000',\n",
       "  '3. low': '755.2500',\n",
       "  '4. close': '779.4000',\n",
       "  '5. volume': '375997'},\n",
       " '2025-05-08': {'1. open': '778.0000',\n",
       "  '2. high': '786.5000',\n",
       "  '3. low': '765.0000',\n",
       "  '4. close': '768.7500',\n",
       "  '5. volume': '463248'},\n",
       " '2025-05-07': {'1. open': '762.2500',\n",
       "  '2. high': '782.5500',\n",
       "  '3. low': '762.2500',\n",
       "  '4. close': '776.1500',\n",
       "  '5. volume': '581175'},\n",
       " '2025-05-06': {'1. open': '792.2000',\n",
       "  '2. high': '799.0000',\n",
       "  '3. low': '771.1500',\n",
       "  '4. close': '774.1500',\n",
       "  '5. volume': '761282'},\n",
       " '2025-05-05': {'1. open': '784.9500',\n",
       "  '2. high': '799.1000',\n",
       "  '3. low': '783.6500',\n",
       "  '4. close': '790.0000',\n",
       "  '5. volume': '771587'},\n",
       " '2025-05-02': {'1. open': '792.0500',\n",
       "  '2. high': '802.9500',\n",
       "  '3. low': '789.2500',\n",
       "  '4. close': '800.0500',\n",
       "  '5. volume': '335006'},\n",
       " '2025-04-30': {'1. open': '812.8500',\n",
       "  '2. high': '812.8500',\n",
       "  '3. low': '784.4500',\n",
       "  '4. close': '788.1500',\n",
       "  '5. volume': '412886'},\n",
       " '2025-04-29': {'1. open': '820.0000',\n",
       "  '2. high': '829.0000',\n",
       "  '3. low': '808.7500',\n",
       "  '4. close': '811.7500',\n",
       "  '5. volume': '699284'},\n",
       " '2025-04-28': {'1. open': '796.3000',\n",
       "  '2. high': '822.5000',\n",
       "  '3. low': '796.3000',\n",
       "  '4. close': '817.6000',\n",
       "  '5. volume': '1068737'},\n",
       " '2025-04-25': {'1. open': '813.6000',\n",
       "  '2. high': '819.1000',\n",
       "  '3. low': '787.1000',\n",
       "  '4. close': '798.7500',\n",
       "  '5. volume': '383883'},\n",
       " '2025-04-24': {'1. open': '813.3000',\n",
       "  '2. high': '819.1500',\n",
       "  '3. low': '811.0000',\n",
       "  '4. close': '813.2000',\n",
       "  '5. volume': '506029'},\n",
       " '2025-04-23': {'1. open': '825.8500',\n",
       "  '2. high': '830.0000',\n",
       "  '3. low': '809.9500',\n",
       "  '4. close': '813.3000',\n",
       "  '5. volume': '1020589'},\n",
       " '2025-04-22': {'1. open': '821.2000',\n",
       "  '2. high': '835.4000',\n",
       "  '3. low': '813.8000',\n",
       "  '4. close': '822.4500',\n",
       "  '5. volume': '663396'},\n",
       " '2025-04-21': {'1. open': '803.0000',\n",
       "  '2. high': '824.2500',\n",
       "  '3. low': '801.6000',\n",
       "  '4. close': '816.6000',\n",
       "  '5. volume': '697505'},\n",
       " '2025-04-17': {'1. open': '771.1000',\n",
       "  '2. high': '801.0000',\n",
       "  '3. low': '767.2500',\n",
       "  '4. close': '797.1000',\n",
       "  '5. volume': '738676'},\n",
       " '2025-04-16': {'1. open': '764.0000',\n",
       "  '2. high': '774.5500',\n",
       "  '3. low': '760.4000',\n",
       "  '4. close': '771.7500',\n",
       "  '5. volume': '477621'},\n",
       " '2025-04-15': {'1. open': '768.0500',\n",
       "  '2. high': '770.6000',\n",
       "  '3. low': '757.6500',\n",
       "  '4. close': '763.3000',\n",
       "  '5. volume': '763643'},\n",
       " '2025-04-11': {'1. open': '759.9500',\n",
       "  '2. high': '759.9500',\n",
       "  '3. low': '746.1500',\n",
       "  '4. close': '754.0500',\n",
       "  '5. volume': '593599'},\n",
       " '2025-04-09': {'1. open': '768.8000',\n",
       "  '2. high': '769.0000',\n",
       "  '3. low': '740.7500',\n",
       "  '4. close': '742.0500',\n",
       "  '5. volume': '467660'},\n",
       " '2025-04-08': {'1. open': '757.0000',\n",
       "  '2. high': '774.1000',\n",
       "  '3. low': '757.0000',\n",
       "  '4. close': '768.4000',\n",
       "  '5. volume': '490787'},\n",
       " '2025-04-07': {'1. open': '732.3000',\n",
       "  '2. high': '752.9500',\n",
       "  '3. low': '730.9500',\n",
       "  '4. close': '746.7500',\n",
       "  '5. volume': '775236'},\n",
       " '2025-04-04': {'1. open': '779.2000',\n",
       "  '2. high': '782.2500',\n",
       "  '3. low': '765.0000',\n",
       "  '4. close': '767.8000',\n",
       "  '5. volume': '392420'},\n",
       " '2025-04-03': {'1. open': '770.0000',\n",
       "  '2. high': '784.8500',\n",
       "  '3. low': '770.0000',\n",
       "  '4. close': '779.2000',\n",
       "  '5. volume': '284146'},\n",
       " '2025-04-02': {'1. open': '772.0000',\n",
       "  '2. high': '776.8000',\n",
       "  '3. low': '764.3000',\n",
       "  '4. close': '775.8500',\n",
       "  '5. volume': '134131'},\n",
       " '2025-04-01': {'1. open': '767.9500',\n",
       "  '2. high': '782.5000',\n",
       "  '3. low': '763.0500',\n",
       "  '4. close': '771.5000',\n",
       "  '5. volume': '458492'},\n",
       " '2025-03-28': {'1. open': '770.7000',\n",
       "  '2. high': '778.4500',\n",
       "  '3. low': '768.0000',\n",
       "  '4. close': '771.6000',\n",
       "  '5. volume': '514260'},\n",
       " '2025-03-27': {'1. open': '762.7000',\n",
       "  '2. high': '775.0000',\n",
       "  '3. low': '760.7500',\n",
       "  '4. close': '772.4000',\n",
       "  '5. volume': '243074'},\n",
       " '2025-03-26': {'1. open': '770.3000',\n",
       "  '2. high': '775.9500',\n",
       "  '3. low': '761.8000',\n",
       "  '4. close': '763.3500',\n",
       "  '5. volume': '346155'},\n",
       " '2025-03-25': {'1. open': '784.4000',\n",
       "  '2. high': '786.0000',\n",
       "  '3. low': '769.6500',\n",
       "  '4. close': '773.0500',\n",
       "  '5. volume': '841085'},\n",
       " '2025-03-24': {'1. open': '758.5000',\n",
       "  '2. high': '783.1500',\n",
       "  '3. low': '755.0500',\n",
       "  '4. close': '781.4000',\n",
       "  '5. volume': '459986'},\n",
       " '2025-03-21': {'1. open': '749.1500',\n",
       "  '2. high': '755.4000',\n",
       "  '3. low': '747.2000',\n",
       "  '4. close': '753.0000',\n",
       "  '5. volume': '285630'},\n",
       " '2025-03-20': {'1. open': '749.9500',\n",
       "  '2. high': '752.8000',\n",
       "  '3. low': '744.2000',\n",
       "  '4. close': '749.2000',\n",
       "  '5. volume': '150865'},\n",
       " '2025-03-19': {'1. open': '739.9000',\n",
       "  '2. high': '749.0000',\n",
       "  '3. low': '739.2500',\n",
       "  '4. close': '745.0500',\n",
       "  '5. volume': '408821'},\n",
       " '2025-03-18': {'1. open': '727.0000',\n",
       "  '2. high': '738.5000',\n",
       "  '3. low': '723.0000',\n",
       "  '4. close': '737.0500',\n",
       "  '5. volume': '178857'},\n",
       " '2025-03-17': {'1. open': '729.0000',\n",
       "  '2. high': '730.9500',\n",
       "  '3. low': '722.1000',\n",
       "  '4. close': '722.7000',\n",
       "  '5. volume': '197841'},\n",
       " '2025-03-13': {'1. open': '726.9000',\n",
       "  '2. high': '731.4500',\n",
       "  '3. low': '724.3500',\n",
       "  '4. close': '727.7500',\n",
       "  '5. volume': '229142'},\n",
       " '2025-03-12': {'1. open': '729.9500',\n",
       "  '2. high': '736.5000',\n",
       "  '3. low': '719.2000',\n",
       "  '4. close': '722.9000',\n",
       "  '5. volume': '198814'},\n",
       " '2025-03-11': {'1. open': '724.9000',\n",
       "  '2. high': '733.9000',\n",
       "  '3. low': '722.5000',\n",
       "  '4. close': '729.9500',\n",
       "  '5. volume': '285624'},\n",
       " '2025-03-10': {'1. open': '732.9500',\n",
       "  '2. high': '738.4500',\n",
       "  '3. low': '727.0500',\n",
       "  '4. close': '728.3500',\n",
       "  '5. volume': '339175'},\n",
       " '2025-03-07': {'1. open': '732.9500',\n",
       "  '2. high': '734.9000',\n",
       "  '3. low': '727.9500',\n",
       "  '4. close': '732.7500',\n",
       "  '5. volume': '288192'},\n",
       " '2025-03-06': {'1. open': '737.9500',\n",
       "  '2. high': '737.9500',\n",
       "  '3. low': '727.1000',\n",
       "  '4. close': '731.9500',\n",
       "  '5. volume': '321519'},\n",
       " '2025-03-05': {'1. open': '718.8500',\n",
       "  '2. high': '731.0000',\n",
       "  '3. low': '717.8000',\n",
       "  '4. close': '730.2500',\n",
       "  '5. volume': '628448'},\n",
       " '2025-03-04': {'1. open': '693.4000',\n",
       "  '2. high': '718.1500',\n",
       "  '3. low': '692.1500',\n",
       "  '4. close': '716.1500',\n",
       "  '5. volume': '587355'},\n",
       " '2025-03-03': {'1. open': '692.2500',\n",
       "  '2. high': '696.8500',\n",
       "  '3. low': '679.6500',\n",
       "  '4. close': '695.1500',\n",
       "  '5. volume': '398676'},\n",
       " '2025-02-28': {'1. open': '701.8000',\n",
       "  '2. high': '701.8000',\n",
       "  '3. low': '682.8500',\n",
       "  '4. close': '688.2500',\n",
       "  '5. volume': '953162'},\n",
       " '2025-02-27': {'1. open': '716.9000',\n",
       "  '2. high': '716.9000',\n",
       "  '3. low': '701.0000',\n",
       "  '4. close': '703.9500',\n",
       "  '5. volume': '624622'},\n",
       " '2025-02-25': {'1. open': '719.0000',\n",
       "  '2. high': '719.0000',\n",
       "  '3. low': '709.9500',\n",
       "  '4. close': '711.0000',\n",
       "  '5. volume': '875612'},\n",
       " '2025-02-24': {'1. open': '712.6500',\n",
       "  '2. high': '719.8000',\n",
       "  '3. low': '710.9000',\n",
       "  '4. close': '716.4000',\n",
       "  '5. volume': '525944'},\n",
       " '2025-02-21': {'1. open': '729.2000',\n",
       "  '2. high': '732.0000',\n",
       "  '3. low': '720.0000',\n",
       "  '4. close': '721.5500',\n",
       "  '5. volume': '460425'},\n",
       " '2025-02-20': {'1. open': '727.8000',\n",
       "  '2. high': '731.8000',\n",
       "  '3. low': '723.0500',\n",
       "  '4. close': '729.6500',\n",
       "  '5. volume': '279931'},\n",
       " '2025-02-19': {'1. open': '722.8000',\n",
       "  '2. high': '734.7500',\n",
       "  '3. low': '722.1000',\n",
       "  '4. close': '726.8000',\n",
       "  '5. volume': '174597'},\n",
       " '2025-02-18': {'1. open': '727.9500',\n",
       "  '2. high': '727.9500',\n",
       "  '3. low': '717.4500',\n",
       "  '4. close': '725.7500',\n",
       "  '5. volume': '396321'},\n",
       " '2025-02-17': {'1. open': '721.8500',\n",
       "  '2. high': '728.9500',\n",
       "  '3. low': '711.4000',\n",
       "  '4. close': '728.0500',\n",
       "  '5. volume': '751026'},\n",
       " '2025-02-14': {'1. open': '729.4500',\n",
       "  '2. high': '732.7000',\n",
       "  '3. low': '716.1500',\n",
       "  '4. close': '722.0000',\n",
       "  '5. volume': '895669'},\n",
       " '2025-02-13': {'1. open': '735.0000',\n",
       "  '2. high': '737.3000',\n",
       "  '3. low': '726.0500',\n",
       "  '4. close': '727.3000',\n",
       "  '5. volume': '605466'},\n",
       " '2025-02-12': {'1. open': '732.9500',\n",
       "  '2. high': '738.3000',\n",
       "  '3. low': '717.2500',\n",
       "  '4. close': '733.2500',\n",
       "  '5. volume': '550605'},\n",
       " '2025-02-11': {'1. open': '738.1500',\n",
       "  '2. high': '740.0000',\n",
       "  '3. low': '726.9000',\n",
       "  '4. close': '731.0000',\n",
       "  '5. volume': '826170'},\n",
       " '2025-02-10': {'1. open': '740.5500',\n",
       "  '2. high': '744.0500',\n",
       "  '3. low': '733.6000',\n",
       "  '4. close': '736.8500',\n",
       "  '5. volume': '788061'},\n",
       " '2025-02-07': {'1. open': '761.8000',\n",
       "  '2. high': '761.8000',\n",
       "  '3. low': '732.0500',\n",
       "  '4. close': '737.0500',\n",
       "  '5. volume': '1805880'},\n",
       " '2025-02-06': {'1. open': '769.6500',\n",
       "  '2. high': '770.9500',\n",
       "  '3. low': '750.0000',\n",
       "  '4. close': '752.3500',\n",
       "  '5. volume': '1384322'},\n",
       " '2025-02-05': {'1. open': '780.8000',\n",
       "  '2. high': '781.6000',\n",
       "  '3. low': '764.6500',\n",
       "  '4. close': '766.1000',\n",
       "  '5. volume': '654303'},\n",
       " '2025-02-04': {'1. open': '766.3000',\n",
       "  '2. high': '780.8500',\n",
       "  '3. low': '766.0000',\n",
       "  '4. close': '779.2000',\n",
       "  '5. volume': '749753'},\n",
       " '2025-02-03': {'1. open': '763.6500',\n",
       "  '2. high': '763.6500',\n",
       "  '3. low': '753.4500',\n",
       "  '4. close': '761.0000',\n",
       "  '5. volume': '427934'},\n",
       " '2025-01-31': {'1. open': '765.0000',\n",
       "  '2. high': '777.7500',\n",
       "  '3. low': '759.3500',\n",
       "  '4. close': '773.1000',\n",
       "  '5. volume': '241965'},\n",
       " '2025-01-30': {'1. open': '759.4000',\n",
       "  '2. high': '764.8500',\n",
       "  '3. low': '754.7000',\n",
       "  '4. close': '762.2000',\n",
       "  '5. volume': '618809'},\n",
       " '2025-01-29': {'1. open': '752.5000',\n",
       "  '2. high': '760.2500',\n",
       "  '3. low': '749.8000',\n",
       "  '4. close': '758.7000',\n",
       "  '5. volume': '379821'},\n",
       " '2025-01-28': {'1. open': '756.2000',\n",
       "  '2. high': '759.6000',\n",
       "  '3. low': '745.6500',\n",
       "  '4. close': '751.6500',\n",
       "  '5. volume': '794022'},\n",
       " '2025-01-27': {'1. open': '740.0000',\n",
       "  '2. high': '755.3000',\n",
       "  '3. low': '736.0000',\n",
       "  '4. close': '749.2000',\n",
       "  '5. volume': '775011'},\n",
       " '2025-01-24': {'1. open': '747.2000',\n",
       "  '2. high': '753.7500',\n",
       "  '3. low': '738.8500',\n",
       "  '4. close': '744.3500',\n",
       "  '5. volume': '458033'},\n",
       " '2025-01-23': {'1. open': '751.9500',\n",
       "  '2. high': '755.8000',\n",
       "  '3. low': '743.3000',\n",
       "  '4. close': '745.9500',\n",
       "  '5. volume': '235130'},\n",
       " '2025-01-22': {'1. open': '762.8500',\n",
       "  '2. high': '762.8500',\n",
       "  '3. low': '738.3000',\n",
       "  '4. close': '753.2500',\n",
       "  '5. volume': '237866'},\n",
       " '2025-01-21': {'1. open': '784.9500',\n",
       "  '2. high': '785.3000',\n",
       "  '3. low': '756.2500',\n",
       "  '4. close': '759.0000',\n",
       "  '5. volume': '953600'},\n",
       " '2025-01-20': {'1. open': '765.0500',\n",
       "  '2. high': '784.9500',\n",
       "  '3. low': '765.0500',\n",
       "  '4. close': '779.0500',\n",
       "  '5. volume': '559123'},\n",
       " '2025-01-17': {'1. open': '766.9000',\n",
       "  '2. high': '767.8500',\n",
       "  '3. low': '759.4500',\n",
       "  '4. close': '764.1000',\n",
       "  '5. volume': '497950'},\n",
       " '2025-01-16': {'1. open': '761.6500',\n",
       "  '2. high': '776.5500',\n",
       "  '3. low': '760.0500',\n",
       "  '4. close': '766.4000',\n",
       "  '5. volume': '511761'},\n",
       " '2025-01-15': {'1. open': '753.7000',\n",
       "  '2. high': '758.8500',\n",
       "  '3. low': '750.3500',\n",
       "  '4. close': '754.0000',\n",
       "  '5. volume': '171791'},\n",
       " '2025-01-14': {'1. open': '730.6000',\n",
       "  '2. high': '756.9000',\n",
       "  '3. low': '730.6000',\n",
       "  '4. close': '748.1000',\n",
       "  '5. volume': '687121'},\n",
       " '2025-01-13': {'1. open': '742.9500',\n",
       "  '2. high': '743.8500',\n",
       "  '3. low': '722.5000',\n",
       "  '4. close': '729.6000',\n",
       "  '5. volume': '300275'},\n",
       " '2025-01-10': {'1. open': '760.3500',\n",
       "  '2. high': '760.8000',\n",
       "  '3. low': '742.0000',\n",
       "  '4. close': '743.1500',\n",
       "  '5. volume': '454472'},\n",
       " '2025-01-09': {'1. open': '771.9500',\n",
       "  '2. high': '771.9500',\n",
       "  '3. low': '726.9000',\n",
       "  '4. close': '760.3500',\n",
       "  '5. volume': '803943'},\n",
       " '2025-01-08': {'1. open': '781.0000',\n",
       "  '2. high': '782.5000',\n",
       "  '3. low': '760.1000',\n",
       "  '4. close': '771.2000',\n",
       "  '5. volume': '1224097'},\n",
       " '2025-01-07': {'1. open': '778.0500',\n",
       "  '2. high': '783.7500',\n",
       "  '3. low': '775.1000',\n",
       "  '4. close': '779.0000',\n",
       "  '5. volume': '563547'},\n",
       " '2025-01-06': {'1. open': '798.0000',\n",
       "  '2. high': '798.0000',\n",
       "  '3. low': '773.3000',\n",
       "  '4. close': '776.7500',\n",
       "  '5. volume': '624836'},\n",
       " '2025-01-03': {'1. open': '801.9000',\n",
       "  '2. high': '809.7000',\n",
       "  '3. low': '792.2500',\n",
       "  '4. close': '793.5000',\n",
       "  '5. volume': '387698'},\n",
       " '2025-01-02': {'1. open': '795.0000',\n",
       "  '2. high': '802.4000',\n",
       "  '3. low': '786.3000',\n",
       "  '4. close': '801.0500',\n",
       "  '5. volume': '711599'},\n",
       " '2025-01-01': {'1. open': '796.8500',\n",
       "  '2. high': '798.5000',\n",
       "  '3. low': '789.6000',\n",
       "  '4. close': '793.3500',\n",
       "  '5. volume': '356031'},\n",
       " '2024-12-31': {'1. open': '788.7500',\n",
       "  '2. high': '798.9500',\n",
       "  '3. low': '787.0000',\n",
       "  '4. close': '795.0500',\n",
       "  '5. volume': '283620'},\n",
       " '2024-12-30': {'1. open': '802.7000',\n",
       "  '2. high': '808.0000',\n",
       "  '3. low': '785.2000',\n",
       "  '4. close': '788.3000',\n",
       "  '5. volume': '686161'},\n",
       " '2024-12-27': {'1. open': '817.2500',\n",
       "  '2. high': '818.7500',\n",
       "  '3. low': '797.2500',\n",
       "  '4. close': '799.5500',\n",
       "  '5. volume': '1061163'},\n",
       " '2024-12-26': {'1. open': '813.0000',\n",
       "  '2. high': '822.9500',\n",
       "  '3. low': '808.0000',\n",
       "  '4. close': '811.6500',\n",
       "  '5. volume': '194920'},\n",
       " '2024-12-24': {'1. open': '825.0000',\n",
       "  '2. high': '825.5500',\n",
       "  '3. low': '809.2000',\n",
       "  '4. close': '811.8500',\n",
       "  '5. volume': '431577'},\n",
       " '2024-12-23': {'1. open': '818.3500',\n",
       "  '2. high': '823.9000',\n",
       "  '3. low': '812.4000',\n",
       "  '4. close': '820.9500',\n",
       "  '5. volume': '281649'},\n",
       " '2024-12-20': {'1. open': '833.8000',\n",
       "  '2. high': '836.4000',\n",
       "  '3. low': '810.0000',\n",
       "  '4. close': '812.5000',\n",
       "  '5. volume': '467910'},\n",
       " '2024-12-19': {'1. open': '822.0500',\n",
       "  '2. high': '837.9000',\n",
       "  '3. low': '820.1000',\n",
       "  '4. close': '832.8000',\n",
       "  '5. volume': '309033'},\n",
       " '2024-12-18': {'1. open': '850.2000',\n",
       "  '2. high': '850.8000',\n",
       "  '3. low': '836.7000',\n",
       "  '4. close': '839.0500',\n",
       "  '5. volume': '172425'},\n",
       " '2024-12-17': {'1. open': '859.7500',\n",
       "  '2. high': '862.9500',\n",
       "  '3. low': '847.1500',\n",
       "  '4. close': '850.2000',\n",
       "  '5. volume': '143409'},\n",
       " '2024-12-16': {'1. open': '859.0000',\n",
       "  '2. high': '866.2000',\n",
       "  '3. low': '857.8000',\n",
       "  '4. close': '860.7000',\n",
       "  '5. volume': '252691'},\n",
       " '2024-12-13': {'1. open': '853.7000',\n",
       "  '2. high': '863.0000',\n",
       "  '3. low': '835.0000',\n",
       "  '4. close': '861.7000',\n",
       "  '5. volume': '455324'}}"
      ]
     },
     "execution_count": 84,
     "metadata": {},
     "output_type": "execute_result"
    }
   ],
   "source": [
    "df"
   ]
  },
  {
   "cell_type": "code",
   "execution_count": 85,
   "id": "04d4fd53",
   "metadata": {},
   "outputs": [],
   "source": [
    "df =  pd.DataFrame(df)"
   ]
  },
  {
   "cell_type": "code",
   "execution_count": 86,
   "id": "bb7ee6cf",
   "metadata": {},
   "outputs": [],
   "source": [
    "import pandas as pd"
   ]
  },
  {
   "cell_type": "code",
   "execution_count": 87,
   "id": "8ee9c934",
   "metadata": {},
   "outputs": [],
   "source": [
    "df = df.T"
   ]
  },
  {
   "cell_type": "code",
   "execution_count": 88,
   "id": "6cdffd5e",
   "metadata": {},
   "outputs": [
    {
     "data": {
      "text/html": [
       "<div>\n",
       "<style scoped>\n",
       "    .dataframe tbody tr th:only-of-type {\n",
       "        vertical-align: middle;\n",
       "    }\n",
       "\n",
       "    .dataframe tbody tr th {\n",
       "        vertical-align: top;\n",
       "    }\n",
       "\n",
       "    .dataframe thead th {\n",
       "        text-align: right;\n",
       "    }\n",
       "</style>\n",
       "<table border=\"1\" class=\"dataframe\">\n",
       "  <thead>\n",
       "    <tr style=\"text-align: right;\">\n",
       "      <th></th>\n",
       "      <th>1. open</th>\n",
       "      <th>2. high</th>\n",
       "      <th>3. low</th>\n",
       "      <th>4. close</th>\n",
       "      <th>5. volume</th>\n",
       "    </tr>\n",
       "  </thead>\n",
       "  <tbody>\n",
       "    <tr>\n",
       "      <th>2025-05-13</th>\n",
       "      <td>800.4500</td>\n",
       "      <td>807.7000</td>\n",
       "      <td>797.2500</td>\n",
       "      <td>801.9000</td>\n",
       "      <td>717454</td>\n",
       "    </tr>\n",
       "    <tr>\n",
       "      <th>2025-05-12</th>\n",
       "      <td>799.8500</td>\n",
       "      <td>803.9000</td>\n",
       "      <td>793.1000</td>\n",
       "      <td>801.6000</td>\n",
       "      <td>829415</td>\n",
       "    </tr>\n",
       "    <tr>\n",
       "      <th>2025-05-09</th>\n",
       "      <td>755.2500</td>\n",
       "      <td>781.4000</td>\n",
       "      <td>755.2500</td>\n",
       "      <td>779.4000</td>\n",
       "      <td>375997</td>\n",
       "    </tr>\n",
       "    <tr>\n",
       "      <th>2025-05-08</th>\n",
       "      <td>778.0000</td>\n",
       "      <td>786.5000</td>\n",
       "      <td>765.0000</td>\n",
       "      <td>768.7500</td>\n",
       "      <td>463248</td>\n",
       "    </tr>\n",
       "    <tr>\n",
       "      <th>2025-05-07</th>\n",
       "      <td>762.2500</td>\n",
       "      <td>782.5500</td>\n",
       "      <td>762.2500</td>\n",
       "      <td>776.1500</td>\n",
       "      <td>581175</td>\n",
       "    </tr>\n",
       "  </tbody>\n",
       "</table>\n",
       "</div>"
      ],
      "text/plain": [
       "             1. open   2. high    3. low  4. close 5. volume\n",
       "2025-05-13  800.4500  807.7000  797.2500  801.9000    717454\n",
       "2025-05-12  799.8500  803.9000  793.1000  801.6000    829415\n",
       "2025-05-09  755.2500  781.4000  755.2500  779.4000    375997\n",
       "2025-05-08  778.0000  786.5000  765.0000  768.7500    463248\n",
       "2025-05-07  762.2500  782.5500  762.2500  776.1500    581175"
      ]
     },
     "execution_count": 88,
     "metadata": {},
     "output_type": "execute_result"
    }
   ],
   "source": [
    "df.head()"
   ]
  },
  {
   "cell_type": "code",
   "execution_count": 89,
   "id": "91a8bdbe",
   "metadata": {},
   "outputs": [
    {
     "data": {
      "text/plain": [
       "1. open      object\n",
       "2. high      object\n",
       "3. low       object\n",
       "4. close     object\n",
       "5. volume    object\n",
       "dtype: object"
      ]
     },
     "execution_count": 89,
     "metadata": {},
     "output_type": "execute_result"
    }
   ],
   "source": [
    "df.dtypes"
   ]
  },
  {
   "cell_type": "code",
   "execution_count": 90,
   "id": "1e80c4c5",
   "metadata": {},
   "outputs": [],
   "source": [
    "df = df.astype(float)"
   ]
  },
  {
   "cell_type": "code",
   "execution_count": 91,
   "id": "6375392c",
   "metadata": {},
   "outputs": [
    {
     "data": {
      "text/plain": [
       "1. open      float64\n",
       "2. high      float64\n",
       "3. low       float64\n",
       "4. close     float64\n",
       "5. volume    float64\n",
       "dtype: object"
      ]
     },
     "execution_count": 91,
     "metadata": {},
     "output_type": "execute_result"
    }
   ],
   "source": [
    "df.dtypes"
   ]
  },
  {
   "cell_type": "code",
   "execution_count": 92,
   "id": "02e6c58d",
   "metadata": {},
   "outputs": [
    {
     "data": {
      "text/plain": [
       "Index(['2025-05-13', '2025-05-12', '2025-05-09', '2025-05-08', '2025-05-07',\n",
       "       '2025-05-06', '2025-05-05', '2025-05-02', '2025-04-30', '2025-04-29',\n",
       "       '2025-04-28', '2025-04-25', '2025-04-24', '2025-04-23', '2025-04-22',\n",
       "       '2025-04-21', '2025-04-17', '2025-04-16', '2025-04-15', '2025-04-11',\n",
       "       '2025-04-09', '2025-04-08', '2025-04-07', '2025-04-04', '2025-04-03',\n",
       "       '2025-04-02', '2025-04-01', '2025-03-28', '2025-03-27', '2025-03-26',\n",
       "       '2025-03-25', '2025-03-24', '2025-03-21', '2025-03-20', '2025-03-19',\n",
       "       '2025-03-18', '2025-03-17', '2025-03-13', '2025-03-12', '2025-03-11',\n",
       "       '2025-03-10', '2025-03-07', '2025-03-06', '2025-03-05', '2025-03-04',\n",
       "       '2025-03-03', '2025-02-28', '2025-02-27', '2025-02-25', '2025-02-24',\n",
       "       '2025-02-21', '2025-02-20', '2025-02-19', '2025-02-18', '2025-02-17',\n",
       "       '2025-02-14', '2025-02-13', '2025-02-12', '2025-02-11', '2025-02-10',\n",
       "       '2025-02-07', '2025-02-06', '2025-02-05', '2025-02-04', '2025-02-03',\n",
       "       '2025-01-31', '2025-01-30', '2025-01-29', '2025-01-28', '2025-01-27',\n",
       "       '2025-01-24', '2025-01-23', '2025-01-22', '2025-01-21', '2025-01-20',\n",
       "       '2025-01-17', '2025-01-16', '2025-01-15', '2025-01-14', '2025-01-13',\n",
       "       '2025-01-10', '2025-01-09', '2025-01-08', '2025-01-07', '2025-01-06',\n",
       "       '2025-01-03', '2025-01-02', '2025-01-01', '2024-12-31', '2024-12-30',\n",
       "       '2024-12-27', '2024-12-26', '2024-12-24', '2024-12-23', '2024-12-20',\n",
       "       '2024-12-19', '2024-12-18', '2024-12-17', '2024-12-16', '2024-12-13'],\n",
       "      dtype='object')"
      ]
     },
     "execution_count": 92,
     "metadata": {},
     "output_type": "execute_result"
    }
   ],
   "source": [
    "df.index"
   ]
  },
  {
   "cell_type": "code",
   "execution_count": 93,
   "id": "6c29661f",
   "metadata": {},
   "outputs": [],
   "source": [
    "df.index = pd.to_datetime(df.index)"
   ]
  },
  {
   "cell_type": "code",
   "execution_count": 94,
   "id": "502dd859",
   "metadata": {},
   "outputs": [
    {
     "data": {
      "text/plain": [
       "DatetimeIndex(['2025-05-13', '2025-05-12', '2025-05-09', '2025-05-08',\n",
       "               '2025-05-07', '2025-05-06', '2025-05-05', '2025-05-02',\n",
       "               '2025-04-30', '2025-04-29', '2025-04-28', '2025-04-25',\n",
       "               '2025-04-24', '2025-04-23', '2025-04-22', '2025-04-21',\n",
       "               '2025-04-17', '2025-04-16', '2025-04-15', '2025-04-11',\n",
       "               '2025-04-09', '2025-04-08', '2025-04-07', '2025-04-04',\n",
       "               '2025-04-03', '2025-04-02', '2025-04-01', '2025-03-28',\n",
       "               '2025-03-27', '2025-03-26', '2025-03-25', '2025-03-24',\n",
       "               '2025-03-21', '2025-03-20', '2025-03-19', '2025-03-18',\n",
       "               '2025-03-17', '2025-03-13', '2025-03-12', '2025-03-11',\n",
       "               '2025-03-10', '2025-03-07', '2025-03-06', '2025-03-05',\n",
       "               '2025-03-04', '2025-03-03', '2025-02-28', '2025-02-27',\n",
       "               '2025-02-25', '2025-02-24', '2025-02-21', '2025-02-20',\n",
       "               '2025-02-19', '2025-02-18', '2025-02-17', '2025-02-14',\n",
       "               '2025-02-13', '2025-02-12', '2025-02-11', '2025-02-10',\n",
       "               '2025-02-07', '2025-02-06', '2025-02-05', '2025-02-04',\n",
       "               '2025-02-03', '2025-01-31', '2025-01-30', '2025-01-29',\n",
       "               '2025-01-28', '2025-01-27', '2025-01-24', '2025-01-23',\n",
       "               '2025-01-22', '2025-01-21', '2025-01-20', '2025-01-17',\n",
       "               '2025-01-16', '2025-01-15', '2025-01-14', '2025-01-13',\n",
       "               '2025-01-10', '2025-01-09', '2025-01-08', '2025-01-07',\n",
       "               '2025-01-06', '2025-01-03', '2025-01-02', '2025-01-01',\n",
       "               '2024-12-31', '2024-12-30', '2024-12-27', '2024-12-26',\n",
       "               '2024-12-24', '2024-12-23', '2024-12-20', '2024-12-19',\n",
       "               '2024-12-18', '2024-12-17', '2024-12-16', '2024-12-13'],\n",
       "              dtype='datetime64[ns]', freq=None)"
      ]
     },
     "execution_count": 94,
     "metadata": {},
     "output_type": "execute_result"
    }
   ],
   "source": [
    "df.index"
   ]
  },
  {
   "cell_type": "code",
   "execution_count": 95,
   "id": "a7fc76ad",
   "metadata": {},
   "outputs": [
    {
     "data": {
      "text/html": [
       "<div>\n",
       "<style scoped>\n",
       "    .dataframe tbody tr th:only-of-type {\n",
       "        vertical-align: middle;\n",
       "    }\n",
       "\n",
       "    .dataframe tbody tr th {\n",
       "        vertical-align: top;\n",
       "    }\n",
       "\n",
       "    .dataframe thead th {\n",
       "        text-align: right;\n",
       "    }\n",
       "</style>\n",
       "<table border=\"1\" class=\"dataframe\">\n",
       "  <thead>\n",
       "    <tr style=\"text-align: right;\">\n",
       "      <th></th>\n",
       "      <th>1. open</th>\n",
       "      <th>2. high</th>\n",
       "      <th>3. low</th>\n",
       "      <th>4. close</th>\n",
       "      <th>5. volume</th>\n",
       "    </tr>\n",
       "  </thead>\n",
       "  <tbody>\n",
       "    <tr>\n",
       "      <th>2025-05-13</th>\n",
       "      <td>800.45</td>\n",
       "      <td>807.70</td>\n",
       "      <td>797.25</td>\n",
       "      <td>801.90</td>\n",
       "      <td>717454.0</td>\n",
       "    </tr>\n",
       "    <tr>\n",
       "      <th>2025-05-12</th>\n",
       "      <td>799.85</td>\n",
       "      <td>803.90</td>\n",
       "      <td>793.10</td>\n",
       "      <td>801.60</td>\n",
       "      <td>829415.0</td>\n",
       "    </tr>\n",
       "    <tr>\n",
       "      <th>2025-05-09</th>\n",
       "      <td>755.25</td>\n",
       "      <td>781.40</td>\n",
       "      <td>755.25</td>\n",
       "      <td>779.40</td>\n",
       "      <td>375997.0</td>\n",
       "    </tr>\n",
       "    <tr>\n",
       "      <th>2025-05-08</th>\n",
       "      <td>778.00</td>\n",
       "      <td>786.50</td>\n",
       "      <td>765.00</td>\n",
       "      <td>768.75</td>\n",
       "      <td>463248.0</td>\n",
       "    </tr>\n",
       "    <tr>\n",
       "      <th>2025-05-07</th>\n",
       "      <td>762.25</td>\n",
       "      <td>782.55</td>\n",
       "      <td>762.25</td>\n",
       "      <td>776.15</td>\n",
       "      <td>581175.0</td>\n",
       "    </tr>\n",
       "  </tbody>\n",
       "</table>\n",
       "</div>"
      ],
      "text/plain": [
       "            1. open  2. high  3. low  4. close  5. volume\n",
       "2025-05-13   800.45   807.70  797.25    801.90   717454.0\n",
       "2025-05-12   799.85   803.90  793.10    801.60   829415.0\n",
       "2025-05-09   755.25   781.40  755.25    779.40   375997.0\n",
       "2025-05-08   778.00   786.50  765.00    768.75   463248.0\n",
       "2025-05-07   762.25   782.55  762.25    776.15   581175.0"
      ]
     },
     "execution_count": 95,
     "metadata": {},
     "output_type": "execute_result"
    }
   ],
   "source": [
    "df.head()"
   ]
  },
  {
   "cell_type": "code",
   "execution_count": 96,
   "id": "43d0ce20",
   "metadata": {},
   "outputs": [],
   "source": [
    "df.index.name = \"Date\""
   ]
  },
  {
   "cell_type": "code",
   "execution_count": 97,
   "id": "7e30f1dc",
   "metadata": {},
   "outputs": [
    {
     "data": {
      "text/html": [
       "<div>\n",
       "<style scoped>\n",
       "    .dataframe tbody tr th:only-of-type {\n",
       "        vertical-align: middle;\n",
       "    }\n",
       "\n",
       "    .dataframe tbody tr th {\n",
       "        vertical-align: top;\n",
       "    }\n",
       "\n",
       "    .dataframe thead th {\n",
       "        text-align: right;\n",
       "    }\n",
       "</style>\n",
       "<table border=\"1\" class=\"dataframe\">\n",
       "  <thead>\n",
       "    <tr style=\"text-align: right;\">\n",
       "      <th></th>\n",
       "      <th>1. open</th>\n",
       "      <th>2. high</th>\n",
       "      <th>3. low</th>\n",
       "      <th>4. close</th>\n",
       "      <th>5. volume</th>\n",
       "    </tr>\n",
       "    <tr>\n",
       "      <th>Date</th>\n",
       "      <th></th>\n",
       "      <th></th>\n",
       "      <th></th>\n",
       "      <th></th>\n",
       "      <th></th>\n",
       "    </tr>\n",
       "  </thead>\n",
       "  <tbody>\n",
       "    <tr>\n",
       "      <th>2025-05-13</th>\n",
       "      <td>800.45</td>\n",
       "      <td>807.70</td>\n",
       "      <td>797.25</td>\n",
       "      <td>801.90</td>\n",
       "      <td>717454.0</td>\n",
       "    </tr>\n",
       "    <tr>\n",
       "      <th>2025-05-12</th>\n",
       "      <td>799.85</td>\n",
       "      <td>803.90</td>\n",
       "      <td>793.10</td>\n",
       "      <td>801.60</td>\n",
       "      <td>829415.0</td>\n",
       "    </tr>\n",
       "    <tr>\n",
       "      <th>2025-05-09</th>\n",
       "      <td>755.25</td>\n",
       "      <td>781.40</td>\n",
       "      <td>755.25</td>\n",
       "      <td>779.40</td>\n",
       "      <td>375997.0</td>\n",
       "    </tr>\n",
       "    <tr>\n",
       "      <th>2025-05-08</th>\n",
       "      <td>778.00</td>\n",
       "      <td>786.50</td>\n",
       "      <td>765.00</td>\n",
       "      <td>768.75</td>\n",
       "      <td>463248.0</td>\n",
       "    </tr>\n",
       "    <tr>\n",
       "      <th>2025-05-07</th>\n",
       "      <td>762.25</td>\n",
       "      <td>782.55</td>\n",
       "      <td>762.25</td>\n",
       "      <td>776.15</td>\n",
       "      <td>581175.0</td>\n",
       "    </tr>\n",
       "  </tbody>\n",
       "</table>\n",
       "</div>"
      ],
      "text/plain": [
       "            1. open  2. high  3. low  4. close  5. volume\n",
       "Date                                                     \n",
       "2025-05-13   800.45   807.70  797.25    801.90   717454.0\n",
       "2025-05-12   799.85   803.90  793.10    801.60   829415.0\n",
       "2025-05-09   755.25   781.40  755.25    779.40   375997.0\n",
       "2025-05-08   778.00   786.50  765.00    768.75   463248.0\n",
       "2025-05-07   762.25   782.55  762.25    776.15   581175.0"
      ]
     },
     "execution_count": 97,
     "metadata": {},
     "output_type": "execute_result"
    }
   ],
   "source": [
    "df.head()\n"
   ]
  },
  {
   "cell_type": "code",
   "execution_count": 98,
   "id": "b3e55f54",
   "metadata": {},
   "outputs": [],
   "source": [
    "df.to_csv('Stock.csv')"
   ]
  },
  {
   "cell_type": "code",
   "execution_count": null,
   "id": "a938ed55",
   "metadata": {},
   "outputs": [],
   "source": [
    "df.to_csv(r'C:\\Users\\Dell\\Desktop\\adv python\\stock_daily.csv')"
   ]
  },
  {
   "cell_type": "code",
   "execution_count": 99,
   "id": "cf2b8874",
   "metadata": {},
   "outputs": [],
   "source": [
    "import plotly.graph_objects as go"
   ]
  },
  {
   "cell_type": "code",
   "execution_count": 100,
   "id": "6a4b9b3d",
   "metadata": {},
   "outputs": [
    {
     "data": {
      "application/vnd.plotly.v1+json": {
       "config": {
        "plotlyServerURL": "https://plot.ly"
       },
       "data": [
        {
         "close": {
          "bdata": "MzMzMzMPiUDNzMzMzAyJQDMzMzMzW4hAAAAAAAAGiEAzMzMzM0GIQDMzMzMzMYhAAAAAAACwiEBmZmZmZgCJQDMzMzMzoYhAAAAAAABeiUDNzMzMzIyJQAAAAAAA9ohAmpmZmZlpiUBmZmZmZmqJQJqZmZmZs4lAzczMzMyEiUDNzMzMzOiIQAAAAAAAHohAZmZmZmbah0BmZmZmZpCHQGZmZmZmMIdAMzMzMzMDiEAAAAAAAFaHQGZmZmZm/odAmpmZmZlZiEDNzMzMzD6IQAAAAAAAHIhAzczMzMwciEAzMzMzMyOIQM3MzMzM2odAZmZmZmYoiEAzMzMzM2uIQAAAAAAAiIdAmpmZmZlph0BmZmZmZkiHQGZmZmZmCIdAmpmZmZmVhkAAAAAAAL6GQDMzMzMzl4ZAmpmZmZnPhkDNzMzMzMKGQAAAAAAA5oZAmpmZmZnfhkAAAAAAANKGQDMzMzMzYYZAMzMzMzO5hUAAAAAAAIKFQJqZmZmZ/4VAAAAAAAA4hkAzMzMzM2OGQGZmZmZmjIZAMzMzMzPNhkBmZmZmZraGQAAAAAAAroZAZmZmZmbAhkAAAAAAAJCGQGZmZmZmuoZAAAAAAADqhkAAAAAAANiGQM3MzMzMBodAZmZmZmYIh0DNzMzMzIKHQM3MzMzM8IdAmpmZmZlZiEAAAAAAAMiHQM3MzMzMKIhAmpmZmZnRh0CamZmZmbWHQDMzMzMzfYdAmpmZmZlph0DNzMzMzEKHQJqZmZmZT4dAAAAAAACKh0AAAAAAALiHQGZmZmZmWIhAzczMzMzgh0AzMzMzM/OHQAAAAAAAkIdAzczMzMxgh0DNzMzMzMyGQDMzMzMzOYdAzczMzMzCh0CamZmZmRmIQAAAAAAAWIhAAAAAAABGiEAAAAAAAMyIQGZmZmZmCIlAzczMzMzKiEBmZmZmZtiIQGZmZmZmoohAZmZmZmb8iEAzMzMzM12JQM3MzMzMXolAmpmZmZmniUAAAAAAAGSJQGZmZmZmBopAZmZmZmY4ikCamZmZmZGKQJqZmZmZ5YpAmpmZmZntikA=",
          "dtype": "f8"
         },
         "decreasing": {
          "line": {
           "color": "red"
          }
         },
         "high": {
          "bdata": "mpmZmZk9iUAzMzMzMx+JQDMzMzMza4hAAAAAAACUiEBmZmZmZnSIQAAAAAAA+IhAzczMzMz4iECamZmZmReJQM3MzMzMZolAAAAAAADoiUAAAAAAALSJQM3MzMzMmIlAMzMzMzOZiUAAAAAAAPCJQDMzMzMzG4pAAAAAAADCiUAAAAAAAAiJQGZmZmZmNIhAzczMzMwUiECamZmZmb+HQAAAAAAACIhAzczMzMwwiECamZmZmYeHQAAAAAAAcohAzczMzMyGiEBmZmZmZkaIQAAAAAAAdIhAmpmZmZlTiEAAAAAAADiIQJqZmZmZP4hAAAAAAACQiEAzMzMzM3mIQDMzMzMzm4dAZmZmZmaGh0AAAAAAAGiHQAAAAAAAFIdAmpmZmZnXhkCamZmZmduGQAAAAAAABIdAMzMzMzPvhkCamZmZmROHQDMzMzMz94ZAmpmZmZkPh0AAAAAAANiGQDMzMzMzcYZAzczMzMzGhUBmZmZmZu6FQDMzMzMzZ4ZAAAAAAAB4hkBmZmZmZn6GQAAAAAAA4IZAZmZmZmbehkAAAAAAAPaGQJqZmZmZv4ZAmpmZmZnHhkCamZmZmeWGQGZmZmZmCodAZmZmZmYSh0AAAAAAACCHQGZmZmZmQIdAZmZmZmbOh0CamZmZmReIQM3MzMzMbIhAzczMzMxmiEAzMzMzM92HQAAAAAAATohAzczMzMzmh0AAAAAAAMKHQM3MzMzMvIdAZmZmZmaah0AAAAAAAI6HQGZmZmZmnodAzczMzMzWh0BmZmZmZoqIQJqZmZmZh4hAzczMzMz+h0BmZmZmZkSIQM3MzMzMtodAMzMzMzOnh0DNzMzMzD6HQGZmZmZmxodAmpmZmZkfiEAAAAAAAHSIQAAAAAAAfohAAAAAAADwiECamZmZmU2JQDMzMzMzE4lAAAAAAAD0iECamZmZmfeIQAAAAAAAQIlAAAAAAACWiUCamZmZmbeJQGZmZmZmzIlAMzMzMzO/iUAzMzMzMyOKQDMzMzMzL4pAZmZmZmaWikCamZmZmfeKQJqZmZmZEYtAAAAAAAD4ikA=",
          "dtype": "f8"
         },
         "increasing": {
          "line": {
           "color": "green"
          }
         },
         "low": {
          "bdata": "AAAAAADqiEDNzMzMzMiIQAAAAAAAmodAAAAAAADoh0AAAAAAANKHQDMzMzMzGYhAMzMzMzN9iEAAAAAAAKqIQJqZmZmZg4hAAAAAAABGiUBmZmZmZuKIQM3MzMzMmIhAAAAAAABYiUCamZmZmU+JQGZmZmZmbolAzczMzMwMiUAAAAAAAPqHQDMzMzMzw4dAMzMzMzOth0AzMzMzM1GHQAAAAAAAJodAAAAAAACoh0CamZmZmdeGQAAAAAAA6IdAAAAAAAAQiEBmZmZmZuKHQGZmZmZm2IdAAAAAAAAAiEAAAAAAAMaHQGZmZmZmzodAMzMzMzMNiEBmZmZmZpiHQJqZmZmZWYdAmpmZmZlBh0AAAAAAABqHQAAAAAAAmIZAzczMzMyQhkDNzMzMzKKGQJqZmZmZeYZAAAAAAACUhkBmZmZmZriGQJqZmZmZv4ZAzczMzMy4hkBmZmZmZm6GQDMzMzMzoYVAMzMzMzM9hUDNzMzMzFaFQAAAAAAA6IVAmpmZmZkvhkAzMzMzMzeGQAAAAAAAgIZAZmZmZmaYhkDNzMzMzJCGQJqZmZmZa4ZAMzMzMzM7hkAzMzMzM2GGQGZmZmZmsIZAAAAAAABqhkAzMzMzM7eGQM3MzMzM7IZAZmZmZmbghkAAAAAAAHCHQDMzMzMz5YdAAAAAAADwh0CamZmZmYuHQM3MzMzMuodAmpmZmZmVh0BmZmZmZm6HQDMzMzMzTYdAAAAAAAAAh0DNzMzMzBaHQGZmZmZmOodAZmZmZmYSh0AAAAAAAKKHQGZmZmZm6IdAmpmZmZm7h0BmZmZmZsCHQM3MzMzMcodAzczMzMzUhkAAAAAAAJSGQAAAAAAAMIdAMzMzMzO3hkDNzMzMzMCHQM3MzMzMOIhAZmZmZmYqiEAAAAAAAMKIQGZmZmZmkohAzczMzMysiEAAAAAAAJiIQJqZmZmZiYhAAAAAAADqiEAAAAAAAECJQJqZmZmZSYlAMzMzMzNjiUAAAAAAAFCJQM3MzMzMoIlAmpmZmZklikAzMzMzM3mKQGZmZmZmzopAAAAAAAAYikA=",
          "dtype": "f8"
         },
         "open": {
          "bdata": "mpmZmZkDiUDNzMzMzP6IQAAAAAAAmodAAAAAAABQiEAAAAAAANKHQJqZmZmZwYhAmpmZmZmHiEBmZmZmZsCIQM3MzMzMZolAAAAAAACgiUBmZmZmZuKIQM3MzMzMbIlAZmZmZmZqiUDNzMzMzM6JQJqZmZmZqYlAAAAAAAAYiUDNzMzMzBiIQAAAAAAA4IdAZmZmZmYAiECamZmZmb+HQGZmZmZmBohAAAAAAACoh0BmZmZmZuKGQJqZmZmZWYhAAAAAAAAQiEAAAAAAACCIQJqZmZmZ/4dAmpmZmZkViECamZmZmdWHQGZmZmZmEohAMzMzMzODiEAAAAAAALSHQDMzMzMzaYdAmpmZmZlvh0AzMzMzMx+HQAAAAAAAuIZAAAAAAADIhkAzMzMzM7eGQJqZmZmZz4ZAMzMzMzOnhkCamZmZmeeGQJqZmZmZ54ZAmpmZmZkPh0DNzMzMzHaGQDMzMzMzq4VAAAAAAACihUBmZmZmZu6FQDMzMzMzZ4ZAAAAAAAB4hkAzMzMzM0WGQJqZmZmZyYZAZmZmZma+hkBmZmZmZpaGQJqZmZmZv4ZAzczMzMyOhkCamZmZmcuGQAAAAAAA+IZAmpmZmZnnhkAzMzMzMxGHQGZmZmZmJIdAZmZmZmbOh0AzMzMzMw2IQGZmZmZmZohAZmZmZmbyh0AzMzMzM92HQAAAAAAA6IdAMzMzMzO7h0AAAAAAAISHQJqZmZmZoYdAAAAAAAAgh0CamZmZmVmHQJqZmZmZf4dAzczMzMzWh0CamZmZmYeIQGZmZmZm6IdAMzMzMzP3h0AzMzMzM82HQJqZmZmZjYdAzczMzMzUhkCamZmZmTeHQM3MzMzMwodAmpmZmZkfiEAAAAAAAGiIQGZmZmZmUIhAAAAAAADwiEAzMzMzMw+JQAAAAAAA2IhAzczMzMzmiEAAAAAAAKaIQJqZmZmZFYlAAAAAAACKiUAAAAAAAGiJQAAAAAAAyIlAzczMzMySiUBmZmZmZg6KQGZmZmZmsIlAmpmZmZmRikAAAAAAAN6KQAAAAAAA2IpAmpmZmZmtikA=",
          "dtype": "f8"
         },
         "type": "candlestick",
         "x": [
          "2025-05-13T00:00:00.000000000",
          "2025-05-12T00:00:00.000000000",
          "2025-05-09T00:00:00.000000000",
          "2025-05-08T00:00:00.000000000",
          "2025-05-07T00:00:00.000000000",
          "2025-05-06T00:00:00.000000000",
          "2025-05-05T00:00:00.000000000",
          "2025-05-02T00:00:00.000000000",
          "2025-04-30T00:00:00.000000000",
          "2025-04-29T00:00:00.000000000",
          "2025-04-28T00:00:00.000000000",
          "2025-04-25T00:00:00.000000000",
          "2025-04-24T00:00:00.000000000",
          "2025-04-23T00:00:00.000000000",
          "2025-04-22T00:00:00.000000000",
          "2025-04-21T00:00:00.000000000",
          "2025-04-17T00:00:00.000000000",
          "2025-04-16T00:00:00.000000000",
          "2025-04-15T00:00:00.000000000",
          "2025-04-11T00:00:00.000000000",
          "2025-04-09T00:00:00.000000000",
          "2025-04-08T00:00:00.000000000",
          "2025-04-07T00:00:00.000000000",
          "2025-04-04T00:00:00.000000000",
          "2025-04-03T00:00:00.000000000",
          "2025-04-02T00:00:00.000000000",
          "2025-04-01T00:00:00.000000000",
          "2025-03-28T00:00:00.000000000",
          "2025-03-27T00:00:00.000000000",
          "2025-03-26T00:00:00.000000000",
          "2025-03-25T00:00:00.000000000",
          "2025-03-24T00:00:00.000000000",
          "2025-03-21T00:00:00.000000000",
          "2025-03-20T00:00:00.000000000",
          "2025-03-19T00:00:00.000000000",
          "2025-03-18T00:00:00.000000000",
          "2025-03-17T00:00:00.000000000",
          "2025-03-13T00:00:00.000000000",
          "2025-03-12T00:00:00.000000000",
          "2025-03-11T00:00:00.000000000",
          "2025-03-10T00:00:00.000000000",
          "2025-03-07T00:00:00.000000000",
          "2025-03-06T00:00:00.000000000",
          "2025-03-05T00:00:00.000000000",
          "2025-03-04T00:00:00.000000000",
          "2025-03-03T00:00:00.000000000",
          "2025-02-28T00:00:00.000000000",
          "2025-02-27T00:00:00.000000000",
          "2025-02-25T00:00:00.000000000",
          "2025-02-24T00:00:00.000000000",
          "2025-02-21T00:00:00.000000000",
          "2025-02-20T00:00:00.000000000",
          "2025-02-19T00:00:00.000000000",
          "2025-02-18T00:00:00.000000000",
          "2025-02-17T00:00:00.000000000",
          "2025-02-14T00:00:00.000000000",
          "2025-02-13T00:00:00.000000000",
          "2025-02-12T00:00:00.000000000",
          "2025-02-11T00:00:00.000000000",
          "2025-02-10T00:00:00.000000000",
          "2025-02-07T00:00:00.000000000",
          "2025-02-06T00:00:00.000000000",
          "2025-02-05T00:00:00.000000000",
          "2025-02-04T00:00:00.000000000",
          "2025-02-03T00:00:00.000000000",
          "2025-01-31T00:00:00.000000000",
          "2025-01-30T00:00:00.000000000",
          "2025-01-29T00:00:00.000000000",
          "2025-01-28T00:00:00.000000000",
          "2025-01-27T00:00:00.000000000",
          "2025-01-24T00:00:00.000000000",
          "2025-01-23T00:00:00.000000000",
          "2025-01-22T00:00:00.000000000",
          "2025-01-21T00:00:00.000000000",
          "2025-01-20T00:00:00.000000000",
          "2025-01-17T00:00:00.000000000",
          "2025-01-16T00:00:00.000000000",
          "2025-01-15T00:00:00.000000000",
          "2025-01-14T00:00:00.000000000",
          "2025-01-13T00:00:00.000000000",
          "2025-01-10T00:00:00.000000000",
          "2025-01-09T00:00:00.000000000",
          "2025-01-08T00:00:00.000000000",
          "2025-01-07T00:00:00.000000000",
          "2025-01-06T00:00:00.000000000",
          "2025-01-03T00:00:00.000000000",
          "2025-01-02T00:00:00.000000000",
          "2025-01-01T00:00:00.000000000",
          "2024-12-31T00:00:00.000000000",
          "2024-12-30T00:00:00.000000000",
          "2024-12-27T00:00:00.000000000",
          "2024-12-26T00:00:00.000000000",
          "2024-12-24T00:00:00.000000000",
          "2024-12-23T00:00:00.000000000",
          "2024-12-20T00:00:00.000000000",
          "2024-12-19T00:00:00.000000000",
          "2024-12-18T00:00:00.000000000",
          "2024-12-17T00:00:00.000000000",
          "2024-12-16T00:00:00.000000000",
          "2024-12-13T00:00:00.000000000"
         ]
        }
       ],
       "layout": {
        "template": {
         "data": {
          "bar": [
           {
            "error_x": {
             "color": "#2a3f5f"
            },
            "error_y": {
             "color": "#2a3f5f"
            },
            "marker": {
             "line": {
              "color": "#E5ECF6",
              "width": 0.5
             },
             "pattern": {
              "fillmode": "overlay",
              "size": 10,
              "solidity": 0.2
             }
            },
            "type": "bar"
           }
          ],
          "barpolar": [
           {
            "marker": {
             "line": {
              "color": "#E5ECF6",
              "width": 0.5
             },
             "pattern": {
              "fillmode": "overlay",
              "size": 10,
              "solidity": 0.2
             }
            },
            "type": "barpolar"
           }
          ],
          "carpet": [
           {
            "aaxis": {
             "endlinecolor": "#2a3f5f",
             "gridcolor": "white",
             "linecolor": "white",
             "minorgridcolor": "white",
             "startlinecolor": "#2a3f5f"
            },
            "baxis": {
             "endlinecolor": "#2a3f5f",
             "gridcolor": "white",
             "linecolor": "white",
             "minorgridcolor": "white",
             "startlinecolor": "#2a3f5f"
            },
            "type": "carpet"
           }
          ],
          "choropleth": [
           {
            "colorbar": {
             "outlinewidth": 0,
             "ticks": ""
            },
            "type": "choropleth"
           }
          ],
          "contour": [
           {
            "colorbar": {
             "outlinewidth": 0,
             "ticks": ""
            },
            "colorscale": [
             [
              0,
              "#0d0887"
             ],
             [
              0.1111111111111111,
              "#46039f"
             ],
             [
              0.2222222222222222,
              "#7201a8"
             ],
             [
              0.3333333333333333,
              "#9c179e"
             ],
             [
              0.4444444444444444,
              "#bd3786"
             ],
             [
              0.5555555555555556,
              "#d8576b"
             ],
             [
              0.6666666666666666,
              "#ed7953"
             ],
             [
              0.7777777777777778,
              "#fb9f3a"
             ],
             [
              0.8888888888888888,
              "#fdca26"
             ],
             [
              1,
              "#f0f921"
             ]
            ],
            "type": "contour"
           }
          ],
          "contourcarpet": [
           {
            "colorbar": {
             "outlinewidth": 0,
             "ticks": ""
            },
            "type": "contourcarpet"
           }
          ],
          "heatmap": [
           {
            "colorbar": {
             "outlinewidth": 0,
             "ticks": ""
            },
            "colorscale": [
             [
              0,
              "#0d0887"
             ],
             [
              0.1111111111111111,
              "#46039f"
             ],
             [
              0.2222222222222222,
              "#7201a8"
             ],
             [
              0.3333333333333333,
              "#9c179e"
             ],
             [
              0.4444444444444444,
              "#bd3786"
             ],
             [
              0.5555555555555556,
              "#d8576b"
             ],
             [
              0.6666666666666666,
              "#ed7953"
             ],
             [
              0.7777777777777778,
              "#fb9f3a"
             ],
             [
              0.8888888888888888,
              "#fdca26"
             ],
             [
              1,
              "#f0f921"
             ]
            ],
            "type": "heatmap"
           }
          ],
          "histogram": [
           {
            "marker": {
             "pattern": {
              "fillmode": "overlay",
              "size": 10,
              "solidity": 0.2
             }
            },
            "type": "histogram"
           }
          ],
          "histogram2d": [
           {
            "colorbar": {
             "outlinewidth": 0,
             "ticks": ""
            },
            "colorscale": [
             [
              0,
              "#0d0887"
             ],
             [
              0.1111111111111111,
              "#46039f"
             ],
             [
              0.2222222222222222,
              "#7201a8"
             ],
             [
              0.3333333333333333,
              "#9c179e"
             ],
             [
              0.4444444444444444,
              "#bd3786"
             ],
             [
              0.5555555555555556,
              "#d8576b"
             ],
             [
              0.6666666666666666,
              "#ed7953"
             ],
             [
              0.7777777777777778,
              "#fb9f3a"
             ],
             [
              0.8888888888888888,
              "#fdca26"
             ],
             [
              1,
              "#f0f921"
             ]
            ],
            "type": "histogram2d"
           }
          ],
          "histogram2dcontour": [
           {
            "colorbar": {
             "outlinewidth": 0,
             "ticks": ""
            },
            "colorscale": [
             [
              0,
              "#0d0887"
             ],
             [
              0.1111111111111111,
              "#46039f"
             ],
             [
              0.2222222222222222,
              "#7201a8"
             ],
             [
              0.3333333333333333,
              "#9c179e"
             ],
             [
              0.4444444444444444,
              "#bd3786"
             ],
             [
              0.5555555555555556,
              "#d8576b"
             ],
             [
              0.6666666666666666,
              "#ed7953"
             ],
             [
              0.7777777777777778,
              "#fb9f3a"
             ],
             [
              0.8888888888888888,
              "#fdca26"
             ],
             [
              1,
              "#f0f921"
             ]
            ],
            "type": "histogram2dcontour"
           }
          ],
          "mesh3d": [
           {
            "colorbar": {
             "outlinewidth": 0,
             "ticks": ""
            },
            "type": "mesh3d"
           }
          ],
          "parcoords": [
           {
            "line": {
             "colorbar": {
              "outlinewidth": 0,
              "ticks": ""
             }
            },
            "type": "parcoords"
           }
          ],
          "pie": [
           {
            "automargin": true,
            "type": "pie"
           }
          ],
          "scatter": [
           {
            "fillpattern": {
             "fillmode": "overlay",
             "size": 10,
             "solidity": 0.2
            },
            "type": "scatter"
           }
          ],
          "scatter3d": [
           {
            "line": {
             "colorbar": {
              "outlinewidth": 0,
              "ticks": ""
             }
            },
            "marker": {
             "colorbar": {
              "outlinewidth": 0,
              "ticks": ""
             }
            },
            "type": "scatter3d"
           }
          ],
          "scattercarpet": [
           {
            "marker": {
             "colorbar": {
              "outlinewidth": 0,
              "ticks": ""
             }
            },
            "type": "scattercarpet"
           }
          ],
          "scattergeo": [
           {
            "marker": {
             "colorbar": {
              "outlinewidth": 0,
              "ticks": ""
             }
            },
            "type": "scattergeo"
           }
          ],
          "scattergl": [
           {
            "marker": {
             "colorbar": {
              "outlinewidth": 0,
              "ticks": ""
             }
            },
            "type": "scattergl"
           }
          ],
          "scattermap": [
           {
            "marker": {
             "colorbar": {
              "outlinewidth": 0,
              "ticks": ""
             }
            },
            "type": "scattermap"
           }
          ],
          "scattermapbox": [
           {
            "marker": {
             "colorbar": {
              "outlinewidth": 0,
              "ticks": ""
             }
            },
            "type": "scattermapbox"
           }
          ],
          "scatterpolar": [
           {
            "marker": {
             "colorbar": {
              "outlinewidth": 0,
              "ticks": ""
             }
            },
            "type": "scatterpolar"
           }
          ],
          "scatterpolargl": [
           {
            "marker": {
             "colorbar": {
              "outlinewidth": 0,
              "ticks": ""
             }
            },
            "type": "scatterpolargl"
           }
          ],
          "scatterternary": [
           {
            "marker": {
             "colorbar": {
              "outlinewidth": 0,
              "ticks": ""
             }
            },
            "type": "scatterternary"
           }
          ],
          "surface": [
           {
            "colorbar": {
             "outlinewidth": 0,
             "ticks": ""
            },
            "colorscale": [
             [
              0,
              "#0d0887"
             ],
             [
              0.1111111111111111,
              "#46039f"
             ],
             [
              0.2222222222222222,
              "#7201a8"
             ],
             [
              0.3333333333333333,
              "#9c179e"
             ],
             [
              0.4444444444444444,
              "#bd3786"
             ],
             [
              0.5555555555555556,
              "#d8576b"
             ],
             [
              0.6666666666666666,
              "#ed7953"
             ],
             [
              0.7777777777777778,
              "#fb9f3a"
             ],
             [
              0.8888888888888888,
              "#fdca26"
             ],
             [
              1,
              "#f0f921"
             ]
            ],
            "type": "surface"
           }
          ],
          "table": [
           {
            "cells": {
             "fill": {
              "color": "#EBF0F8"
             },
             "line": {
              "color": "white"
             }
            },
            "header": {
             "fill": {
              "color": "#C8D4E3"
             },
             "line": {
              "color": "white"
             }
            },
            "type": "table"
           }
          ]
         },
         "layout": {
          "annotationdefaults": {
           "arrowcolor": "#2a3f5f",
           "arrowhead": 0,
           "arrowwidth": 1
          },
          "autotypenumbers": "strict",
          "coloraxis": {
           "colorbar": {
            "outlinewidth": 0,
            "ticks": ""
           }
          },
          "colorscale": {
           "diverging": [
            [
             0,
             "#8e0152"
            ],
            [
             0.1,
             "#c51b7d"
            ],
            [
             0.2,
             "#de77ae"
            ],
            [
             0.3,
             "#f1b6da"
            ],
            [
             0.4,
             "#fde0ef"
            ],
            [
             0.5,
             "#f7f7f7"
            ],
            [
             0.6,
             "#e6f5d0"
            ],
            [
             0.7,
             "#b8e186"
            ],
            [
             0.8,
             "#7fbc41"
            ],
            [
             0.9,
             "#4d9221"
            ],
            [
             1,
             "#276419"
            ]
           ],
           "sequential": [
            [
             0,
             "#0d0887"
            ],
            [
             0.1111111111111111,
             "#46039f"
            ],
            [
             0.2222222222222222,
             "#7201a8"
            ],
            [
             0.3333333333333333,
             "#9c179e"
            ],
            [
             0.4444444444444444,
             "#bd3786"
            ],
            [
             0.5555555555555556,
             "#d8576b"
            ],
            [
             0.6666666666666666,
             "#ed7953"
            ],
            [
             0.7777777777777778,
             "#fb9f3a"
            ],
            [
             0.8888888888888888,
             "#fdca26"
            ],
            [
             1,
             "#f0f921"
            ]
           ],
           "sequentialminus": [
            [
             0,
             "#0d0887"
            ],
            [
             0.1111111111111111,
             "#46039f"
            ],
            [
             0.2222222222222222,
             "#7201a8"
            ],
            [
             0.3333333333333333,
             "#9c179e"
            ],
            [
             0.4444444444444444,
             "#bd3786"
            ],
            [
             0.5555555555555556,
             "#d8576b"
            ],
            [
             0.6666666666666666,
             "#ed7953"
            ],
            [
             0.7777777777777778,
             "#fb9f3a"
            ],
            [
             0.8888888888888888,
             "#fdca26"
            ],
            [
             1,
             "#f0f921"
            ]
           ]
          },
          "colorway": [
           "#636efa",
           "#EF553B",
           "#00cc96",
           "#ab63fa",
           "#FFA15A",
           "#19d3f3",
           "#FF6692",
           "#B6E880",
           "#FF97FF",
           "#FECB52"
          ],
          "font": {
           "color": "#2a3f5f"
          },
          "geo": {
           "bgcolor": "white",
           "lakecolor": "white",
           "landcolor": "#E5ECF6",
           "showlakes": true,
           "showland": true,
           "subunitcolor": "white"
          },
          "hoverlabel": {
           "align": "left"
          },
          "hovermode": "closest",
          "mapbox": {
           "style": "light"
          },
          "paper_bgcolor": "white",
          "plot_bgcolor": "#E5ECF6",
          "polar": {
           "angularaxis": {
            "gridcolor": "white",
            "linecolor": "white",
            "ticks": ""
           },
           "bgcolor": "#E5ECF6",
           "radialaxis": {
            "gridcolor": "white",
            "linecolor": "white",
            "ticks": ""
           }
          },
          "scene": {
           "xaxis": {
            "backgroundcolor": "#E5ECF6",
            "gridcolor": "white",
            "gridwidth": 2,
            "linecolor": "white",
            "showbackground": true,
            "ticks": "",
            "zerolinecolor": "white"
           },
           "yaxis": {
            "backgroundcolor": "#E5ECF6",
            "gridcolor": "white",
            "gridwidth": 2,
            "linecolor": "white",
            "showbackground": true,
            "ticks": "",
            "zerolinecolor": "white"
           },
           "zaxis": {
            "backgroundcolor": "#E5ECF6",
            "gridcolor": "white",
            "gridwidth": 2,
            "linecolor": "white",
            "showbackground": true,
            "ticks": "",
            "zerolinecolor": "white"
           }
          },
          "shapedefaults": {
           "line": {
            "color": "#2a3f5f"
           }
          },
          "ternary": {
           "aaxis": {
            "gridcolor": "white",
            "linecolor": "white",
            "ticks": ""
           },
           "baxis": {
            "gridcolor": "white",
            "linecolor": "white",
            "ticks": ""
           },
           "bgcolor": "#E5ECF6",
           "caxis": {
            "gridcolor": "white",
            "linecolor": "white",
            "ticks": ""
           }
          },
          "title": {
           "x": 0.05
          },
          "xaxis": {
           "automargin": true,
           "gridcolor": "white",
           "linecolor": "white",
           "ticks": "",
           "title": {
            "standoff": 15
           },
           "zerolinecolor": "white",
           "zerolinewidth": 2
          },
          "yaxis": {
           "automargin": true,
           "gridcolor": "white",
           "linecolor": "white",
           "ticks": "",
           "title": {
            "standoff": 15
           },
           "zerolinecolor": "white",
           "zerolinewidth": 2
          }
         }
        }
       }
      }
     },
     "metadata": {},
     "output_type": "display_data"
    }
   ],
   "source": [
    "import plotly.graph_objects as go\n",
    "\n",
    "fig = go.Figure(data=[go.Candlestick(\n",
    "    x=df.index,\n",
    "    open  =df['1. open'],\n",
    "    high=df['2. high'],\n",
    "    low=df[\"3. low\"],\n",
    "    close=df['4. close'],\n",
    "    increasing_line_color='green',\n",
    "    decreasing_line_color='red'\n",
    ")])\n",
    "\n",
    "\n",
    "fig.show()\n"
   ]
  },
  {
   "cell_type": "code",
   "execution_count": 128,
   "id": "1af410a3",
   "metadata": {},
   "outputs": [],
   "source": [
    "import requests\n",
    "import pandas as pd\n",
    "import plotly.graph_objects as go\n",
    "\n",
    "\n",
    "class StockApi:\n",
    "\n",
    "    def __init__(self , api_key):\n",
    "        self.api_key = os.getenv(\"API_KEY\")\n",
    "        self.url = \"https://alpha-vantage.p.rapidapi.com/query\"\n",
    "        self.headers = {\"x-rapidapi-key\": api_key,\n",
    "\t    \"x-rapidapi-host\": \"alpha-vantage.p.rapidapi.com\"}\n",
    "\n",
    "    def search_symbol(self , keywords):\n",
    "        querystring = {\"datatype\":\"json\",\n",
    "                       \"keywords\":keywords,\n",
    "                       \"function\":\"SYMBOL_SEARCH\"}\n",
    "        response = requests.get(self.url, \n",
    "                                headers=self.headers, \n",
    "                                params=querystring)\n",
    "        response.raise_for_status()\n",
    "        data = response.json()\n",
    "        symbol_list = []\n",
    "        for i in data['bestMatches']:\n",
    "            symbol_list.append(i['1. symbol'])\n",
    "        return symbol_list\n",
    "    \n",
    "    \n",
    "\n",
    "    def time_series_daily_data(self, symbol):\n",
    "        querystring = {\"function\":\"TIME_SERIES_DAILY\",\n",
    "                       \"symbol\":symbol,\n",
    "                       \"outputsize\":\"compact\",\n",
    "                       \"datatype\":\"json\"}\n",
    "        response = requests.get(self.url, \n",
    "                                headers=self.headers, \n",
    "                                params=querystring)\n",
    "        df = response.json()\n",
    "\n",
    "        # fetch time series data and convert in dataframe\n",
    "        df =  pd.DataFrame(df['Time Series (Daily)']).T\n",
    "\n",
    "        # converting data from object to float\n",
    "        df =  df.astype(float)\n",
    "\n",
    "        # changing datatype of index\n",
    "\n",
    "        df.index  = pd.to_datetime(df.index)\n",
    "\n",
    "        # give name to index \n",
    "        df.index.name  = \"Date\"\n",
    "\n",
    "        return df\n",
    "\n",
    "\n",
    "    def plot_graph(self , df):\n",
    "        import plotly.graph_objects as go\n",
    "        fig = go.Figure(data=[go.Candlestick(\n",
    "            x=df.index,\n",
    "            open  =df['1. open'],\n",
    "            high=df['2. high'],\n",
    "            low=df[\"3. low\"],\n",
    "            close=df['4. close'],\n",
    "            increasing_line_color='green',\n",
    "            decreasing_line_color='red')])\n",
    "        fig.show()"
   ]
  },
  {
   "cell_type": "code",
   "execution_count": 129,
   "id": "eca0fbf5",
   "metadata": {},
   "outputs": [],
   "source": [
    "data2  =  StockApi(api_key)"
   ]
  },
  {
   "cell_type": "code",
   "execution_count": 130,
   "id": "affd0fa7",
   "metadata": {},
   "outputs": [
    {
     "data": {
      "text/plain": [
       "['HDFCAMC.BSE',\n",
       " 'HDFCBANK.BSE',\n",
       " 'HDFCLIFE.BSE',\n",
       " 'HDFCBSE500.BSE',\n",
       " 'HDFCGROWTH.BSE',\n",
       " 'HDFCLOWVOL.BSE',\n",
       " 'HDFCMID150.BSE',\n",
       " 'HDFCMOMENT.BSE',\n",
       " 'HDFCNEXT50.BSE',\n",
       " 'HDFCNIF100.BSE']"
      ]
     },
     "execution_count": 130,
     "metadata": {},
     "output_type": "execute_result"
    }
   ],
   "source": [
    "data2.search_symbol(\"HDFC\")"
   ]
  },
  {
   "cell_type": "code",
   "execution_count": 131,
   "id": "e5917365",
   "metadata": {},
   "outputs": [
    {
     "data": {
      "text/html": [
       "<div>\n",
       "<style scoped>\n",
       "    .dataframe tbody tr th:only-of-type {\n",
       "        vertical-align: middle;\n",
       "    }\n",
       "\n",
       "    .dataframe tbody tr th {\n",
       "        vertical-align: top;\n",
       "    }\n",
       "\n",
       "    .dataframe thead th {\n",
       "        text-align: right;\n",
       "    }\n",
       "</style>\n",
       "<table border=\"1\" class=\"dataframe\">\n",
       "  <thead>\n",
       "    <tr style=\"text-align: right;\">\n",
       "      <th></th>\n",
       "      <th>1. open</th>\n",
       "      <th>2. high</th>\n",
       "      <th>3. low</th>\n",
       "      <th>4. close</th>\n",
       "      <th>5. volume</th>\n",
       "    </tr>\n",
       "    <tr>\n",
       "      <th>Date</th>\n",
       "      <th></th>\n",
       "      <th></th>\n",
       "      <th></th>\n",
       "      <th></th>\n",
       "      <th></th>\n",
       "    </tr>\n",
       "  </thead>\n",
       "  <tbody>\n",
       "    <tr>\n",
       "      <th>2025-05-13</th>\n",
       "      <td>25.90</td>\n",
       "      <td>25.90</td>\n",
       "      <td>25.62</td>\n",
       "      <td>25.85</td>\n",
       "      <td>342.0</td>\n",
       "    </tr>\n",
       "    <tr>\n",
       "      <th>2025-05-09</th>\n",
       "      <td>25.03</td>\n",
       "      <td>25.13</td>\n",
       "      <td>24.84</td>\n",
       "      <td>25.00</td>\n",
       "      <td>2400.0</td>\n",
       "    </tr>\n",
       "    <tr>\n",
       "      <th>2025-05-08</th>\n",
       "      <td>25.43</td>\n",
       "      <td>25.47</td>\n",
       "      <td>25.43</td>\n",
       "      <td>25.47</td>\n",
       "      <td>339.0</td>\n",
       "    </tr>\n",
       "    <tr>\n",
       "      <th>2025-05-07</th>\n",
       "      <td>25.30</td>\n",
       "      <td>25.44</td>\n",
       "      <td>25.30</td>\n",
       "      <td>25.44</td>\n",
       "      <td>2191.0</td>\n",
       "    </tr>\n",
       "    <tr>\n",
       "      <th>2025-05-06</th>\n",
       "      <td>25.22</td>\n",
       "      <td>25.51</td>\n",
       "      <td>25.15</td>\n",
       "      <td>25.30</td>\n",
       "      <td>8389.0</td>\n",
       "    </tr>\n",
       "    <tr>\n",
       "      <th>...</th>\n",
       "      <td>...</td>\n",
       "      <td>...</td>\n",
       "      <td>...</td>\n",
       "      <td>...</td>\n",
       "      <td>...</td>\n",
       "    </tr>\n",
       "    <tr>\n",
       "      <th>2024-12-19</th>\n",
       "      <td>25.99</td>\n",
       "      <td>25.99</td>\n",
       "      <td>25.34</td>\n",
       "      <td>25.46</td>\n",
       "      <td>72.0</td>\n",
       "    </tr>\n",
       "    <tr>\n",
       "      <th>2024-12-18</th>\n",
       "      <td>25.95</td>\n",
       "      <td>26.00</td>\n",
       "      <td>25.56</td>\n",
       "      <td>25.61</td>\n",
       "      <td>2361.0</td>\n",
       "    </tr>\n",
       "    <tr>\n",
       "      <th>2024-12-17</th>\n",
       "      <td>26.12</td>\n",
       "      <td>26.16</td>\n",
       "      <td>25.89</td>\n",
       "      <td>26.16</td>\n",
       "      <td>21694.0</td>\n",
       "    </tr>\n",
       "    <tr>\n",
       "      <th>2024-12-16</th>\n",
       "      <td>26.22</td>\n",
       "      <td>26.52</td>\n",
       "      <td>26.02</td>\n",
       "      <td>26.24</td>\n",
       "      <td>1496.0</td>\n",
       "    </tr>\n",
       "    <tr>\n",
       "      <th>2024-12-13</th>\n",
       "      <td>26.45</td>\n",
       "      <td>26.45</td>\n",
       "      <td>25.74</td>\n",
       "      <td>26.24</td>\n",
       "      <td>634.0</td>\n",
       "    </tr>\n",
       "  </tbody>\n",
       "</table>\n",
       "<p>100 rows × 5 columns</p>\n",
       "</div>"
      ],
      "text/plain": [
       "            1. open  2. high  3. low  4. close  5. volume\n",
       "Date                                                     \n",
       "2025-05-13    25.90    25.90   25.62     25.85      342.0\n",
       "2025-05-09    25.03    25.13   24.84     25.00     2400.0\n",
       "2025-05-08    25.43    25.47   25.43     25.47      339.0\n",
       "2025-05-07    25.30    25.44   25.30     25.44     2191.0\n",
       "2025-05-06    25.22    25.51   25.15     25.30     8389.0\n",
       "...             ...      ...     ...       ...        ...\n",
       "2024-12-19    25.99    25.99   25.34     25.46       72.0\n",
       "2024-12-18    25.95    26.00   25.56     25.61     2361.0\n",
       "2024-12-17    26.12    26.16   25.89     26.16    21694.0\n",
       "2024-12-16    26.22    26.52   26.02     26.24     1496.0\n",
       "2024-12-13    26.45    26.45   25.74     26.24      634.0\n",
       "\n",
       "[100 rows x 5 columns]"
      ]
     },
     "execution_count": 131,
     "metadata": {},
     "output_type": "execute_result"
    }
   ],
   "source": [
    "data2.time_series_daily_data('HDFCNIF100.BSE')"
   ]
  },
  {
   "cell_type": "code",
   "execution_count": 132,
   "id": "8f24d960",
   "metadata": {},
   "outputs": [
    {
     "data": {
      "application/vnd.plotly.v1+json": {
       "config": {
        "plotlyServerURL": "https://plot.ly"
       },
       "data": [
        {
         "close": {
          "bdata": "MzMzMzMPiUDNzMzMzAyJQDMzMzMzW4hAAAAAAAAGiEAzMzMzM0GIQDMzMzMzMYhAAAAAAACwiEBmZmZmZgCJQDMzMzMzoYhAAAAAAABeiUDNzMzMzIyJQAAAAAAA9ohAmpmZmZlpiUBmZmZmZmqJQJqZmZmZs4lAzczMzMyEiUDNzMzMzOiIQAAAAAAAHohAZmZmZmbah0BmZmZmZpCHQGZmZmZmMIdAMzMzMzMDiEAAAAAAAFaHQGZmZmZm/odAmpmZmZlZiEDNzMzMzD6IQAAAAAAAHIhAzczMzMwciEAzMzMzMyOIQM3MzMzM2odAZmZmZmYoiEAzMzMzM2uIQAAAAAAAiIdAmpmZmZlph0BmZmZmZkiHQGZmZmZmCIdAmpmZmZmVhkAAAAAAAL6GQDMzMzMzl4ZAmpmZmZnPhkDNzMzMzMKGQAAAAAAA5oZAmpmZmZnfhkAAAAAAANKGQDMzMzMzYYZAMzMzMzO5hUAAAAAAAIKFQJqZmZmZ/4VAAAAAAAA4hkAzMzMzM2OGQGZmZmZmjIZAMzMzMzPNhkBmZmZmZraGQAAAAAAAroZAZmZmZmbAhkAAAAAAAJCGQGZmZmZmuoZAAAAAAADqhkAAAAAAANiGQM3MzMzMBodAZmZmZmYIh0DNzMzMzIKHQM3MzMzM8IdAmpmZmZlZiEAAAAAAAMiHQM3MzMzMKIhAmpmZmZnRh0CamZmZmbWHQDMzMzMzfYdAmpmZmZlph0DNzMzMzEKHQJqZmZmZT4dAAAAAAACKh0AAAAAAALiHQGZmZmZmWIhAzczMzMzgh0AzMzMzM/OHQAAAAAAAkIdAzczMzMxgh0DNzMzMzMyGQDMzMzMzOYdAzczMzMzCh0CamZmZmRmIQAAAAAAAWIhAAAAAAABGiEAAAAAAAMyIQGZmZmZmCIlAzczMzMzKiEBmZmZmZtiIQGZmZmZmoohAZmZmZmb8iEAzMzMzM12JQM3MzMzMXolAmpmZmZmniUAAAAAAAGSJQGZmZmZmBopAZmZmZmY4ikCamZmZmZGKQJqZmZmZ5YpAmpmZmZntikA=",
          "dtype": "f8"
         },
         "decreasing": {
          "line": {
           "color": "red"
          }
         },
         "high": {
          "bdata": "mpmZmZk9iUAzMzMzMx+JQDMzMzMza4hAAAAAAACUiEBmZmZmZnSIQAAAAAAA+IhAzczMzMz4iECamZmZmReJQM3MzMzMZolAAAAAAADoiUAAAAAAALSJQM3MzMzMmIlAMzMzMzOZiUAAAAAAAPCJQDMzMzMzG4pAAAAAAADCiUAAAAAAAAiJQGZmZmZmNIhAzczMzMwUiECamZmZmb+HQAAAAAAACIhAzczMzMwwiECamZmZmYeHQAAAAAAAcohAzczMzMyGiEBmZmZmZkaIQAAAAAAAdIhAmpmZmZlTiEAAAAAAADiIQJqZmZmZP4hAAAAAAACQiEAzMzMzM3mIQDMzMzMzm4dAZmZmZmaGh0AAAAAAAGiHQAAAAAAAFIdAmpmZmZnXhkCamZmZmduGQAAAAAAABIdAMzMzMzPvhkCamZmZmROHQDMzMzMz94ZAmpmZmZkPh0AAAAAAANiGQDMzMzMzcYZAzczMzMzGhUBmZmZmZu6FQDMzMzMzZ4ZAAAAAAAB4hkBmZmZmZn6GQAAAAAAA4IZAZmZmZmbehkAAAAAAAPaGQJqZmZmZv4ZAmpmZmZnHhkCamZmZmeWGQGZmZmZmCodAZmZmZmYSh0AAAAAAACCHQGZmZmZmQIdAZmZmZmbOh0CamZmZmReIQM3MzMzMbIhAzczMzMxmiEAzMzMzM92HQAAAAAAATohAzczMzMzmh0AAAAAAAMKHQM3MzMzMvIdAZmZmZmaah0AAAAAAAI6HQGZmZmZmnodAzczMzMzWh0BmZmZmZoqIQJqZmZmZh4hAzczMzMz+h0BmZmZmZkSIQM3MzMzMtodAMzMzMzOnh0DNzMzMzD6HQGZmZmZmxodAmpmZmZkfiEAAAAAAAHSIQAAAAAAAfohAAAAAAADwiECamZmZmU2JQDMzMzMzE4lAAAAAAAD0iECamZmZmfeIQAAAAAAAQIlAAAAAAACWiUCamZmZmbeJQGZmZmZmzIlAMzMzMzO/iUAzMzMzMyOKQDMzMzMzL4pAZmZmZmaWikCamZmZmfeKQJqZmZmZEYtAAAAAAAD4ikA=",
          "dtype": "f8"
         },
         "increasing": {
          "line": {
           "color": "green"
          }
         },
         "low": {
          "bdata": "AAAAAADqiEDNzMzMzMiIQAAAAAAAmodAAAAAAADoh0AAAAAAANKHQDMzMzMzGYhAMzMzMzN9iEAAAAAAAKqIQJqZmZmZg4hAAAAAAABGiUBmZmZmZuKIQM3MzMzMmIhAAAAAAABYiUCamZmZmU+JQGZmZmZmbolAzczMzMwMiUAAAAAAAPqHQDMzMzMzw4dAMzMzMzOth0AzMzMzM1GHQAAAAAAAJodAAAAAAACoh0CamZmZmdeGQAAAAAAA6IdAAAAAAAAQiEBmZmZmZuKHQGZmZmZm2IdAAAAAAAAAiEAAAAAAAMaHQGZmZmZmzodAMzMzMzMNiEBmZmZmZpiHQJqZmZmZWYdAmpmZmZlBh0AAAAAAABqHQAAAAAAAmIZAzczMzMyQhkDNzMzMzKKGQJqZmZmZeYZAAAAAAACUhkBmZmZmZriGQJqZmZmZv4ZAzczMzMy4hkBmZmZmZm6GQDMzMzMzoYVAMzMzMzM9hUDNzMzMzFaFQAAAAAAA6IVAmpmZmZkvhkAzMzMzMzeGQAAAAAAAgIZAZmZmZmaYhkDNzMzMzJCGQJqZmZmZa4ZAMzMzMzM7hkAzMzMzM2GGQGZmZmZmsIZAAAAAAABqhkAzMzMzM7eGQM3MzMzM7IZAZmZmZmbghkAAAAAAAHCHQDMzMzMz5YdAAAAAAADwh0CamZmZmYuHQM3MzMzMuodAmpmZmZmVh0BmZmZmZm6HQDMzMzMzTYdAAAAAAAAAh0DNzMzMzBaHQGZmZmZmOodAZmZmZmYSh0AAAAAAAKKHQGZmZmZm6IdAmpmZmZm7h0BmZmZmZsCHQM3MzMzMcodAzczMzMzUhkAAAAAAAJSGQAAAAAAAMIdAMzMzMzO3hkDNzMzMzMCHQM3MzMzMOIhAZmZmZmYqiEAAAAAAAMKIQGZmZmZmkohAzczMzMysiEAAAAAAAJiIQJqZmZmZiYhAAAAAAADqiEAAAAAAAECJQJqZmZmZSYlAMzMzMzNjiUAAAAAAAFCJQM3MzMzMoIlAmpmZmZklikAzMzMzM3mKQGZmZmZmzopAAAAAAAAYikA=",
          "dtype": "f8"
         },
         "open": {
          "bdata": "mpmZmZkDiUDNzMzMzP6IQAAAAAAAmodAAAAAAABQiEAAAAAAANKHQJqZmZmZwYhAmpmZmZmHiEBmZmZmZsCIQM3MzMzMZolAAAAAAACgiUBmZmZmZuKIQM3MzMzMbIlAZmZmZmZqiUDNzMzMzM6JQJqZmZmZqYlAAAAAAAAYiUDNzMzMzBiIQAAAAAAA4IdAZmZmZmYAiECamZmZmb+HQGZmZmZmBohAAAAAAACoh0BmZmZmZuKGQJqZmZmZWYhAAAAAAAAQiEAAAAAAACCIQJqZmZmZ/4dAmpmZmZkViECamZmZmdWHQGZmZmZmEohAMzMzMzODiEAAAAAAALSHQDMzMzMzaYdAmpmZmZlvh0AzMzMzMx+HQAAAAAAAuIZAAAAAAADIhkAzMzMzM7eGQJqZmZmZz4ZAMzMzMzOnhkCamZmZmeeGQJqZmZmZ54ZAmpmZmZkPh0DNzMzMzHaGQDMzMzMzq4VAAAAAAACihUBmZmZmZu6FQDMzMzMzZ4ZAAAAAAAB4hkAzMzMzM0WGQJqZmZmZyYZAZmZmZma+hkBmZmZmZpaGQJqZmZmZv4ZAzczMzMyOhkCamZmZmcuGQAAAAAAA+IZAmpmZmZnnhkAzMzMzMxGHQGZmZmZmJIdAZmZmZmbOh0AzMzMzMw2IQGZmZmZmZohAZmZmZmbyh0AzMzMzM92HQAAAAAAA6IdAMzMzMzO7h0AAAAAAAISHQJqZmZmZoYdAAAAAAAAgh0CamZmZmVmHQJqZmZmZf4dAzczMzMzWh0CamZmZmYeIQGZmZmZm6IdAMzMzMzP3h0AzMzMzM82HQJqZmZmZjYdAzczMzMzUhkCamZmZmTeHQM3MzMzMwodAmpmZmZkfiEAAAAAAAGiIQGZmZmZmUIhAAAAAAADwiEAzMzMzMw+JQAAAAAAA2IhAzczMzMzmiEAAAAAAAKaIQJqZmZmZFYlAAAAAAACKiUAAAAAAAGiJQAAAAAAAyIlAzczMzMySiUBmZmZmZg6KQGZmZmZmsIlAmpmZmZmRikAAAAAAAN6KQAAAAAAA2IpAmpmZmZmtikA=",
          "dtype": "f8"
         },
         "type": "candlestick",
         "x": [
          "2025-05-13T00:00:00.000000000",
          "2025-05-12T00:00:00.000000000",
          "2025-05-09T00:00:00.000000000",
          "2025-05-08T00:00:00.000000000",
          "2025-05-07T00:00:00.000000000",
          "2025-05-06T00:00:00.000000000",
          "2025-05-05T00:00:00.000000000",
          "2025-05-02T00:00:00.000000000",
          "2025-04-30T00:00:00.000000000",
          "2025-04-29T00:00:00.000000000",
          "2025-04-28T00:00:00.000000000",
          "2025-04-25T00:00:00.000000000",
          "2025-04-24T00:00:00.000000000",
          "2025-04-23T00:00:00.000000000",
          "2025-04-22T00:00:00.000000000",
          "2025-04-21T00:00:00.000000000",
          "2025-04-17T00:00:00.000000000",
          "2025-04-16T00:00:00.000000000",
          "2025-04-15T00:00:00.000000000",
          "2025-04-11T00:00:00.000000000",
          "2025-04-09T00:00:00.000000000",
          "2025-04-08T00:00:00.000000000",
          "2025-04-07T00:00:00.000000000",
          "2025-04-04T00:00:00.000000000",
          "2025-04-03T00:00:00.000000000",
          "2025-04-02T00:00:00.000000000",
          "2025-04-01T00:00:00.000000000",
          "2025-03-28T00:00:00.000000000",
          "2025-03-27T00:00:00.000000000",
          "2025-03-26T00:00:00.000000000",
          "2025-03-25T00:00:00.000000000",
          "2025-03-24T00:00:00.000000000",
          "2025-03-21T00:00:00.000000000",
          "2025-03-20T00:00:00.000000000",
          "2025-03-19T00:00:00.000000000",
          "2025-03-18T00:00:00.000000000",
          "2025-03-17T00:00:00.000000000",
          "2025-03-13T00:00:00.000000000",
          "2025-03-12T00:00:00.000000000",
          "2025-03-11T00:00:00.000000000",
          "2025-03-10T00:00:00.000000000",
          "2025-03-07T00:00:00.000000000",
          "2025-03-06T00:00:00.000000000",
          "2025-03-05T00:00:00.000000000",
          "2025-03-04T00:00:00.000000000",
          "2025-03-03T00:00:00.000000000",
          "2025-02-28T00:00:00.000000000",
          "2025-02-27T00:00:00.000000000",
          "2025-02-25T00:00:00.000000000",
          "2025-02-24T00:00:00.000000000",
          "2025-02-21T00:00:00.000000000",
          "2025-02-20T00:00:00.000000000",
          "2025-02-19T00:00:00.000000000",
          "2025-02-18T00:00:00.000000000",
          "2025-02-17T00:00:00.000000000",
          "2025-02-14T00:00:00.000000000",
          "2025-02-13T00:00:00.000000000",
          "2025-02-12T00:00:00.000000000",
          "2025-02-11T00:00:00.000000000",
          "2025-02-10T00:00:00.000000000",
          "2025-02-07T00:00:00.000000000",
          "2025-02-06T00:00:00.000000000",
          "2025-02-05T00:00:00.000000000",
          "2025-02-04T00:00:00.000000000",
          "2025-02-03T00:00:00.000000000",
          "2025-01-31T00:00:00.000000000",
          "2025-01-30T00:00:00.000000000",
          "2025-01-29T00:00:00.000000000",
          "2025-01-28T00:00:00.000000000",
          "2025-01-27T00:00:00.000000000",
          "2025-01-24T00:00:00.000000000",
          "2025-01-23T00:00:00.000000000",
          "2025-01-22T00:00:00.000000000",
          "2025-01-21T00:00:00.000000000",
          "2025-01-20T00:00:00.000000000",
          "2025-01-17T00:00:00.000000000",
          "2025-01-16T00:00:00.000000000",
          "2025-01-15T00:00:00.000000000",
          "2025-01-14T00:00:00.000000000",
          "2025-01-13T00:00:00.000000000",
          "2025-01-10T00:00:00.000000000",
          "2025-01-09T00:00:00.000000000",
          "2025-01-08T00:00:00.000000000",
          "2025-01-07T00:00:00.000000000",
          "2025-01-06T00:00:00.000000000",
          "2025-01-03T00:00:00.000000000",
          "2025-01-02T00:00:00.000000000",
          "2025-01-01T00:00:00.000000000",
          "2024-12-31T00:00:00.000000000",
          "2024-12-30T00:00:00.000000000",
          "2024-12-27T00:00:00.000000000",
          "2024-12-26T00:00:00.000000000",
          "2024-12-24T00:00:00.000000000",
          "2024-12-23T00:00:00.000000000",
          "2024-12-20T00:00:00.000000000",
          "2024-12-19T00:00:00.000000000",
          "2024-12-18T00:00:00.000000000",
          "2024-12-17T00:00:00.000000000",
          "2024-12-16T00:00:00.000000000",
          "2024-12-13T00:00:00.000000000"
         ]
        }
       ],
       "layout": {
        "template": {
         "data": {
          "bar": [
           {
            "error_x": {
             "color": "#2a3f5f"
            },
            "error_y": {
             "color": "#2a3f5f"
            },
            "marker": {
             "line": {
              "color": "#E5ECF6",
              "width": 0.5
             },
             "pattern": {
              "fillmode": "overlay",
              "size": 10,
              "solidity": 0.2
             }
            },
            "type": "bar"
           }
          ],
          "barpolar": [
           {
            "marker": {
             "line": {
              "color": "#E5ECF6",
              "width": 0.5
             },
             "pattern": {
              "fillmode": "overlay",
              "size": 10,
              "solidity": 0.2
             }
            },
            "type": "barpolar"
           }
          ],
          "carpet": [
           {
            "aaxis": {
             "endlinecolor": "#2a3f5f",
             "gridcolor": "white",
             "linecolor": "white",
             "minorgridcolor": "white",
             "startlinecolor": "#2a3f5f"
            },
            "baxis": {
             "endlinecolor": "#2a3f5f",
             "gridcolor": "white",
             "linecolor": "white",
             "minorgridcolor": "white",
             "startlinecolor": "#2a3f5f"
            },
            "type": "carpet"
           }
          ],
          "choropleth": [
           {
            "colorbar": {
             "outlinewidth": 0,
             "ticks": ""
            },
            "type": "choropleth"
           }
          ],
          "contour": [
           {
            "colorbar": {
             "outlinewidth": 0,
             "ticks": ""
            },
            "colorscale": [
             [
              0,
              "#0d0887"
             ],
             [
              0.1111111111111111,
              "#46039f"
             ],
             [
              0.2222222222222222,
              "#7201a8"
             ],
             [
              0.3333333333333333,
              "#9c179e"
             ],
             [
              0.4444444444444444,
              "#bd3786"
             ],
             [
              0.5555555555555556,
              "#d8576b"
             ],
             [
              0.6666666666666666,
              "#ed7953"
             ],
             [
              0.7777777777777778,
              "#fb9f3a"
             ],
             [
              0.8888888888888888,
              "#fdca26"
             ],
             [
              1,
              "#f0f921"
             ]
            ],
            "type": "contour"
           }
          ],
          "contourcarpet": [
           {
            "colorbar": {
             "outlinewidth": 0,
             "ticks": ""
            },
            "type": "contourcarpet"
           }
          ],
          "heatmap": [
           {
            "colorbar": {
             "outlinewidth": 0,
             "ticks": ""
            },
            "colorscale": [
             [
              0,
              "#0d0887"
             ],
             [
              0.1111111111111111,
              "#46039f"
             ],
             [
              0.2222222222222222,
              "#7201a8"
             ],
             [
              0.3333333333333333,
              "#9c179e"
             ],
             [
              0.4444444444444444,
              "#bd3786"
             ],
             [
              0.5555555555555556,
              "#d8576b"
             ],
             [
              0.6666666666666666,
              "#ed7953"
             ],
             [
              0.7777777777777778,
              "#fb9f3a"
             ],
             [
              0.8888888888888888,
              "#fdca26"
             ],
             [
              1,
              "#f0f921"
             ]
            ],
            "type": "heatmap"
           }
          ],
          "histogram": [
           {
            "marker": {
             "pattern": {
              "fillmode": "overlay",
              "size": 10,
              "solidity": 0.2
             }
            },
            "type": "histogram"
           }
          ],
          "histogram2d": [
           {
            "colorbar": {
             "outlinewidth": 0,
             "ticks": ""
            },
            "colorscale": [
             [
              0,
              "#0d0887"
             ],
             [
              0.1111111111111111,
              "#46039f"
             ],
             [
              0.2222222222222222,
              "#7201a8"
             ],
             [
              0.3333333333333333,
              "#9c179e"
             ],
             [
              0.4444444444444444,
              "#bd3786"
             ],
             [
              0.5555555555555556,
              "#d8576b"
             ],
             [
              0.6666666666666666,
              "#ed7953"
             ],
             [
              0.7777777777777778,
              "#fb9f3a"
             ],
             [
              0.8888888888888888,
              "#fdca26"
             ],
             [
              1,
              "#f0f921"
             ]
            ],
            "type": "histogram2d"
           }
          ],
          "histogram2dcontour": [
           {
            "colorbar": {
             "outlinewidth": 0,
             "ticks": ""
            },
            "colorscale": [
             [
              0,
              "#0d0887"
             ],
             [
              0.1111111111111111,
              "#46039f"
             ],
             [
              0.2222222222222222,
              "#7201a8"
             ],
             [
              0.3333333333333333,
              "#9c179e"
             ],
             [
              0.4444444444444444,
              "#bd3786"
             ],
             [
              0.5555555555555556,
              "#d8576b"
             ],
             [
              0.6666666666666666,
              "#ed7953"
             ],
             [
              0.7777777777777778,
              "#fb9f3a"
             ],
             [
              0.8888888888888888,
              "#fdca26"
             ],
             [
              1,
              "#f0f921"
             ]
            ],
            "type": "histogram2dcontour"
           }
          ],
          "mesh3d": [
           {
            "colorbar": {
             "outlinewidth": 0,
             "ticks": ""
            },
            "type": "mesh3d"
           }
          ],
          "parcoords": [
           {
            "line": {
             "colorbar": {
              "outlinewidth": 0,
              "ticks": ""
             }
            },
            "type": "parcoords"
           }
          ],
          "pie": [
           {
            "automargin": true,
            "type": "pie"
           }
          ],
          "scatter": [
           {
            "fillpattern": {
             "fillmode": "overlay",
             "size": 10,
             "solidity": 0.2
            },
            "type": "scatter"
           }
          ],
          "scatter3d": [
           {
            "line": {
             "colorbar": {
              "outlinewidth": 0,
              "ticks": ""
             }
            },
            "marker": {
             "colorbar": {
              "outlinewidth": 0,
              "ticks": ""
             }
            },
            "type": "scatter3d"
           }
          ],
          "scattercarpet": [
           {
            "marker": {
             "colorbar": {
              "outlinewidth": 0,
              "ticks": ""
             }
            },
            "type": "scattercarpet"
           }
          ],
          "scattergeo": [
           {
            "marker": {
             "colorbar": {
              "outlinewidth": 0,
              "ticks": ""
             }
            },
            "type": "scattergeo"
           }
          ],
          "scattergl": [
           {
            "marker": {
             "colorbar": {
              "outlinewidth": 0,
              "ticks": ""
             }
            },
            "type": "scattergl"
           }
          ],
          "scattermap": [
           {
            "marker": {
             "colorbar": {
              "outlinewidth": 0,
              "ticks": ""
             }
            },
            "type": "scattermap"
           }
          ],
          "scattermapbox": [
           {
            "marker": {
             "colorbar": {
              "outlinewidth": 0,
              "ticks": ""
             }
            },
            "type": "scattermapbox"
           }
          ],
          "scatterpolar": [
           {
            "marker": {
             "colorbar": {
              "outlinewidth": 0,
              "ticks": ""
             }
            },
            "type": "scatterpolar"
           }
          ],
          "scatterpolargl": [
           {
            "marker": {
             "colorbar": {
              "outlinewidth": 0,
              "ticks": ""
             }
            },
            "type": "scatterpolargl"
           }
          ],
          "scatterternary": [
           {
            "marker": {
             "colorbar": {
              "outlinewidth": 0,
              "ticks": ""
             }
            },
            "type": "scatterternary"
           }
          ],
          "surface": [
           {
            "colorbar": {
             "outlinewidth": 0,
             "ticks": ""
            },
            "colorscale": [
             [
              0,
              "#0d0887"
             ],
             [
              0.1111111111111111,
              "#46039f"
             ],
             [
              0.2222222222222222,
              "#7201a8"
             ],
             [
              0.3333333333333333,
              "#9c179e"
             ],
             [
              0.4444444444444444,
              "#bd3786"
             ],
             [
              0.5555555555555556,
              "#d8576b"
             ],
             [
              0.6666666666666666,
              "#ed7953"
             ],
             [
              0.7777777777777778,
              "#fb9f3a"
             ],
             [
              0.8888888888888888,
              "#fdca26"
             ],
             [
              1,
              "#f0f921"
             ]
            ],
            "type": "surface"
           }
          ],
          "table": [
           {
            "cells": {
             "fill": {
              "color": "#EBF0F8"
             },
             "line": {
              "color": "white"
             }
            },
            "header": {
             "fill": {
              "color": "#C8D4E3"
             },
             "line": {
              "color": "white"
             }
            },
            "type": "table"
           }
          ]
         },
         "layout": {
          "annotationdefaults": {
           "arrowcolor": "#2a3f5f",
           "arrowhead": 0,
           "arrowwidth": 1
          },
          "autotypenumbers": "strict",
          "coloraxis": {
           "colorbar": {
            "outlinewidth": 0,
            "ticks": ""
           }
          },
          "colorscale": {
           "diverging": [
            [
             0,
             "#8e0152"
            ],
            [
             0.1,
             "#c51b7d"
            ],
            [
             0.2,
             "#de77ae"
            ],
            [
             0.3,
             "#f1b6da"
            ],
            [
             0.4,
             "#fde0ef"
            ],
            [
             0.5,
             "#f7f7f7"
            ],
            [
             0.6,
             "#e6f5d0"
            ],
            [
             0.7,
             "#b8e186"
            ],
            [
             0.8,
             "#7fbc41"
            ],
            [
             0.9,
             "#4d9221"
            ],
            [
             1,
             "#276419"
            ]
           ],
           "sequential": [
            [
             0,
             "#0d0887"
            ],
            [
             0.1111111111111111,
             "#46039f"
            ],
            [
             0.2222222222222222,
             "#7201a8"
            ],
            [
             0.3333333333333333,
             "#9c179e"
            ],
            [
             0.4444444444444444,
             "#bd3786"
            ],
            [
             0.5555555555555556,
             "#d8576b"
            ],
            [
             0.6666666666666666,
             "#ed7953"
            ],
            [
             0.7777777777777778,
             "#fb9f3a"
            ],
            [
             0.8888888888888888,
             "#fdca26"
            ],
            [
             1,
             "#f0f921"
            ]
           ],
           "sequentialminus": [
            [
             0,
             "#0d0887"
            ],
            [
             0.1111111111111111,
             "#46039f"
            ],
            [
             0.2222222222222222,
             "#7201a8"
            ],
            [
             0.3333333333333333,
             "#9c179e"
            ],
            [
             0.4444444444444444,
             "#bd3786"
            ],
            [
             0.5555555555555556,
             "#d8576b"
            ],
            [
             0.6666666666666666,
             "#ed7953"
            ],
            [
             0.7777777777777778,
             "#fb9f3a"
            ],
            [
             0.8888888888888888,
             "#fdca26"
            ],
            [
             1,
             "#f0f921"
            ]
           ]
          },
          "colorway": [
           "#636efa",
           "#EF553B",
           "#00cc96",
           "#ab63fa",
           "#FFA15A",
           "#19d3f3",
           "#FF6692",
           "#B6E880",
           "#FF97FF",
           "#FECB52"
          ],
          "font": {
           "color": "#2a3f5f"
          },
          "geo": {
           "bgcolor": "white",
           "lakecolor": "white",
           "landcolor": "#E5ECF6",
           "showlakes": true,
           "showland": true,
           "subunitcolor": "white"
          },
          "hoverlabel": {
           "align": "left"
          },
          "hovermode": "closest",
          "mapbox": {
           "style": "light"
          },
          "paper_bgcolor": "white",
          "plot_bgcolor": "#E5ECF6",
          "polar": {
           "angularaxis": {
            "gridcolor": "white",
            "linecolor": "white",
            "ticks": ""
           },
           "bgcolor": "#E5ECF6",
           "radialaxis": {
            "gridcolor": "white",
            "linecolor": "white",
            "ticks": ""
           }
          },
          "scene": {
           "xaxis": {
            "backgroundcolor": "#E5ECF6",
            "gridcolor": "white",
            "gridwidth": 2,
            "linecolor": "white",
            "showbackground": true,
            "ticks": "",
            "zerolinecolor": "white"
           },
           "yaxis": {
            "backgroundcolor": "#E5ECF6",
            "gridcolor": "white",
            "gridwidth": 2,
            "linecolor": "white",
            "showbackground": true,
            "ticks": "",
            "zerolinecolor": "white"
           },
           "zaxis": {
            "backgroundcolor": "#E5ECF6",
            "gridcolor": "white",
            "gridwidth": 2,
            "linecolor": "white",
            "showbackground": true,
            "ticks": "",
            "zerolinecolor": "white"
           }
          },
          "shapedefaults": {
           "line": {
            "color": "#2a3f5f"
           }
          },
          "ternary": {
           "aaxis": {
            "gridcolor": "white",
            "linecolor": "white",
            "ticks": ""
           },
           "baxis": {
            "gridcolor": "white",
            "linecolor": "white",
            "ticks": ""
           },
           "bgcolor": "#E5ECF6",
           "caxis": {
            "gridcolor": "white",
            "linecolor": "white",
            "ticks": ""
           }
          },
          "title": {
           "x": 0.05
          },
          "xaxis": {
           "automargin": true,
           "gridcolor": "white",
           "linecolor": "white",
           "ticks": "",
           "title": {
            "standoff": 15
           },
           "zerolinecolor": "white",
           "zerolinewidth": 2
          },
          "yaxis": {
           "automargin": true,
           "gridcolor": "white",
           "linecolor": "white",
           "ticks": "",
           "title": {
            "standoff": 15
           },
           "zerolinecolor": "white",
           "zerolinewidth": 2
          }
         }
        }
       }
      }
     },
     "metadata": {},
     "output_type": "display_data"
    }
   ],
   "source": [
    "data2.plot_graph(df)"
   ]
  },
  {
   "cell_type": "code",
   "execution_count": null,
   "id": "04e9088b",
   "metadata": {},
   "outputs": [],
   "source": []
  },
  {
   "cell_type": "code",
   "execution_count": null,
   "id": "72f8bb09",
   "metadata": {},
   "outputs": [],
   "source": []
  },
  {
   "cell_type": "code",
   "execution_count": null,
   "id": "a4c05456",
   "metadata": {},
   "outputs": [],
   "source": []
  },
  {
   "cell_type": "code",
   "execution_count": null,
   "id": "d85770a1",
   "metadata": {},
   "outputs": [],
   "source": []
  },
  {
   "cell_type": "code",
   "execution_count": null,
   "id": "ec9d5214",
   "metadata": {},
   "outputs": [],
   "source": []
  },
  {
   "cell_type": "code",
   "execution_count": null,
   "id": "b3529b64",
   "metadata": {},
   "outputs": [],
   "source": []
  },
  {
   "cell_type": "code",
   "execution_count": null,
   "id": "32543200",
   "metadata": {},
   "outputs": [],
   "source": []
  },
  {
   "cell_type": "code",
   "execution_count": null,
   "id": "1d75c37c",
   "metadata": {},
   "outputs": [],
   "source": []
  },
  {
   "cell_type": "code",
   "execution_count": null,
   "id": "5c444b14",
   "metadata": {},
   "outputs": [],
   "source": []
  },
  {
   "cell_type": "code",
   "execution_count": null,
   "id": "309e0b10",
   "metadata": {},
   "outputs": [],
   "source": []
  },
  {
   "cell_type": "code",
   "execution_count": null,
   "id": "1bc279dc",
   "metadata": {},
   "outputs": [],
   "source": []
  },
  {
   "cell_type": "code",
   "execution_count": null,
   "id": "4db9e443",
   "metadata": {},
   "outputs": [],
   "source": []
  },
  {
   "cell_type": "code",
   "execution_count": null,
   "id": "0541a51f",
   "metadata": {},
   "outputs": [],
   "source": []
  },
  {
   "cell_type": "code",
   "execution_count": null,
   "id": "9a24a5d6",
   "metadata": {},
   "outputs": [],
   "source": []
  },
  {
   "cell_type": "code",
   "execution_count": null,
   "id": "c153b296",
   "metadata": {},
   "outputs": [],
   "source": []
  },
  {
   "cell_type": "code",
   "execution_count": null,
   "id": "cb541c46",
   "metadata": {},
   "outputs": [],
   "source": []
  },
  {
   "cell_type": "code",
   "execution_count": null,
   "id": "2e56ef90",
   "metadata": {},
   "outputs": [],
   "source": [
    "data1  = StockApi()"
   ]
  },
  {
   "cell_type": "code",
   "execution_count": null,
   "id": "9f6b1aee",
   "metadata": {},
   "outputs": [],
   "source": []
  },
  {
   "cell_type": "code",
   "execution_count": null,
   "id": "a22fcfbd",
   "metadata": {},
   "outputs": [],
   "source": []
  },
  {
   "cell_type": "code",
   "execution_count": null,
   "id": "912a3252",
   "metadata": {},
   "outputs": [],
   "source": []
  },
  {
   "cell_type": "code",
   "execution_count": null,
   "id": "8d96b3e5",
   "metadata": {},
   "outputs": [],
   "source": []
  },
  {
   "cell_type": "code",
   "execution_count": null,
   "id": "81803be0",
   "metadata": {},
   "outputs": [],
   "source": []
  },
  {
   "cell_type": "code",
   "execution_count": null,
   "id": "9fd15222",
   "metadata": {},
   "outputs": [],
   "source": []
  },
  {
   "cell_type": "code",
   "execution_count": null,
   "id": "25063c99",
   "metadata": {},
   "outputs": [],
   "source": []
  },
  {
   "cell_type": "code",
   "execution_count": null,
   "id": "a56ec367",
   "metadata": {},
   "outputs": [],
   "source": []
  },
  {
   "cell_type": "code",
   "execution_count": null,
   "id": "7dfdf111",
   "metadata": {},
   "outputs": [],
   "source": []
  },
  {
   "cell_type": "code",
   "execution_count": null,
   "id": "f833fd69",
   "metadata": {},
   "outputs": [],
   "source": []
  },
  {
   "cell_type": "code",
   "execution_count": null,
   "id": "7ceb87bb",
   "metadata": {},
   "outputs": [],
   "source": []
  },
  {
   "cell_type": "code",
   "execution_count": null,
   "id": "215d2092",
   "metadata": {},
   "outputs": [],
   "source": []
  },
  {
   "cell_type": "code",
   "execution_count": null,
   "id": "9ecf8f0a",
   "metadata": {},
   "outputs": [],
   "source": []
  },
  {
   "cell_type": "code",
   "execution_count": null,
   "id": "f99524b1",
   "metadata": {},
   "outputs": [],
   "source": []
  }
 ],
 "metadata": {
  "kernelspec": {
   "display_name": "venv",
   "language": "python",
   "name": "python3"
  },
  "language_info": {
   "codemirror_mode": {
    "name": "ipython",
    "version": 3
   },
   "file_extension": ".py",
   "mimetype": "text/x-python",
   "name": "python",
   "nbconvert_exporter": "python",
   "pygments_lexer": "ipython3",
   "version": "3.13.3"
  }
 },
 "nbformat": 4,
 "nbformat_minor": 5
}
