{
 "cells": [
  {
   "cell_type": "code",
   "execution_count": 2,
   "id": "f4613938",
   "metadata": {},
   "outputs": [],
   "source": [
    "user = {'Name' : \"seeta\",\n",
    "'age'  : 23,\n",
    "'email' : 'seeta@example.com'}"
   ]
  },
  {
   "cell_type": "code",
   "execution_count": 3,
   "id": "71aef716",
   "metadata": {},
   "outputs": [
    {
     "data": {
      "text/plain": [
       "{'Name': 'seeta', 'age': 23, 'email': 'seeta@example.com'}"
      ]
     },
     "execution_count": 3,
     "metadata": {},
     "output_type": "execute_result"
    }
   ],
   "source": [
    "user "
   ]
  },
  {
   "cell_type": "code",
   "execution_count": null,
   "id": "9797c3ac",
   "metadata": {},
   "outputs": [],
   "source": [
    "**kwargs"
   ]
  },
  {
   "cell_type": "code",
   "execution_count": 4,
   "id": "a084890a",
   "metadata": {},
   "outputs": [],
   "source": [
    "def function(**kwargs):\n",
    "    print(kwargs)\n",
    "    print(type(kwargs))"
   ]
  },
  {
   "cell_type": "code",
   "execution_count": 5,
   "id": "96e282d2",
   "metadata": {},
   "outputs": [
    {
     "name": "stdout",
     "output_type": "stream",
     "text": [
      "{'nane': 'Geeta', 'Age': 24}\n",
      "<class 'dict'>\n"
     ]
    }
   ],
   "source": [
    "function(nane = 'Geeta' , Age = 24)"
   ]
  },
  {
   "cell_type": "code",
   "execution_count": 6,
   "id": "ec9974ca",
   "metadata": {},
   "outputs": [
    {
     "name": "stdout",
     "output_type": "stream",
     "text": [
      "{'name': 'Raman Tripathi', 'age': 25, 'email': 'raman@example.com'}\n",
      "<class 'dict'>\n"
     ]
    }
   ],
   "source": [
    "function(name = 'Raman Tripathi' , age  = 25 , email = 'raman@example.com')"
   ]
  },
  {
   "cell_type": "code",
   "execution_count": 7,
   "id": "76b9d9f5",
   "metadata": {},
   "outputs": [],
   "source": [
    "def function(**kwargs):\n",
    "    print(kwargs)\n",
    "    print(type(kwargs))\n",
    "    for key , value  in kwargs.items():\n",
    "        print(f'key:{key}, value : {value}')"
   ]
  },
  {
   "cell_type": "code",
   "execution_count": 8,
   "id": "8e1e6be8",
   "metadata": {},
   "outputs": [
    {
     "name": "stdout",
     "output_type": "stream",
     "text": [
      "{'name': 'Raman Tripathi', 'age': 25, 'email': 'raman@example.com'}\n",
      "<class 'dict'>\n",
      "key:name, value : Raman Tripathi\n",
      "key:age, value : 25\n",
      "key:email, value : raman@example.com\n"
     ]
    }
   ],
   "source": [
    "function(name = 'Raman Tripathi' , age  = 25 , email = 'raman@example.com')"
   ]
  },
  {
   "cell_type": "code",
   "execution_count": 9,
   "id": "6d916d44",
   "metadata": {},
   "outputs": [],
   "source": [
    "def function(**kwargs):\n",
    "    print(kwargs)\n",
    "    print(type(kwargs))\n",
    "    for key , value  in kwargs.items():\n",
    "        print(f'{key}: {value}')"
   ]
  },
  {
   "cell_type": "code",
   "execution_count": 10,
   "id": "46d3c26b",
   "metadata": {},
   "outputs": [
    {
     "name": "stdout",
     "output_type": "stream",
     "text": [
      "{'name': 'Prajakta', 'Degree': 'Msc. Maths ', 'qualification': 'SET'}\n",
      "<class 'dict'>\n",
      "name: Prajakta\n",
      "Degree: Msc. Maths \n",
      "qualification: SET\n"
     ]
    }
   ],
   "source": [
    "function(name = 'Prajakta' , Degree = 'Msc. Maths '  , qualification = 'SET')"
   ]
  },
  {
   "cell_type": "code",
   "execution_count": 11,
   "id": "c24674f0",
   "metadata": {},
   "outputs": [],
   "source": [
    "def update_user(**kwargs):\n",
    "    user = {'Name' : None , \n",
    "            'Age' : None ,\n",
    "             'email' : None} \n",
    "    user.update(kwargs)\n",
    "    return user"
   ]
  },
  {
   "cell_type": "code",
   "execution_count": 14,
   "id": "ff68ac98",
   "metadata": {},
   "outputs": [
    {
     "data": {
      "text/plain": [
       "{'Name': None,\n",
       " 'Age': 27,\n",
       " 'email': None,\n",
       " 'name': 'Netra',\n",
       " 'Position': 'Data Analyst'}"
      ]
     },
     "execution_count": 14,
     "metadata": {},
     "output_type": "execute_result"
    }
   ],
   "source": [
    "update_user(name = 'Netra' ,Age = 27 , Position = 'Data Analyst') "
   ]
  },
  {
   "cell_type": "code",
   "execution_count": 15,
   "id": "d5c0201e",
   "metadata": {},
   "outputs": [
    {
     "data": {
      "text/plain": [
       "{'Name': 'Neeta Kumari', 'Age': None, 'email': None}"
      ]
     },
     "execution_count": 15,
     "metadata": {},
     "output_type": "execute_result"
    }
   ],
   "source": [
    "update_user(Name = \"Neeta Kumari\")"
   ]
  },
  {
   "cell_type": "code",
   "execution_count": 16,
   "id": "f7544ad3",
   "metadata": {},
   "outputs": [],
   "source": [
    "def update_user(**kwargs):\n",
    "    user = {'Name' : None , \n",
    "            'Age' : None ,\n",
    "             'email' : 'eample@gmail.com'} \n",
    "    user.update(kwargs)\n",
    "    return user"
   ]
  },
  {
   "cell_type": "code",
   "execution_count": 20,
   "id": "463548d1",
   "metadata": {},
   "outputs": [
    {
     "data": {
      "text/plain": [
       "{'Name': 'Geeta',\n",
       " 'Age': 27,\n",
       " 'email': 'geeta@gmail.com',\n",
       " 'Position': 'Data Analyst'}"
      ]
     },
     "execution_count": 20,
     "metadata": {},
     "output_type": "execute_result"
    }
   ],
   "source": [
    "update_user(Name = 'Geeta' ,Age = 27 , Position = 'Data Analyst' , email = 'geeta@gmail.com') "
   ]
  },
  {
   "cell_type": "code",
   "execution_count": 21,
   "id": "f408e0c8",
   "metadata": {},
   "outputs": [],
   "source": [
    "def update_user(**kwargs):\n",
    "    user = {'Name' : None , \n",
    "            'Age' : 34 ,\n",
    "             'email' : None} \n",
    "    user.update(kwargs)\n",
    "    return user"
   ]
  },
  {
   "cell_type": "code",
   "execution_count": 22,
   "id": "05cab8cd",
   "metadata": {},
   "outputs": [
    {
     "data": {
      "text/plain": [
       "{'Name': None, 'Age': 34, 'email': None, 'location': 'Pune'}"
      ]
     },
     "execution_count": 22,
     "metadata": {},
     "output_type": "execute_result"
    }
   ],
   "source": [
    "update_user(location = 'Pune')"
   ]
  },
  {
   "cell_type": "code",
   "execution_count": 23,
   "id": "efae1d17",
   "metadata": {},
   "outputs": [],
   "source": [
    "#  Function For craeting Bill in hotel"
   ]
  },
  {
   "cell_type": "code",
   "execution_count": 24,
   "id": "2473d58a",
   "metadata": {},
   "outputs": [
    {
     "data": {
      "text/plain": [
       "{'Pizza': 250, 'Burgur': 150, 'Sandwich': 100, 'Cofee': 40}"
      ]
     },
     "execution_count": 24,
     "metadata": {},
     "output_type": "execute_result"
    }
   ],
   "source": [
    "menu = {'Pizza' : 250 , 'Burgur' : 150  , 'Sandwich' : 100 , 'Cofee' : 40} \n",
    "menu"
   ]
  },
  {
   "cell_type": "code",
   "execution_count": 26,
   "id": "413b024d",
   "metadata": {},
   "outputs": [
    {
     "data": {
      "text/plain": [
       "150"
      ]
     },
     "execution_count": 26,
     "metadata": {},
     "output_type": "execute_result"
    }
   ],
   "source": [
    "menu.get('Pizza')\n",
    "menu.get('Burgur')"
   ]
  },
  {
   "cell_type": "code",
   "execution_count": 28,
   "id": "4c48c4e4",
   "metadata": {},
   "outputs": [
    {
     "name": "stdout",
     "output_type": "stream",
     "text": [
      "None\n"
     ]
    }
   ],
   "source": [
    "a = menu.get('Samosa')\n",
    "print(a)"
   ]
  },
  {
   "cell_type": "code",
   "execution_count": 33,
   "id": "baf8bd3f",
   "metadata": {},
   "outputs": [],
   "source": [
    "def hotel_bill(**kwargs):\n",
    "    total_bill = 0 \n",
    "    for food , quantity in kwargs.items():\n",
    "        price = menu.get(food)\n",
    "        if price is not None:\n",
    "            subtotal= price*quantity\n",
    "            print(f'bill for {food}')\n",
    "            total_bill = total_bill + subtotal\n",
    "        else:\n",
    "            print(f'sorry {food} isnot available')\n",
    "    return total_bill"
   ]
  },
  {
   "cell_type": "code",
   "execution_count": 34,
   "id": "bf39f9b1",
   "metadata": {},
   "outputs": [
    {
     "name": "stdout",
     "output_type": "stream",
     "text": [
      "bill for Pizza\n"
     ]
    },
    {
     "data": {
      "text/plain": [
       "500"
      ]
     },
     "execution_count": 34,
     "metadata": {},
     "output_type": "execute_result"
    }
   ],
   "source": [
    "hotel_bill(Pizza = 2)"
   ]
  },
  {
   "cell_type": "code",
   "execution_count": 35,
   "id": "89a71886",
   "metadata": {},
   "outputs": [
    {
     "name": "stdout",
     "output_type": "stream",
     "text": [
      "bill for Pizza\n",
      "bill for Burgur\n",
      "sorry Samosa isnot available\n"
     ]
    },
    {
     "data": {
      "text/plain": [
       "950"
      ]
     },
     "execution_count": 35,
     "metadata": {},
     "output_type": "execute_result"
    }
   ],
   "source": [
    "hotel_bill(Pizza = 2 , Burgur = 3  , Samosa = 1)"
   ]
  },
  {
   "cell_type": "code",
   "execution_count": 36,
   "id": "781cd8cb",
   "metadata": {},
   "outputs": [],
   "source": [
    "def hotel_bill(**kwargs):\n",
    "    total_bill = 0 \n",
    "    for food , quantity in kwargs.items():\n",
    "        price = menu.get(food)\n",
    "        if price is not None:\n",
    "            subtotal= price*quantity\n",
    "            print(f'bill for {food}')\n",
    "            total_bill = total_bill + subtotal\n",
    "    \n",
    "    return total_bill"
   ]
  },
  {
   "cell_type": "code",
   "execution_count": 37,
   "id": "2e52b7bd",
   "metadata": {},
   "outputs": [
    {
     "name": "stdout",
     "output_type": "stream",
     "text": [
      "bill for Pizza\n",
      "bill for Burgur\n"
     ]
    },
    {
     "data": {
      "text/plain": [
       "950"
      ]
     },
     "execution_count": 37,
     "metadata": {},
     "output_type": "execute_result"
    }
   ],
   "source": [
    "hotel_bill(Pizza = 2 , Burgur = 3  , Samosa = 1)"
   ]
  },
  {
   "cell_type": "code",
   "execution_count": 38,
   "id": "a1a2a3dc",
   "metadata": {},
   "outputs": [],
   "source": [
    "def func(a ,b):\n",
    "    c = a+ b\n",
    "    return c"
   ]
  },
  {
   "cell_type": "code",
   "execution_count": null,
   "id": "9678a513",
   "metadata": {},
   "outputs": [],
   "source": []
  },
  {
   "cell_type": "code",
   "execution_count": null,
   "id": "442cab4f",
   "metadata": {},
   "outputs": [],
   "source": []
  }
 ],
 "metadata": {
  "kernelspec": {
   "display_name": "venv",
   "language": "python",
   "name": "python3"
  },
  "language_info": {
   "codemirror_mode": {
    "name": "ipython",
    "version": 3
   },
   "file_extension": ".py",
   "mimetype": "text/x-python",
   "name": "python",
   "nbconvert_exporter": "python",
   "pygments_lexer": "ipython3",
   "version": "3.13.3"
  }
 },
 "nbformat": 4,
 "nbformat_minor": 5
}
