{
 "cells": [
  {
   "cell_type": "code",
   "execution_count": 2,
   "id": "f4613938",
   "metadata": {},
   "outputs": [],
   "source": [
    "user = {'Name' : \"seeta\",\n",
    "'age'  : 23,\n",
    "'email' : 'seeta@example.com'}"
   ]
  },
  {
   "cell_type": "code",
   "execution_count": 3,
   "id": "71aef716",
   "metadata": {},
   "outputs": [
    {
     "data": {
      "text/plain": [
       "{'Name': 'seeta', 'age': 23, 'email': 'seeta@example.com'}"
      ]
     },
     "execution_count": 3,
     "metadata": {},
     "output_type": "execute_result"
    }
   ],
   "source": [
    "user "
   ]
  },
  {
   "cell_type": "code",
   "execution_count": null,
   "id": "9797c3ac",
   "metadata": {},
   "outputs": [],
   "source": [
    "**kwargs"
   ]
  },
  {
   "cell_type": "code",
   "execution_count": 4,
   "id": "a084890a",
   "metadata": {},
   "outputs": [],
   "source": [
    "def function(**kwargs):\n",
    "    print(kwargs)\n",
    "    print(type(kwargs))"
   ]
  },
  {
   "cell_type": "code",
   "execution_count": 5,
   "id": "96e282d2",
   "metadata": {},
   "outputs": [
    {
     "name": "stdout",
     "output_type": "stream",
     "text": [
      "{'nane': 'Geeta', 'Age': 24}\n",
      "<class 'dict'>\n"
     ]
    }
   ],
   "source": [
    "function(nane = 'Geeta' , Age = 24)"
   ]
  },
  {
   "cell_type": "code",
   "execution_count": 6,
   "id": "ec9974ca",
   "metadata": {},
   "outputs": [
    {
     "name": "stdout",
     "output_type": "stream",
     "text": [
      "{'name': 'Raman Tripathi', 'age': 25, 'email': 'raman@example.com'}\n",
      "<class 'dict'>\n"
     ]
    }
   ],
   "source": [
    "function(name = 'Raman Tripathi' , age  = 25 , email = 'raman@example.com')"
   ]
  },
  {
   "cell_type": "code",
   "execution_count": 7,
   "id": "76b9d9f5",
   "metadata": {},
   "outputs": [],
   "source": [
    "def function(**kwargs):\n",
    "    print(kwargs)\n",
    "    print(type(kwargs))\n",
    "    for key , value  in kwargs.items():\n",
    "        print(f'key:{key}, value : {value}')"
   ]
  },
  {
   "cell_type": "code",
   "execution_count": 8,
   "id": "8e1e6be8",
   "metadata": {},
   "outputs": [
    {
     "name": "stdout",
     "output_type": "stream",
     "text": [
      "{'name': 'Raman Tripathi', 'age': 25, 'email': 'raman@example.com'}\n",
      "<class 'dict'>\n",
      "key:name, value : Raman Tripathi\n",
      "key:age, value : 25\n",
      "key:email, value : raman@example.com\n"
     ]
    }
   ],
   "source": [
    "function(name = 'Raman Tripathi' , age  = 25 , email = 'raman@example.com')"
   ]
  },
  {
   "cell_type": "code",
   "execution_count": 9,
   "id": "6d916d44",
   "metadata": {},
   "outputs": [],
   "source": [
    "def function(**kwargs):\n",
    "    print(kwargs)\n",
    "    print(type(kwargs))\n",
    "    for key , value  in kwargs.items():\n",
    "        print(f'{key}: {value}')"
   ]
  },
  {
   "cell_type": "code",
   "execution_count": 10,
   "id": "46d3c26b",
   "metadata": {},
   "outputs": [
    {
     "name": "stdout",
     "output_type": "stream",
     "text": [
      "{'name': 'Prajakta', 'Degree': 'Msc. Maths ', 'qualification': 'SET'}\n",
      "<class 'dict'>\n",
      "name: Prajakta\n",
      "Degree: Msc. Maths \n",
      "qualification: SET\n"
     ]
    }
   ],
   "source": [
    "function(name = 'Prajakta' , Degree = 'Msc. Maths '  , qualification = 'SET')"
   ]
  },
  {
   "cell_type": "code",
   "execution_count": 11,
   "id": "c24674f0",
   "metadata": {},
   "outputs": [],
   "source": [
    "def update_user(**kwargs):\n",
    "    user = {'Name' : None , \n",
    "            'Age' : None ,\n",
    "             'email' : None} \n",
    "    user.update(kwargs)\n",
    "    return user"
   ]
  },
  {
   "cell_type": "code",
   "execution_count": 14,
   "id": "ff68ac98",
   "metadata": {},
   "outputs": [
    {
     "data": {
      "text/plain": [
       "{'Name': None,\n",
       " 'Age': 27,\n",
       " 'email': None,\n",
       " 'name': 'Netra',\n",
       " 'Position': 'Data Analyst'}"
      ]
     },
     "execution_count": 14,
     "metadata": {},
     "output_type": "execute_result"
    }
   ],
   "source": [
    "update_user(name = 'Netra' ,Age = 27 , Position = 'Data Analyst') "
   ]
  },
  {
   "cell_type": "code",
   "execution_count": 15,
   "id": "d5c0201e",
   "metadata": {},
   "outputs": [
    {
     "data": {
      "text/plain": [
       "{'Name': 'Neeta Kumari', 'Age': None, 'email': None}"
      ]
     },
     "execution_count": 15,
     "metadata": {},
     "output_type": "execute_result"
    }
   ],
   "source": [
    "update_user(Name = \"Neeta Kumari\")"
   ]
  },
  {
   "cell_type": "code",
   "execution_count": 16,
   "id": "f7544ad3",
   "metadata": {},
   "outputs": [],
   "source": [
    "def update_user(**kwargs):\n",
    "    user = {'Name' : None , \n",
    "            'Age' : None ,\n",
    "             'email' : 'eample@gmail.com'} \n",
    "    user.update(kwargs)\n",
    "    return user"
   ]
  },
  {
   "cell_type": "code",
   "execution_count": 20,
   "id": "463548d1",
   "metadata": {},
   "outputs": [
    {
     "data": {
      "text/plain": [
       "{'Name': 'Geeta',\n",
       " 'Age': 27,\n",
       " 'email': 'geeta@gmail.com',\n",
       " 'Position': 'Data Analyst'}"
      ]
     },
     "execution_count": 20,
     "metadata": {},
     "output_type": "execute_result"
    }
   ],
   "source": [
    "update_user(Name = 'Geeta' ,Age = 27 , Position = 'Data Analyst' , email = 'geeta@gmail.com') "
   ]
  },
  {
   "cell_type": "code",
   "execution_count": 21,
   "id": "f408e0c8",
   "metadata": {},
   "outputs": [],
   "source": [
    "def update_user(**kwargs):\n",
    "    user = {'Name' : None , \n",
    "            'Age' : 34 ,\n",
    "             'email' : None} \n",
    "    user.update(kwargs)\n",
    "    return user"
   ]
  },
  {
   "cell_type": "code",
   "execution_count": 22,
   "id": "05cab8cd",
   "metadata": {},
   "outputs": [
    {
     "data": {
      "text/plain": [
       "{'Name': None, 'Age': 34, 'email': None, 'location': 'Pune'}"
      ]
     },
     "execution_count": 22,
     "metadata": {},
     "output_type": "execute_result"
    }
   ],
   "source": [
    "update_user(location = 'Pune')"
   ]
  },
  {
   "cell_type": "code",
   "execution_count": 23,
   "id": "efae1d17",
   "metadata": {},
   "outputs": [],
   "source": [
    "#  Function For craeting Bill in hotel"
   ]
  },
  {
   "cell_type": "code",
   "execution_count": 24,
   "id": "2473d58a",
   "metadata": {},
   "outputs": [
    {
     "data": {
      "text/plain": [
       "{'Pizza': 250, 'Burgur': 150, 'Sandwich': 100, 'Cofee': 40}"
      ]
     },
     "execution_count": 24,
     "metadata": {},
     "output_type": "execute_result"
    }
   ],
   "source": [
    "menu = {'Pizza' : 250 , 'Burgur' : 150  , 'Sandwich' : 100 , 'Cofee' : 40} \n",
    "menu"
   ]
  },
  {
   "cell_type": "code",
   "execution_count": 26,
   "id": "413b024d",
   "metadata": {},
   "outputs": [
    {
     "data": {
      "text/plain": [
       "150"
      ]
     },
     "execution_count": 26,
     "metadata": {},
     "output_type": "execute_result"
    }
   ],
   "source": [
    "menu.get('Pizza')\n",
    "menu.get('Burgur')"
   ]
  },
  {
   "cell_type": "code",
   "execution_count": 28,
   "id": "4c48c4e4",
   "metadata": {},
   "outputs": [
    {
     "name": "stdout",
     "output_type": "stream",
     "text": [
      "None\n"
     ]
    }
   ],
   "source": [
    "a = menu.get('Samosa')\n",
    "print(a)"
   ]
  },
  {
   "cell_type": "code",
   "execution_count": 33,
   "id": "baf8bd3f",
   "metadata": {},
   "outputs": [],
   "source": [
    "def hotel_bill(**kwargs):\n",
    "    total_bill = 0 \n",
    "    for food , quantity in kwargs.items():\n",
    "        price = menu.get(food)\n",
    "        if price is not None:\n",
    "            subtotal= price*quantity\n",
    "            print(f'bill for {food}')\n",
    "            total_bill = total_bill + subtotal\n",
    "        else:\n",
    "            print(f'sorry {food} isnot available')\n",
    "    return total_bill"
   ]
  },
  {
   "cell_type": "code",
   "execution_count": 34,
   "id": "bf39f9b1",
   "metadata": {},
   "outputs": [
    {
     "name": "stdout",
     "output_type": "stream",
     "text": [
      "bill for Pizza\n"
     ]
    },
    {
     "data": {
      "text/plain": [
       "500"
      ]
     },
     "execution_count": 34,
     "metadata": {},
     "output_type": "execute_result"
    }
   ],
   "source": [
    "hotel_bill(Pizza = 2)"
   ]
  },
  {
   "cell_type": "code",
   "execution_count": 35,
   "id": "89a71886",
   "metadata": {},
   "outputs": [
    {
     "name": "stdout",
     "output_type": "stream",
     "text": [
      "bill for Pizza\n",
      "bill for Burgur\n",
      "sorry Samosa isnot available\n"
     ]
    },
    {
     "data": {
      "text/plain": [
       "950"
      ]
     },
     "execution_count": 35,
     "metadata": {},
     "output_type": "execute_result"
    }
   ],
   "source": [
    "hotel_bill(Pizza = 2 , Burgur = 3  , Samosa = 1)"
   ]
  },
  {
   "cell_type": "code",
   "execution_count": 36,
   "id": "781cd8cb",
   "metadata": {},
   "outputs": [],
   "source": [
    "def hotel_bill(**kwargs):\n",
    "    total_bill = 0 \n",
    "    for food , quantity in kwargs.items():\n",
    "        price = menu.get(food)\n",
    "        if price is not None:\n",
    "            subtotal= price*quantity\n",
    "            print(f'bill for {food}')\n",
    "            total_bill = total_bill + subtotal\n",
    "    \n",
    "    return total_bill"
   ]
  },
  {
   "cell_type": "code",
   "execution_count": 37,
   "id": "2e52b7bd",
   "metadata": {},
   "outputs": [
    {
     "name": "stdout",
     "output_type": "stream",
     "text": [
      "bill for Pizza\n",
      "bill for Burgur\n"
     ]
    },
    {
     "data": {
      "text/plain": [
       "950"
      ]
     },
     "execution_count": 37,
     "metadata": {},
     "output_type": "execute_result"
    }
   ],
   "source": [
    "hotel_bill(Pizza = 2 , Burgur = 3  , Samosa = 1)"
   ]
  },
  {
   "cell_type": "code",
   "execution_count": 38,
   "id": "a1a2a3dc",
   "metadata": {},
   "outputs": [],
   "source": [
    "def func(a ,b):\n",
    "    c = a+ b\n",
    "    return c"
   ]
  },
  {
   "cell_type": "code",
   "execution_count": null,
   "id": "9678a513",
   "metadata": {},
   "outputs": [],
   "source": []
  },
  {
   "cell_type": "code",
   "execution_count": null,
   "id": "442cab4f",
   "metadata": {},
   "outputs": [],
   "source": []
  },
  {
   "cell_type": "markdown",
   "id": "07074d3e",
   "metadata": {},
   "source": [
    "## Decorators"
   ]
  },
  {
   "cell_type": "markdown",
   "id": "0950adbd",
   "metadata": {},
   "source": []
  },
  {
   "cell_type": "code",
   "execution_count": 43,
   "id": "034627e0",
   "metadata": {},
   "outputs": [],
   "source": [
    "def welcome(func):\n",
    "    def wrapper(*args  , ** kwargs):\n",
    "        result = func(*args , **kwargs)\n",
    "        print('Welcome User')\n",
    "        print('this is output of original function' , result)\n",
    "        print('Thank you')\n",
    "        return result \n",
    "    return wrapper"
   ]
  },
  {
   "cell_type": "code",
   "execution_count": 44,
   "id": "e5311039",
   "metadata": {},
   "outputs": [],
   "source": [
    "@welcome\n",
    "def simple_interest(P , N , R):\n",
    "    \"p: principle Amount\"\n",
    "    \"N: Number of years\"\n",
    "    \"R : interest rate\"\n",
    "    I= P*N*R/100\n",
    "    return I"
   ]
  },
  {
   "cell_type": "code",
   "execution_count": 46,
   "id": "68a168a2",
   "metadata": {},
   "outputs": [
    {
     "name": "stdout",
     "output_type": "stream",
     "text": [
      "Welcome User\n",
      "this is output of original function 72000.0\n",
      "Thank you\n"
     ]
    },
    {
     "data": {
      "text/plain": [
       "72000.0"
      ]
     },
     "execution_count": 46,
     "metadata": {},
     "output_type": "execute_result"
    }
   ],
   "source": [
    "simple_interest(450000 , 2 , 8)"
   ]
  },
  {
   "cell_type": "code",
   "execution_count": 56,
   "id": "dea6f4d8",
   "metadata": {},
   "outputs": [],
   "source": [
    "@welcome\n",
    "def fun(*args):\n",
    "    total = 0\n",
    "    for i in args:\n",
    "        total = total+i\n",
    "    return total \n"
   ]
  },
  {
   "cell_type": "code",
   "execution_count": 57,
   "id": "8037bf95",
   "metadata": {},
   "outputs": [
    {
     "name": "stdout",
     "output_type": "stream",
     "text": [
      "Welcome User\n",
      "this is output of original function 24\n",
      "Thank you\n"
     ]
    },
    {
     "data": {
      "text/plain": [
       "24"
      ]
     },
     "execution_count": 57,
     "metadata": {},
     "output_type": "execute_result"
    }
   ],
   "source": [
    "fun(3,5,4,5,7)"
   ]
  },
  {
   "cell_type": "code",
   "execution_count": 58,
   "id": "c93cd2ea",
   "metadata": {},
   "outputs": [],
   "source": [
    "@welcome\n",
    "def hotel_bill(**kwargs):\n",
    "    total_bill = 0 \n",
    "    for food , quantity in kwargs.items():\n",
    "        price = menu.get(food)\n",
    "        if price is not None:\n",
    "            subtotal= price*quantity\n",
    "            print(f'bill for {food}')\n",
    "            total_bill = total_bill + subtotal\n",
    "    \n",
    "    return total_bill"
   ]
  },
  {
   "cell_type": "code",
   "execution_count": 59,
   "id": "bd8a434f",
   "metadata": {},
   "outputs": [
    {
     "name": "stdout",
     "output_type": "stream",
     "text": [
      "bill for Pizza\n",
      "bill for Burgur\n",
      "Welcome User\n",
      "this is output of original function 1050\n",
      "Thank you\n"
     ]
    },
    {
     "data": {
      "text/plain": [
       "1050"
      ]
     },
     "execution_count": 59,
     "metadata": {},
     "output_type": "execute_result"
    }
   ],
   "source": [
    "hotel_bill(Pizza = 3 ,Burgur = 2)"
   ]
  },
  {
   "cell_type": "code",
   "execution_count": 72,
   "id": "4e884845",
   "metadata": {},
   "outputs": [],
   "source": [
    "user = {'Seeta1' : 'Seeta!123' ,\n",
    "        'Sarthak1' : 'Sarthak@123' ,\n",
    "        'Neesha5' : 'neesha@123' }"
   ]
  },
  {
   "cell_type": "code",
   "execution_count": 62,
   "id": "4e034edf",
   "metadata": {},
   "outputs": [
    {
     "data": {
      "text/plain": [
       "'Seeta!123'"
      ]
     },
     "execution_count": 62,
     "metadata": {},
     "output_type": "execute_result"
    }
   ],
   "source": [
    "user.get('Seeta1')"
   ]
  },
  {
   "cell_type": "code",
   "execution_count": 89,
   "id": "eb9ba5b7",
   "metadata": {},
   "outputs": [],
   "source": [
    "def authincate(func):\n",
    "    def wrapper(username , password ,*args  , ** kwargs):\n",
    "\n",
    "        if (username in user.keys()) and (password == user.get(username)):\n",
    "            print('Login Succesful')\n",
    "            print(f'Welcome {username}')\n",
    "            result = func(username , password ,*args  , ** kwargs)\n",
    "            return result\n",
    "        else:\n",
    "            print('Failed to login .Please Check username and password')\n",
    "    return wrapper\n"
   ]
  },
  {
   "cell_type": "code",
   "execution_count": 90,
   "id": "47805cdb",
   "metadata": {},
   "outputs": [],
   "source": [
    "@authincate\n",
    "def compound_interest(username , password , P , N , R):\n",
    "    A = P*(1+(R/100))**N\n",
    "    I = A - P\n",
    "    return A , I"
   ]
  },
  {
   "cell_type": "code",
   "execution_count": 91,
   "id": "50fb3823",
   "metadata": {},
   "outputs": [
    {
     "name": "stdout",
     "output_type": "stream",
     "text": [
      "Failed to login .Please Check username and password\n"
     ]
    }
   ],
   "source": [
    "compound_interest('Seeta1' , 'Seeta@123' , 450000 , 2 , 8 )"
   ]
  },
  {
   "cell_type": "code",
   "execution_count": 81,
   "id": "8bbac18f",
   "metadata": {},
   "outputs": [],
   "source": [
    "@authincate\n",
    "def add(username  , password  , a ,b ):\n",
    "    c  = a+b\n",
    "    return c"
   ]
  },
  {
   "cell_type": "code",
   "execution_count": 82,
   "id": "b00e253c",
   "metadata": {},
   "outputs": [
    {
     "ename": "TypeError",
     "evalue": "'NoneType' object is not callable",
     "output_type": "error",
     "traceback": [
      "\u001b[31m---------------------------------------------------------------------------\u001b[39m",
      "\u001b[31mTypeError\u001b[39m                                 Traceback (most recent call last)",
      "\u001b[36mCell\u001b[39m\u001b[36m \u001b[39m\u001b[32mIn[82]\u001b[39m\u001b[32m, line 1\u001b[39m\n\u001b[32m----> \u001b[39m\u001b[32m1\u001b[39m \u001b[43madd\u001b[49m\u001b[43m(\u001b[49m\u001b[33;43m'\u001b[39;49m\u001b[33;43ma\u001b[39;49m\u001b[33;43m'\u001b[39;49m\u001b[43m \u001b[49m\u001b[43m,\u001b[49m\u001b[43m \u001b[49m\u001b[33;43m'\u001b[39;49m\u001b[33;43mb\u001b[39;49m\u001b[33;43m'\u001b[39;49m\u001b[43m \u001b[49m\u001b[43m,\u001b[49m\u001b[43m \u001b[49m\u001b[32;43m3\u001b[39;49m\u001b[43m,\u001b[49m\u001b[43m \u001b[49m\u001b[32;43m4\u001b[39;49m\u001b[43m)\u001b[49m\n",
      "\u001b[31mTypeError\u001b[39m: 'NoneType' object is not callable"
     ]
    }
   ],
   "source": [
    "add('a' , 'b' , 3, 4)"
   ]
  },
  {
   "cell_type": "code",
   "execution_count": 83,
   "id": "103e257f",
   "metadata": {},
   "outputs": [
    {
     "name": "stdout",
     "output_type": "stream",
     "text": [
      "Login successful. Welcome Sarthak1\n",
      "Thank you for using this function.\n"
     ]
    },
    {
     "data": {
      "text/plain": [
       "(51040.12499999999, 6040.124999999993)"
      ]
     },
     "execution_count": 83,
     "metadata": {},
     "output_type": "execute_result"
    }
   ],
   "source": [
    "user = {\n",
    "    \"Sarthak1\": \"sarthak@123\",\n",
    "    \"admin\": \"admin123\"\n",
    "}\n",
    "\n",
    "# Decorator for authentication\n",
    "def Authenticate(func):\n",
    "    def wrapper(username, password, *args, **kwargs):\n",
    "        if (username in user.keys()) and (password == user.get(username)):\n",
    "            print(f'Login successful. Welcome {username}')\n",
    "            print('Thank you for using this function.')\n",
    "            result = func(username, password, *args, **kwargs)\n",
    "            return result\n",
    "        else:\n",
    "            print('Login failed. Please check username or password.')\n",
    "    return wrapper\n",
    "\n",
    "# Function to calculate compound interest\n",
    "@Authenticate\n",
    "def compound_interest(username, password, P, N, R):\n",
    "    A = P * (1 + R / 100) ** N  # compound interest formula\n",
    "    I = A - P\n",
    "    return A, I\n",
    "\n",
    "compound_interest('Sarthak1', 'sarthak@123', 45000, 2, 6.5)\n",
    "\n"
   ]
  },
  {
   "cell_type": "code",
   "execution_count": null,
   "id": "158e3b00",
   "metadata": {},
   "outputs": [],
   "source": []
  }
 ],
 "metadata": {
  "kernelspec": {
   "display_name": "venv",
   "language": "python",
   "name": "python3"
  },
  "language_info": {
   "codemirror_mode": {
    "name": "ipython",
    "version": 3
   },
   "file_extension": ".py",
   "mimetype": "text/x-python",
   "name": "python",
   "nbconvert_exporter": "python",
   "pygments_lexer": "ipython3",
   "version": "3.13.3"
  }
 },
 "nbformat": 4,
 "nbformat_minor": 5
}
